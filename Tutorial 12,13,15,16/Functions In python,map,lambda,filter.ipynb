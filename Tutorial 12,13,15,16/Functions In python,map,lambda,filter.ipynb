{
 "cells": [
  {
   "cell_type": "markdown",
   "id": "588db436-6cb6-44bd-8e34-a49c4912ab12",
   "metadata": {},
   "source": [
    "## Functions In Python"
   ]
  },
  {
   "cell_type": "code",
   "execution_count": 19,
   "id": "38fc116e-b6b2-4097-9f50-930f9dc7ec09",
   "metadata": {},
   "outputs": [],
   "source": [
    "num = 25"
   ]
  },
  {
   "cell_type": "code",
   "execution_count": 21,
   "id": "49f89b1e-5231-4e79-9cc6-843b985b85e6",
   "metadata": {},
   "outputs": [],
   "source": [
    "def even_odd(num):\n",
    "    if num%2==0:\n",
    "         print(\"Even\")\n",
    "    else:\n",
    "         print(\"odd\")"
   ]
  },
  {
   "cell_type": "code",
   "execution_count": 23,
   "id": "d193315f-cf23-4d96-a0a3-b3eae1336baa",
   "metadata": {},
   "outputs": [
    {
     "name": "stdout",
     "output_type": "stream",
     "text": [
      "odd\n"
     ]
    }
   ],
   "source": [
    "even_odd(25)"
   ]
  },
  {
   "cell_type": "code",
   "execution_count": 31,
   "id": "dc611d38-7ef5-4658-b5d9-87b2e2ce7359",
   "metadata": {},
   "outputs": [],
   "source": [
    "## print vs return\n",
    "def hello_world():\n",
    "   return \"Hello World\" \n",
    "\n",
    "\n",
    "var = hello_world()"
   ]
  },
  {
   "cell_type": "code",
   "execution_count": 33,
   "id": "3b7d143d-5773-4e6b-af24-a636064a93c6",
   "metadata": {},
   "outputs": [
    {
     "name": "stdout",
     "output_type": "stream",
     "text": [
      "Hello World\n"
     ]
    }
   ],
   "source": [
    "print(var)"
   ]
  },
  {
   "cell_type": "code",
   "execution_count": 35,
   "id": "8363a8d4-a8d5-487d-9320-13b7ac884a35",
   "metadata": {},
   "outputs": [],
   "source": [
    "def add_num(num1,num2):\n",
    "    return num1+num2"
   ]
  },
  {
   "cell_type": "code",
   "execution_count": 41,
   "id": "deb4e5bc-7159-4e8e-a85b-5676fdd1da3d",
   "metadata": {},
   "outputs": [],
   "source": [
    "a = add_num(10,30)"
   ]
  },
  {
   "cell_type": "code",
   "execution_count": 43,
   "id": "e35e2670-6384-4326-b071-fa3d643dd4b5",
   "metadata": {},
   "outputs": [
    {
     "data": {
      "text/plain": [
       "40"
      ]
     },
     "execution_count": 43,
     "metadata": {},
     "output_type": "execute_result"
    }
   ],
   "source": [
    "a"
   ]
  },
  {
   "cell_type": "code",
   "execution_count": 55,
   "id": "31cb960e-b4c8-44df-b066-6c9dfd3305c1",
   "metadata": {},
   "outputs": [],
   "source": [
    "## positional argument\n",
    "## keyword argument\n",
    "\n",
    "def hello(name,age=29):\n",
    "    print(\"My name is {} and age is {}\".format(name,age))"
   ]
  },
  {
   "cell_type": "code",
   "execution_count": 57,
   "id": "2743008d-e0b7-422d-a150-8c44cd49ce83",
   "metadata": {},
   "outputs": [
    {
     "name": "stdout",
     "output_type": "stream",
     "text": [
      "My name is Bishwasa and age is 29\n"
     ]
    }
   ],
   "source": [
    "hello(\"Bishwasa\")"
   ]
  },
  {
   "cell_type": "code",
   "execution_count": 64,
   "id": "764fbad8-d40d-44af-809d-168a53f43ba5",
   "metadata": {},
   "outputs": [],
   "source": [
    "## Another way to write positional and keyword argument\n",
    "\n",
    "def hello(*args,**kwargs):\n",
    "    print(args)\n",
    "    print(kwargs)"
   ]
  },
  {
   "cell_type": "code",
   "execution_count": 66,
   "id": "510af9d7-c6da-4e31-b9ab-10ddd96371b5",
   "metadata": {},
   "outputs": [
    {
     "name": "stdout",
     "output_type": "stream",
     "text": [
      "('GS', 'Bishwasa')\n",
      "{'age': 20, 'dob': 2005}\n"
     ]
    }
   ],
   "source": [
    "hello(\"GS\",\"Bishwasa\",age=20,dob=2005)"
   ]
  },
  {
   "cell_type": "code",
   "execution_count": 70,
   "id": "ba843263-c305-47db-9338-4ae42b48b224",
   "metadata": {},
   "outputs": [],
   "source": [
    "lst=['GS', 'Bishwasa']\n",
    "dist_args={'age': 20, 'dob': 2005}"
   ]
  },
  {
   "cell_type": "code",
   "execution_count": 72,
   "id": "acf2d063-502b-49c6-b9a9-97bce2787f35",
   "metadata": {},
   "outputs": [
    {
     "name": "stdout",
     "output_type": "stream",
     "text": [
      "('GS', 'Bishwasa')\n",
      "{'age': 20, 'dob': 2005}\n"
     ]
    }
   ],
   "source": [
    "hello(*lst,**dist_args)"
   ]
  },
  {
   "cell_type": "code",
   "execution_count": 90,
   "id": "ac01b9bc-b42d-4255-afb1-a13cd8b929b0",
   "metadata": {},
   "outputs": [],
   "source": [
    "lst = [1,2,3,4,5,6,7]"
   ]
  },
  {
   "cell_type": "code",
   "execution_count": 100,
   "id": "51135744-694e-46a0-9b47-a0e5f33004f3",
   "metadata": {},
   "outputs": [],
   "source": [
    "def evenoddsum(lst):\n",
    "    even_sum = 0\n",
    "    odd_sum = 0\n",
    "    for i in lst:\n",
    "        if i % 2 == 0:\n",
    "            even_sum += i\n",
    "        else:\n",
    "            odd_sum += i\n",
    "    return even_sum, odd_sum "
   ]
  },
  {
   "cell_type": "code",
   "execution_count": 102,
   "id": "ad81d0ca-03f0-4f04-aa98-d63224a56771",
   "metadata": {},
   "outputs": [
    {
     "data": {
      "text/plain": [
       "(12, 16)"
      ]
     },
     "execution_count": 102,
     "metadata": {},
     "output_type": "execute_result"
    }
   ],
   "source": [
    "evenoddsum(lst)"
   ]
  },
  {
   "cell_type": "markdown",
   "id": "7408b8cc-668b-4bd3-b5dc-c6f56cca649b",
   "metadata": {},
   "source": [
    "## Map Function:-"
   ]
  },
  {
   "cell_type": "code",
   "execution_count": 107,
   "id": "2d635207-b49e-4c6a-a925-abad52e13883",
   "metadata": {},
   "outputs": [],
   "source": [
    "def even_or_odd(num):\n",
    "    if num%2 == 0:\n",
    "        return \"Even\"\n",
    "    else:\n",
    "        return \"Odd\""
   ]
  },
  {
   "cell_type": "code",
   "execution_count": 109,
   "id": "51f1b604-36e6-4a7f-bb47-e88f6af16999",
   "metadata": {},
   "outputs": [
    {
     "data": {
      "text/plain": [
       "'Even'"
      ]
     },
     "execution_count": 109,
     "metadata": {},
     "output_type": "execute_result"
    }
   ],
   "source": [
    "even_or_odd(24)"
   ]
  },
  {
   "cell_type": "code",
   "execution_count": 119,
   "id": "6a59c36a-6b7c-4dfb-bfbb-0b3f141ad436",
   "metadata": {},
   "outputs": [],
   "source": [
    "lst=[1,2,3,4,5,6,7,8,9,24,56,78]"
   ]
  },
  {
   "cell_type": "code",
   "execution_count": 131,
   "id": "97df72c0-ac0e-4f31-b8c6-960e681ac863",
   "metadata": {},
   "outputs": [
    {
     "data": {
      "text/plain": [
       "['Odd',\n",
       " 'Even',\n",
       " 'Odd',\n",
       " 'Even',\n",
       " 'Odd',\n",
       " 'Even',\n",
       " 'Odd',\n",
       " 'Even',\n",
       " 'Odd',\n",
       " 'Even',\n",
       " 'Even',\n",
       " 'Even']"
      ]
     },
     "execution_count": 131,
     "metadata": {},
     "output_type": "execute_result"
    }
   ],
   "source": [
    "list(map(even_or_odd,lst))"
   ]
  },
  {
   "cell_type": "markdown",
   "id": "e2309e9d-8088-43c3-85ab-da0ec4d0e901",
   "metadata": {},
   "source": [
    "## Lambda Function:-\n",
    "\n",
    "it is also known as anonymous function\n",
    "\n",
    "A function with no name"
   ]
  },
  {
   "cell_type": "code",
   "execution_count": 139,
   "id": "d8e953cf-d0e0-4ca2-8695-3442d04774ca",
   "metadata": {},
   "outputs": [],
   "source": [
    "addition = lambda a,b:a+b"
   ]
  },
  {
   "cell_type": "code",
   "execution_count": 141,
   "id": "c24c17a5-75e5-4614-a953-669ec7756d6c",
   "metadata": {},
   "outputs": [
    {
     "data": {
      "text/plain": [
       "9"
      ]
     },
     "execution_count": 141,
     "metadata": {},
     "output_type": "execute_result"
    }
   ],
   "source": [
    "addition(4,5)"
   ]
  },
  {
   "cell_type": "code",
   "execution_count": 143,
   "id": "f5a888b9-d226-4585-ab74-e2746e4b24fc",
   "metadata": {},
   "outputs": [],
   "source": [
    "evenorodd = lambda num:num%2==0"
   ]
  },
  {
   "cell_type": "code",
   "execution_count": 145,
   "id": "e7f19ee2-50de-4569-b673-3626c2506bb1",
   "metadata": {},
   "outputs": [
    {
     "data": {
      "text/plain": [
       "True"
      ]
     },
     "execution_count": 145,
     "metadata": {},
     "output_type": "execute_result"
    }
   ],
   "source": [
    "evenorodd(30)"
   ]
  },
  {
   "cell_type": "code",
   "execution_count": 151,
   "id": "3c6e2488-52d6-4ec9-8f29-4f77da241761",
   "metadata": {},
   "outputs": [],
   "source": [
    "add = lambda x,y,z:x+y+z"
   ]
  },
  {
   "cell_type": "code",
   "execution_count": 153,
   "id": "76d465cf-1d9c-4802-9414-f1eca944e123",
   "metadata": {},
   "outputs": [
    {
     "data": {
      "text/plain": [
       "6"
      ]
     },
     "execution_count": 153,
     "metadata": {},
     "output_type": "execute_result"
    }
   ],
   "source": [
    "add(1,2,3)"
   ]
  },
  {
   "cell_type": "markdown",
   "id": "7441cb3c-ac47-4bdb-b1ae-21bb49eee6db",
   "metadata": {},
   "source": [
    "## Filter Function In Python"
   ]
  },
  {
   "cell_type": "code",
   "execution_count": 158,
   "id": "bec1aacd-cd6e-4041-a459-c03dae26ac12",
   "metadata": {},
   "outputs": [],
   "source": [
    "def even(num):\n",
    "    if num%2==0:\n",
    "        return True"
   ]
  },
  {
   "cell_type": "code",
   "execution_count": 168,
   "id": "79bc9777-1724-431e-8f1c-d6a4664ba5a9",
   "metadata": {},
   "outputs": [],
   "source": [
    "lst=[1,2,3,4,5,6,7,8,9,]"
   ]
  },
  {
   "cell_type": "code",
   "execution_count": 172,
   "id": "8778f82a-64b9-49eb-b112-8a7a040cfc43",
   "metadata": {},
   "outputs": [
    {
     "data": {
      "text/plain": [
       "[2, 4, 6, 8]"
      ]
     },
     "execution_count": 172,
     "metadata": {},
     "output_type": "execute_result"
    }
   ],
   "source": [
    "list(filter(even,lst))"
   ]
  },
  {
   "cell_type": "code",
   "execution_count": 170,
   "id": "446394ff-5220-4b9b-9bdc-b6e3f66048c3",
   "metadata": {},
   "outputs": [
    {
     "data": {
      "text/plain": [
       "[2, 4, 6, 8]"
      ]
     },
     "execution_count": 170,
     "metadata": {},
     "output_type": "execute_result"
    }
   ],
   "source": [
    "list(filter(lambda num:num%2==0,lst))"
   ]
  },
  {
   "cell_type": "code",
   "execution_count": 174,
   "id": "6408604f-d56d-430a-9b7d-7ac71d55efbd",
   "metadata": {},
   "outputs": [
    {
     "data": {
      "text/plain": [
       "[False, True, False, True, False, True, False, True, False]"
      ]
     },
     "execution_count": 174,
     "metadata": {},
     "output_type": "execute_result"
    }
   ],
   "source": [
    "list(map(lambda num:num%2==0,lst))"
   ]
  }
 ],
 "metadata": {
  "kernelspec": {
   "display_name": "Python [conda env:base] *",
   "language": "python",
   "name": "conda-base-py"
  },
  "language_info": {
   "codemirror_mode": {
    "name": "ipython",
    "version": 3
   },
   "file_extension": ".py",
   "mimetype": "text/x-python",
   "name": "python",
   "nbconvert_exporter": "python",
   "pygments_lexer": "ipython3",
   "version": "3.12.7"
  }
 },
 "nbformat": 4,
 "nbformat_minor": 5
}
