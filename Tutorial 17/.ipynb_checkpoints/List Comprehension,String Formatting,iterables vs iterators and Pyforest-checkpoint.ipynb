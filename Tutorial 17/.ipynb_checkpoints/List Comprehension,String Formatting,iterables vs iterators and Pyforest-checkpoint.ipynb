{
 "cells": [
  {
   "cell_type": "markdown",
   "id": "970d1d0e-04b8-449f-981b-a021517013c7",
   "metadata": {},
   "source": [
    "## List Comprehension\n",
    "\n",
    "##### List Comprehension provide a consine way to create lists. it consists of brackets containing an expression followed by a for clause. then zero or more for or if clauses. the expressions can be anything. meaning you can put in all kinds of objects in lists."
   ]
  },
  {
   "cell_type": "code",
   "execution_count": 4,
   "id": "6127f382-5244-4388-b577-6bef6e03d156",
   "metadata": {},
   "outputs": [],
   "source": [
    "lst1 = []\n",
    "def list_sq(lst):\n",
    "    for i in lst:\n",
    "        lst1.append(i*i)\n",
    "    return lst1"
   ]
  },
  {
   "cell_type": "code",
   "execution_count": 6,
   "id": "7555390e-8042-42d5-90d4-6fe0abeb559b",
   "metadata": {},
   "outputs": [
    {
     "data": {
      "text/plain": [
       "[1, 4, 9, 16, 25, 36, 49, 64, 81]"
      ]
     },
     "execution_count": 6,
     "metadata": {},
     "output_type": "execute_result"
    }
   ],
   "source": [
    "list_sq([1,2,3,4,5,6,7,8,9])"
   ]
  },
  {
   "cell_type": "code",
   "execution_count": 8,
   "id": "1397bc3f-2a5b-4d2b-b69d-f559ae1931e0",
   "metadata": {},
   "outputs": [],
   "source": [
    "lst = [1,2,3,4,5,6,7,8,9]"
   ]
  },
  {
   "cell_type": "code",
   "execution_count": 12,
   "id": "aa045bf4-58b0-48ce-9b4f-0699448590fe",
   "metadata": {},
   "outputs": [
    {
     "data": {
      "text/plain": [
       "[4, 16, 36, 64]"
      ]
     },
     "execution_count": 12,
     "metadata": {},
     "output_type": "execute_result"
    }
   ],
   "source": [
    "[i*i for i in lst if i%2==0]"
   ]
  },
  {
   "cell_type": "markdown",
   "id": "0cc1fdf3-8567-4c7d-8f0b-8cfaa7792ddd",
   "metadata": {},
   "source": [
    "## String Formatting in Python"
   ]
  },
  {
   "cell_type": "code",
   "execution_count": 16,
   "id": "5ea7734d-4b9d-46f1-879d-0b5fa8236f89",
   "metadata": {},
   "outputs": [
    {
     "name": "stdout",
     "output_type": "stream",
     "text": [
      "Hello World\n"
     ]
    }
   ],
   "source": [
    "print(\"Hello World\")"
   ]
  },
  {
   "cell_type": "code",
   "execution_count": 20,
   "id": "92bce7b6-4ceb-4133-a847-fdc27c89e68f",
   "metadata": {},
   "outputs": [
    {
     "data": {
      "text/plain": [
       "'Hello Duniya'"
      ]
     },
     "execution_count": 20,
     "metadata": {},
     "output_type": "execute_result"
    }
   ],
   "source": [
    "str = \"Hello Duniya\"\n",
    "str"
   ]
  },
  {
   "cell_type": "code",
   "execution_count": 22,
   "id": "968b7297-b4c7-4cd5-bbbb-13347e501d98",
   "metadata": {},
   "outputs": [],
   "source": [
    "def greeting(name):\n",
    "    return \"Hello {}\".format(name)"
   ]
  },
  {
   "cell_type": "code",
   "execution_count": 26,
   "id": "284bdd03-a200-41bf-8e5b-40da77ece729",
   "metadata": {},
   "outputs": [
    {
     "data": {
      "text/plain": [
       "'Hello Sir'"
      ]
     },
     "execution_count": 26,
     "metadata": {},
     "output_type": "execute_result"
    }
   ],
   "source": [
    "greeting(\"Sir\")"
   ]
  },
  {
   "cell_type": "code",
   "execution_count": 32,
   "id": "7ddfc41f-6457-4753-b930-20ccee88d405",
   "metadata": {},
   "outputs": [],
   "source": [
    "def welcome_email(fstname,lstname):\n",
    "    return \"Welcome {} {}\".format(fstname,lstname)"
   ]
  },
  {
   "cell_type": "code",
   "execution_count": 34,
   "id": "54fed1fb-5892-4b3a-8e0e-da040bb5cac4",
   "metadata": {},
   "outputs": [
    {
     "data": {
      "text/plain": [
       "'Welcome GS Bishwasa'"
      ]
     },
     "execution_count": 34,
     "metadata": {},
     "output_type": "execute_result"
    }
   ],
   "source": [
    "welcome_email(\"GS\",\"Bishwasa\")"
   ]
  },
  {
   "cell_type": "markdown",
   "id": "07c19486-a6ad-4e76-ab9c-e69b80830fa5",
   "metadata": {},
   "source": [
    "## Python List iterables vs iterators"
   ]
  },
  {
   "cell_type": "code",
   "execution_count": 84,
   "id": "d9cf68a1-f239-47ff-95f8-82036cf755a6",
   "metadata": {},
   "outputs": [
    {
     "name": "stdout",
     "output_type": "stream",
     "text": [
      "1\n",
      "2\n",
      "3\n",
      "4\n",
      "5\n"
     ]
    }
   ],
   "source": [
    "## list is iterable\n",
    "lst=[1,2,3,4,5]\n",
    "\n",
    "for i in lst:\n",
    "   print(i)"
   ]
  },
  {
   "cell_type": "code",
   "execution_count": 86,
   "id": "b534b31b-17eb-4d86-aa48-9f75b43833ff",
   "metadata": {},
   "outputs": [],
   "source": [
    "lst1=iter(lst)"
   ]
  },
  {
   "cell_type": "code",
   "execution_count": 88,
   "id": "854eceaa-b16c-4038-8806-9148903144dd",
   "metadata": {},
   "outputs": [
    {
     "data": {
      "text/plain": [
       "1"
      ]
     },
     "execution_count": 88,
     "metadata": {},
     "output_type": "execute_result"
    }
   ],
   "source": [
    "next(lst1)"
   ]
  },
  {
   "cell_type": "code",
   "execution_count": 90,
   "id": "92b5ec6a-7e93-4806-bcaf-6fd063d577e4",
   "metadata": {},
   "outputs": [
    {
     "name": "stdout",
     "output_type": "stream",
     "text": [
      "2\n",
      "3\n",
      "4\n",
      "5\n"
     ]
    }
   ],
   "source": [
    "for i in lst1:\n",
    "    print(i)"
   ]
  },
  {
   "cell_type": "markdown",
   "id": "497f3f42-5044-40a2-842d-59aaeb773149",
   "metadata": {},
   "source": [
    "## Pyforest - lazy import of all Python Data Science libraries\n",
    "\n",
    "##### Pyforest - lazy import of all Python Data Science libraries so that they are always there when you need them. if you dont use a library, it wont be imported. when you are done with your script, you can export the Python code for the import statements"
   ]
  },
  {
   "cell_type": "code",
   "execution_count": 1,
   "id": "26ccbe1f-0afb-40ea-960a-de87c1dfc1f7",
   "metadata": {},
   "outputs": [
    {
     "data": {
      "application/javascript": [
       "\n",
       "        if (window._pyforest_update_imports_cell) { window._pyforest_update_imports_cell('import pandas as pd'); }\n",
       "    "
      ],
      "text/plain": [
       "<IPython.core.display.Javascript object>"
      ]
     },
     "metadata": {},
     "output_type": "display_data"
    }
   ],
   "source": [
    "df = pd.read_csv(\"https://people.sc.fsu.edu/~jburkardt/data/csv/airtravel.csv\")"
   ]
  },
  {
   "cell_type": "code",
   "execution_count": 3,
   "id": "2223c1fa-c2fb-4f04-a654-8192d6264579",
   "metadata": {},
   "outputs": [
    {
     "data": {
      "text/html": [
       "<div>\n",
       "<style scoped>\n",
       "    .dataframe tbody tr th:only-of-type {\n",
       "        vertical-align: middle;\n",
       "    }\n",
       "\n",
       "    .dataframe tbody tr th {\n",
       "        vertical-align: top;\n",
       "    }\n",
       "\n",
       "    .dataframe thead th {\n",
       "        text-align: right;\n",
       "    }\n",
       "</style>\n",
       "<table border=\"1\" class=\"dataframe\">\n",
       "  <thead>\n",
       "    <tr style=\"text-align: right;\">\n",
       "      <th></th>\n",
       "      <th>Month</th>\n",
       "      <th>\"1958\"</th>\n",
       "      <th>\"1959\"</th>\n",
       "      <th>\"1960\"</th>\n",
       "    </tr>\n",
       "  </thead>\n",
       "  <tbody>\n",
       "    <tr>\n",
       "      <th>0</th>\n",
       "      <td>JAN</td>\n",
       "      <td>340</td>\n",
       "      <td>360</td>\n",
       "      <td>417</td>\n",
       "    </tr>\n",
       "    <tr>\n",
       "      <th>1</th>\n",
       "      <td>FEB</td>\n",
       "      <td>318</td>\n",
       "      <td>342</td>\n",
       "      <td>391</td>\n",
       "    </tr>\n",
       "    <tr>\n",
       "      <th>2</th>\n",
       "      <td>MAR</td>\n",
       "      <td>362</td>\n",
       "      <td>406</td>\n",
       "      <td>419</td>\n",
       "    </tr>\n",
       "    <tr>\n",
       "      <th>3</th>\n",
       "      <td>APR</td>\n",
       "      <td>348</td>\n",
       "      <td>396</td>\n",
       "      <td>461</td>\n",
       "    </tr>\n",
       "    <tr>\n",
       "      <th>4</th>\n",
       "      <td>MAY</td>\n",
       "      <td>363</td>\n",
       "      <td>420</td>\n",
       "      <td>472</td>\n",
       "    </tr>\n",
       "  </tbody>\n",
       "</table>\n",
       "</div>"
      ],
      "text/plain": [
       "  Month   \"1958\"   \"1959\"   \"1960\"\n",
       "0   JAN      340      360      417\n",
       "1   FEB      318      342      391\n",
       "2   MAR      362      406      419\n",
       "3   APR      348      396      461\n",
       "4   MAY      363      420      472"
      ]
     },
     "execution_count": 3,
     "metadata": {},
     "output_type": "execute_result"
    }
   ],
   "source": [
    "df.head()"
   ]
  }
 ],
 "metadata": {
  "kernelspec": {
   "display_name": "Python [conda env:base] *",
   "language": "python",
   "name": "conda-base-py"
  },
  "language_info": {
   "codemirror_mode": {
    "name": "ipython",
    "version": 3
   },
   "file_extension": ".py",
   "mimetype": "text/x-python",
   "name": "python",
   "nbconvert_exporter": "python",
   "pygments_lexer": "ipython3",
   "version": "3.12.7"
  }
 },
 "nbformat": 4,
 "nbformat_minor": 5
}
