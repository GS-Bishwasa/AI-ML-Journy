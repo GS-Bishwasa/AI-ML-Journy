


import matplotlib.pyplot as plt


study_hours = [1, 2, 3, 4, 5, 6, 7, 8, 9]
exam_scores = [40, 45, 90, 55, 60, 25, 75, 85, 90]


# colors = ['red' if score<50 else 'green' for score in exam_scores]
sizes = [score *2 for score in exam_scores]
social_scores = [12, 34, 67, 555, 678, 145, 56, 999, 445]
plt.scatter(study_hours, exam_scores, c=social_scores, cmap='viridis')
plt.colorbar(label="Score")
plt.grid(True)
# Add labels
for i in range(len(study_hours)):
    plt.annotate(f'S{i+1}', (study_hours[i], exam_scores[i] - 2.5))
plt.xlabel("Study Hours")
plt.title("Study vs Marks")
plt.ylabel("Exam Scores")


class_a_hours = [2, 4, 6, 8]
class_a_scores = [95, 15, 65, 85]

class_b_hours = [1, 3, 5, 7, 9]
class_b_scores = [40, 50, 60, 70, 90]


plt.scatter(class_a_hours, class_a_scores, label="A", color="blue")
plt.scatter(class_b_hours, class_b_scores, label="B", color="red")
plt.xlabel("Study Hours")
plt.title("Study vs Marks")
plt.ylabel("Exam Scores")
plt.legend()



