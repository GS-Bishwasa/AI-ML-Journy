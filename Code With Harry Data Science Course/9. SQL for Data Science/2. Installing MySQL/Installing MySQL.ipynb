{
 "cells": [
  {
   "cell_type": "markdown",
   "id": "3bb047e2",
   "metadata": {},
   "source": [
    "# Installing MySQL\n",
    "\n",
    "MySQL is a popular open-source relational database management system used for web and data-driven applications. Here's a quick guide to get it installed on your system along with **MySQL Workbench** — a graphical tool for managing databases.\n",
    "\n",
    "---\n",
    "\n",
    "## Step 1: Download MySQL Installer\n",
    "\n",
    "- Visit the official MySQL website: [https://dev.mysql.com/downloads/installer/](https://dev.mysql.com/downloads/installer/)\n",
    "- Choose the **MySQL Installer for Windows**.\n",
    "- Prefer the **full version** if you have a stable internet connection.\n",
    "\n",
    "---\n",
    "\n",
    "## Step 2: Run the Installer\n",
    "\n",
    "- Launch the installer.\n",
    "- Choose **\"Developer Default\"** to install MySQL Server, Workbench, and other useful tools.\n",
    "- Click **Next** and let the installer check for requirements.\n",
    "\n",
    "---\n",
    "\n",
    "## Step 3: Install and Configure MySQL Server\n",
    "\n",
    "- Select **MySQL Server** and **Workbench** from the list (if not preselected).\n",
    "- Click **Next → Execute** to begin installation.\n",
    "\n",
    "### Configure MySQL Server Settings:\n",
    "\n",
    "- Choose **Standalone MySQL Server**.\n",
    "- Set a **root password** (make sure to remember it).\n",
    "- (Optional) Add a new user account.\n",
    "\n",
    "---\n",
    "\n",
    "## Step 4: Finish Installation\n",
    "\n",
    "- Complete all the configuration steps.\n",
    "- Launch **MySQL Workbench** from the Start Menu.\n",
    "- Connect using your **root credentials** to start managing databases.\n",
    "\n",
    "---\n",
    "\n",
    "## ✅ You're Done!\n",
    "\n",
    "MySQL and Workbench are now ready to use. Start:\n",
    "\n",
    "- Creating databases\n",
    "- Running SQL queries\n",
    "- Building your applications with powerful data management\n"
   ]
  },
  {
   "cell_type": "markdown",
   "id": "3afcc780",
   "metadata": {},
   "source": []
  }
 ],
 "metadata": {
  "language_info": {
   "name": "python"
  }
 },
 "nbformat": 4,
 "nbformat_minor": 5
}
