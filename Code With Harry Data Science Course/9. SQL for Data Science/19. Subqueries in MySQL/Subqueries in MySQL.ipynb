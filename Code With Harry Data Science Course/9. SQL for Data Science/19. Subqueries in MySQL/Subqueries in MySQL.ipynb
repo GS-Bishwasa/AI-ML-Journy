{
 "cells": [
  {
   "cell_type": "markdown",
   "metadata": {},
   "source": [
    "# Subqueries in MySQL\n",
    "A subquery is a query nested inside another SQL query.\n",
    "It helps you perform complex filtering, calculations, or temporary data shaping by breaking down the logic into smaller steps.\n",
    "\n",
    "You can use subqueries in `SELECT`, `FROM`, or `WHERE` clauses."
   ]
  },
  {
   "cell_type": "markdown",
   "metadata": {},
   "source": [
    "## What is a Subquery?\n",
    "A subquery is enclosed in parentheses and returns data to be used by the outer query.\n",
    "It can return:\n",
    "- A single value (scalar)\n",
    "- A row\n",
    "- A full table"
   ]
  },
  {
   "cell_type": "markdown",
   "metadata": {},
   "source": [
    "### Subquery in the WHERE Clause\n",
    "**Example**: Employees who earn more than average\n",
    "```sql\n",
    "SELECT name, salary FROM employees\n",
    "WHERE salary > (SELECT AVG(salary) FROM employees);\n",
    "```\n",
    "We are telling MySQL: \"First calculate the average salary, then return employees with salaries greater than that.\""
   ]
  },
  {
   "cell_type": "markdown",
   "metadata": {},
   "source": [
    "### Subquery in the FROM Clause\n",
    "**Example**: Department-wise average salary above 50,000\n",
    "```sql\n",
    "SELECT department, avg_salary\n",
    "FROM (\n",
    "    SELECT department, AVG(salary) AS avg_salary\n",
    "    FROM employees\n",
    "    GROUP BY department\n",
    ") AS dept_avg\n",
    "WHERE avg_salary > 50000;\n",
    "```\n",
    "We are telling MySQL: \"Create a temporary table of average salaries by department, then filter departments where the average is above 50,000.\""
   ]
  },
  {
   "cell_type": "markdown",
   "metadata": {},
   "source": [
    "### Subquery in the SELECT Clause\n",
    "**Example**: Count of projects per employee\n",
    "```sql\n",
    "SELECT name,\n",
    "       (SELECT COUNT(*) FROM projects WHERE projects.employee_id = employees.id) AS project_count\n",
    "FROM employees;\n",
    "```\n",
    "This gives each employee along with the number of projects they are assigned to."
   ]
  },
  {
   "cell_type": "markdown",
   "metadata": {},
   "source": [
    "## Correlated Subqueries\n",
    "A correlated subquery depends on the outer query. It runs once for each row in the outer query.\n",
    "\n",
    "**Example**: Employee earning more than department's average\n",
    "```sql\n",
    "SELECT name, department, salary FROM employees e\n",
    "WHERE salary > (SELECT AVG(salary) FROM employees WHERE department = e.department);\n",
    "```\n",
    "We are telling MySQL: \"For each employee, compare their salary with the average salary of their department.\""
   ]
  },
  {
   "cell_type": "markdown",
   "metadata": {},
   "source": [
    "## Types of Subqueries\n",
    "| Type | Description |\n",
    "|------|-------------|\n",
    "| Scalar Subquery | Returns a single value |\n",
    "| Row Subquery | Returns one row with multiple columns |\n",
    "| Table Subquery | Returns multiple rows and columns |\n",
    "| Correlated Subquery | Refers to the outer query inside the subquery |"
   ]
  },
  {
   "cell_type": "markdown",
   "metadata": {},
   "source": [
    "## When to Use Subqueries\n",
    "- When your logic depends on calculated values (like averages or counts)\n",
    "- When you need to filter based on dynamic conditions\n",
    "- When you're breaking down complex queries for readability"
   ]
  },
  {
   "cell_type": "markdown",
   "metadata": {},
   "source": [
    "## When to Avoid Subqueries\n",
    "- When the same result can be achieved with a JOIN, which is often faster\n",
    "- When the subquery is being executed repeatedly for every row (correlated subqueries on large tables)"
   ]
  },
  {
   "cell_type": "markdown",
   "metadata": {},
   "source": [
    "## Summary\n",
    "| Clause | Use Case |\n",
    "|--------|----------|\n",
    "| WHERE | Filter based on the result of a subquery |\n",
    "| FROM | Use a subquery as a derived table |\n",
    "| SELECT | Add related calculations inline |\n",
    "\n",
    "Subqueries are powerful for solving multi-step problems and isolating logic, but be mindful of performance when working with large data sets."
   ]
  }
 ],
 "metadata": {
  "kernelspec": {
   "display_name": "Python 3",
   "language": "python",
   "name": "python3"
  },
  "language_info": {
   "name": "python",
   "version": "3.x"
  }
 },
 "nbformat": 4,
 "nbformat_minor": 5
}
