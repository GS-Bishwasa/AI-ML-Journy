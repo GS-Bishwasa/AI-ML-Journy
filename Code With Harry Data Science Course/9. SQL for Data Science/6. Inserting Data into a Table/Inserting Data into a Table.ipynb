{
  "cells": [
    {
      "cell_type": "markdown",
      "metadata": {},
      "source": [
        "# Inserting Data into a MySQL Table\n",
        "This notebook demonstrates how to:\n",
        "- Create a new database\n",
        "- Create a table\n",
        "- Insert data one row at a time\n",
        "- Insert multiple rows at once\n",
        "- Verify inserted records"
      ]
    },
    {
      "cell_type": "code",
      "execution_count": null,
      "metadata": {},
      "outputs": [],
      "source": [
        "-- Step 1: Create a New Database\n",
        "CREATE DATABASE schooldb;"
      ]
    },
    {
      "cell_type": "code",
      "execution_count": null,
      "metadata": {},
      "outputs": [],
      "source": [
        "-- Step 2: Select the Database\n",
        "USE schooldb;"
      ]
    },
    {
      "cell_type": "code",
      "execution_count": null,
      "metadata": {},
      "outputs": [],
      "source": [
        "-- Step 3: Create the student Table\n",
        "CREATE TABLE student (\n",
        "    id INT PRIMARY KEY,\n",
        "    name VARCHAR(100),\n",
        "    age INT,\n",
        "    grade VARCHAR(10),\n",
        "    date_of_birth DATE\n",
        ");"
      ]
    },
    {
      "cell_type": "code",
      "execution_count": null,
      "metadata": {},
      "outputs": [],
      "source": [
        "-- Step 4: Insert Data One Row at a Time\n",
        "INSERT INTO student (id, name, age, grade, date_of_birth) VALUES (1, 'Ayesha Khan', 16, '10th', '2007-05-15');\n",
        "INSERT INTO student (id, name, age, grade, date_of_birth) VALUES (2, 'Ravi Sharma', 17, '11th', '2006-03-22');\n",
        "INSERT INTO student (id, name, age, grade, date_of_birth) VALUES (3, 'Meena Joshi', 15, '9th', NULL);\n",
        "INSERT INTO student (id, name, age, grade, date_of_birth) VALUES (4, 'Arjun Verma', 18, '12th', NULL);\n",
        "INSERT INTO student (id, name, age, grade, date_of_birth) VALUES (5, 'Sara Ali', 16, '10th', NULL);\n",
        "INSERT INTO student (id, name, age, grade, date_of_birth) VALUES (6, 'Karan Mehta', 17, '11th', NULL);\n",
        "INSERT INTO student (id, name, age, grade, date_of_birth) VALUES (7, 'Tanya Roy', 15, '9th', NULL);\n",
        "INSERT INTO student (id, name, age, grade, date_of_birth) VALUES (8, 'Vikram Singh', 18, '12th', NULL);\n",
        "INSERT INTO student (id, name, age, grade, date_of_birth) VALUES (9, 'Anjali Desai', 16, '10th', NULL);\n",
        "INSERT INTO student (id, name, age, grade, date_of_birth) VALUES (10, 'Farhan Zaidi', 17, '11th', NULL);"
      ]
    },
    {
      "cell_type": "code",
      "execution_count": null,
      "metadata": {},
      "outputs": [],
      "source": [
        "-- Step 4: Insert All Rows at Once\n",
        "INSERT INTO student (id, name, age, grade) VALUES\n",
        "(15, 'Ayesha Khan', 16, '10th'),\n",
        "(25, 'Ravi Sharma', 17, '11th'),\n",
        "(35, 'Meena Joshi', 15, '9th'),\n",
        "(45, 'Arjun Verma', 18, '12th'),\n",
        "(55, 'Sara Ali', 16, '10th'),\n",
        "(65, 'Karan Mehta', 17, '11th'),\n",
        "(75, 'Tanya Roy', 15, '9th'),\n",
        "(85, 'Vikram Singh', 18, '12th'),\n",
        "(95, 'Anjali Desai', 16, '10th'),\n",
        "(105, 'Farhan Zaidi', 17, '11th');"
      ]
    },
    {
      "cell_type": "code",
      "execution_count": null,
      "metadata": {},
      "outputs": [],
      "source": [
        "-- Step 5: Verify the Inserted Records\n",
        "SELECT * FROM student;"
      ]
    }
  ],
  "metadata": {
    "kernelspec": {
      "display_name": "SQL",
      "language": "sql",
      "name": "SQL"
    },
    "language_info": {
      "name": "sql",
      "version": ""
    }
  },
  "nbformat": 4,
  "nbformat_minor": 5
}