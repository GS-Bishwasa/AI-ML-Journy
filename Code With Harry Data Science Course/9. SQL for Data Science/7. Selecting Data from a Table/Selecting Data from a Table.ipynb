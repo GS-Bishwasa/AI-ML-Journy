{
 "cells": [
  {
   "cell_type": "markdown",
   "id": "9191b940",
   "metadata": {},
   "source": [
    "# Selecting Data from a Table"
   ]
  },
  {
   "cell_type": "markdown",
   "id": "fbff4fa7",
   "metadata": {},
   "source": [
    "Learn how to query data from a table in MySQL using the SELECT statement, filter results using the WHERE clause, and apply different comparison operators, including working with NULL values.\n"
   ]
  },
  {
   "cell_type": "markdown",
   "id": "99365582",
   "metadata": {},
   "source": [
    "## 1. Basic SELECT Statement"
   ]
  },
  {
   "cell_type": "code",
   "execution_count": null,
   "id": "054b7ba4",
   "metadata": {},
   "outputs": [],
   "source": [
    "SELECT * FROM student;  -- Retrieve all data\n",
    "SELECT name, grade FROM student;  -- Retrieve specific columns"
   ]
  },
  {
   "cell_type": "markdown",
   "id": "a061ef28",
   "metadata": {},
   "source": [
    "## 2. Using the WHERE Clause"
   ]
  },
  {
   "cell_type": "code",
   "execution_count": null,
   "id": "9fc8a090",
   "metadata": {},
   "outputs": [],
   "source": [
    "SELECT * FROM student WHERE grade = '10th';\n",
    "SELECT * FROM student WHERE age > 16;"
   ]
  },
  {
   "cell_type": "markdown",
   "id": "6824a64c",
   "metadata": {},
   "source": [
    "## 3. Comparison Operators in MySQL"
   ]
  },
  {
   "cell_type": "markdown",
   "id": "fce77ea7",
   "metadata": {},
   "source": [
    "| Operator | Description                | Example                          |\n",
    "|----------|----------------------------|----------------------------------|\n",
    "| =        | Equals                     | WHERE age = 16                   |\n",
    "| !=       | Not equal to               | WHERE grade != '12th'           |\n",
    "| <>       | Not equal to (alternative) | WHERE grade <> '12th'           |\n",
    "| >        | Greater than               | WHERE age > 16                  |\n",
    "| <        | Less than                  | WHERE age < 17                  |\n",
    "| >=       | Greater than or equal to   | WHERE age >= 16                 |\n",
    "| <=       | Less than or equal to      | WHERE age <= 18                 |\n",
    "| BETWEEN  | Within a range             | WHERE age BETWEEN 15 AND 17     |\n",
    "| IN       | Matches any in a list      | WHERE grade IN ('10th', '12th') |\n",
    "| NOT IN   | Excludes list items        | WHERE grade NOT IN ('9th')      |\n",
    "| LIKE     | Pattern matching           | WHERE name LIKE 'A%'            |\n",
    "| NOT LIKE | Pattern not matching       | WHERE name NOT LIKE '%a'        |\n"
   ]
  },
  {
   "cell_type": "markdown",
   "id": "e9453b86",
   "metadata": {},
   "source": [
    "## 4. Handling NULL Values"
   ]
  },
  {
   "cell_type": "code",
   "execution_count": null,
   "id": "aaad8bec",
   "metadata": {},
   "outputs": [],
   "source": [
    "-- Incorrect\n",
    "SELECT * FROM student WHERE grade = NULL;  \n",
    "\n",
    "-- Correct\n",
    "SELECT * FROM student WHERE grade IS NULL;\n",
    "SELECT * FROM student WHERE grade IS NOT NULL;"
   ]
  },
  {
   "cell_type": "markdown",
   "id": "fc6f6afd",
   "metadata": {},
   "source": [
    "## 5. Combining Conditions"
   ]
  },
  {
   "cell_type": "code",
   "execution_count": null,
   "id": "443837a2",
   "metadata": {},
   "outputs": [],
   "source": [
    "SELECT * FROM student WHERE grade = '10th' AND age > 16;\n",
    "SELECT * FROM student WHERE grade = '9th' OR grade = '12th';\n",
    "SELECT * FROM student WHERE (grade = '10th' OR grade = '11th') AND age >= 16;\n"
   ]
  },
  {
   "cell_type": "markdown",
   "id": "472417b5",
   "metadata": {},
   "source": [
    "## 6. Sorting Results with ORDER BY"
   ]
  },
  {
   "cell_type": "code",
   "execution_count": null,
   "id": "67b33b44",
   "metadata": {},
   "outputs": [],
   "source": [
    "SELECT * FROM student ORDER BY age ASC;\n",
    "SELECT * FROM student ORDER BY name DESC;"
   ]
  },
  {
   "cell_type": "markdown",
   "id": "13adb679",
   "metadata": {},
   "source": [
    "## 7. Limiting Results with LIMIT"
   ]
  },
  {
   "cell_type": "code",
   "execution_count": null,
   "id": "198e841d",
   "metadata": {},
   "outputs": [],
   "source": [
    "SELECT * FROM student LIMIT 5;\n",
    "SELECT * FROM student LIMIT 2, 5;"
   ]
  },
  {
   "cell_type": "markdown",
   "id": "dd7b5721",
   "metadata": {},
   "source": [
    "## 8. Using Wildcards with LIKE"
   ]
  },
  {
   "cell_type": "markdown",
   "id": "8cf285bf",
   "metadata": {},
   "source": [
    "Two wildcards in MySQL:\n",
    "- `%` – Matches zero or more characters\n",
    "- `_` – Matches exactly one character\n"
   ]
  },
  {
   "cell_type": "code",
   "execution_count": null,
   "id": "2eab291c",
   "metadata": {},
   "outputs": [],
   "source": [
    "SELECT * FROM students WHERE name LIKE 'A%';"
   ]
  },
  {
   "cell_type": "markdown",
   "id": "c9223fae",
   "metadata": {},
   "source": [
    "### Matching Dates with _ Wildcard"
   ]
  },
  {
   "cell_type": "code",
   "execution_count": null,
   "id": "5f3e6e84",
   "metadata": {},
   "outputs": [],
   "source": [
    "SELECT * FROM attendance WHERE date LIKE '____-__-05';"
   ]
  },
  {
   "cell_type": "markdown",
   "id": "7d79f6db",
   "metadata": {},
   "source": [
    "### More Date Pattern Examples\n",
    "\n",
    "| Pattern        | Matches                            |\n",
    "|----------------|-------------------------------------|\n",
    "| '2025-05-%'    | Any day in May 2025                |\n",
    "| '2024-12-__'   | All 2-digit days in December 2024  |\n",
    "| '____-01-01'   | 1st January of any year            |\n",
    "| '202_-__-__'   | Any date in the 2020s decade       |\n",
    "| '____-__-3_'   | All dates from day 30 to 39        |\n"
   ]
  },
  {
   "cell_type": "markdown",
   "id": "e9447b76",
   "metadata": {},
   "source": [
    "### Quick Recap: LIKE Wildcard Matching"
   ]
  },
  {
   "cell_type": "markdown",
   "id": "96d15afd",
   "metadata": {},
   "source": [
    "| Pattern         | Meaning                        |\n",
    "|----------------|----------------------------------|\n",
    "| 'A%'           | Starts with A                   |\n",
    "| '%sh'          | Ends with sh                    |\n",
    "| '%ar%'         | Contains “ar”                   |\n",
    "| 'R____'        | 5-letter name starting with R   |\n",
    "| '____-__-05'   | Dates with day = 05             |\n"
   ]
  }
 ],
 "metadata": {},
 "nbformat": 4,
 "nbformat_minor": 5
}