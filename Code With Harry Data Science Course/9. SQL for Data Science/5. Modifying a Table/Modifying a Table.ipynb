{
 "cells": [
  {
   "cell_type": "markdown",
   "id": "5f7bdc03",
   "metadata": {},
   "source": [
    "# Modifying a Table in MySQL\n",
    "This notebook provides examples of how to modify an existing MySQL table using various `ALTER` and related commands."
   ]
  },
  {
   "cell_type": "markdown",
   "id": "123006e0",
   "metadata": {},
   "source": [
    "## Renaming a Table\n",
    "Use the `RENAME TABLE` command to change the name of an existing table."
   ]
  },
  {
   "cell_type": "code",
   "execution_count": null,
   "id": "dfe43387",
   "metadata": {},
   "outputs": [],
   "source": [
    "RENAME TABLE old_table_name TO new_table_name;"
   ]
  },
  {
   "cell_type": "markdown",
   "id": "e59f3708",
   "metadata": {},
   "source": [
    "## Dropping a Table\n",
    "To permanently delete a table and all of its data:"
   ]
  },
  {
   "cell_type": "code",
   "execution_count": null,
   "id": "1af89cb3",
   "metadata": {},
   "outputs": [],
   "source": [
    "DROP TABLE table_name;"
   ]
  },
  {
   "cell_type": "markdown",
   "id": "52015f19",
   "metadata": {},
   "source": [
    "## Renaming a Column\n",
    "To rename a column in an existing table:"
   ]
  },
  {
   "cell_type": "code",
   "execution_count": null,
   "id": "e7d2ec10",
   "metadata": {},
   "outputs": [],
   "source": [
    "ALTER TABLE table_name RENAME COLUMN old_column_name TO new_column_name;"
   ]
  },
  {
   "cell_type": "markdown",
   "id": "3c6146cf",
   "metadata": {},
   "source": [
    "## Dropping a Column\n",
    "To remove a column from a table:"
   ]
  },
  {
   "cell_type": "code",
   "execution_count": null,
   "id": "62d94670",
   "metadata": {},
   "outputs": [],
   "source": [
    "ALTER TABLE table_name DROP COLUMN column_name;"
   ]
  },
  {
   "cell_type": "markdown",
   "id": "61b318ed",
   "metadata": {},
   "source": [
    "## Adding a Column\n",
    "To add a new column to an existing table:"
   ]
  },
  {
   "cell_type": "code",
   "execution_count": null,
   "id": "cfa8984f",
   "metadata": {},
   "outputs": [],
   "source": [
    "ALTER TABLE table_name ADD COLUMN column_name datatype constraints;"
   ]
  },
  {
   "cell_type": "code",
   "execution_count": null,
   "id": "4c9f3eb6",
   "metadata": {},
   "outputs": [],
   "source": [
    "ALTER TABLE students ADD COLUMN gender VARCHAR(10);"
   ]
  },
  {
   "cell_type": "markdown",
   "id": "c16f434e",
   "metadata": {},
   "source": [
    "## Modifying a Column\n",
    "To change the data type or constraints of an existing column:"
   ]
  },
  {
   "cell_type": "code",
   "execution_count": null,
   "id": "bbf05345",
   "metadata": {},
   "outputs": [],
   "source": [
    "ALTER TABLE table_name MODIFY COLUMN column_name new_datatype new_constraints;"
   ]
  },
  {
   "cell_type": "code",
   "execution_count": null,
   "id": "2192fc6b",
   "metadata": {},
   "outputs": [],
   "source": [
    "ALTER TABLE students MODIFY COLUMN name VARCHAR(150) NOT NULL;"
   ]
  },
  {
   "cell_type": "markdown",
   "id": "735fca68",
   "metadata": {},
   "source": [
    "## Changing the Order of Columns\n",
    "To change the order of columns in a table, use the `MODIFY` command with the `AFTER` keyword:"
   ]
  },
  {
   "cell_type": "code",
   "execution_count": null,
   "id": "1094ef9e",
   "metadata": {},
   "outputs": [],
   "source": [
    "ALTER TABLE table_name MODIFY COLUMN column_name datatype AFTER another_column_name;"
   ]
  },
  {
   "cell_type": "markdown",
   "id": "4ece27b5",
   "metadata": {},
   "source": [
    "> **Note:** Always review changes on production databases carefully. Use tools like `DESCRIBE table_name` to verify structure before and after modifications."
   ]
  }
 ],
 "metadata": {},
 "nbformat": 4,
 "nbformat_minor": 5
}
