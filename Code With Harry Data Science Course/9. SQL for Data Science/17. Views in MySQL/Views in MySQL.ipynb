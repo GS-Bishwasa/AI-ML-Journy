{
  "cells": [
    {
      "cell_type": "markdown",
      "metadata": {},
      "source": [
        "# Views in MySQL\n",
        "A **View** in MySQL is like a virtual table. It doesn\u2019t store data by itself but instead shows data from one or more tables through a saved SQL query.\n",
        "\n",
        "You can use a view just like a regular table: `SELECT` from it, filter it, join it, etc."
      ]
    },
    {
      "cell_type": "markdown",
      "metadata": {},
      "source": [
        "## Why Use Views?\n",
        "- To simplify complex queries by giving them a name.\n",
        "- To hide sensitive columns from users.\n",
        "- To show only specific rows/columns from a table.\n",
        "- To reuse common query logic across your app or reports."
      ]
    },
    {
      "cell_type": "markdown",
      "metadata": {},
      "source": [
        "## Creating a View\n",
        "```sql\n",
        "CREATE VIEW public_employees AS\n",
        "SELECT name, department, salary\n",
        "FROM employees;\n",
        "```\n",
        "You\u2019re telling MySQL:\n",
        "> Create a view called `public_employees` that shows only `name`, `department`, and `salary` from the `employees` table."
      ]
    },
    {
      "cell_type": "markdown",
      "metadata": {},
      "source": [
        "## Using a View\n",
        "```sql\n",
        "SELECT * FROM public_employees;\n",
        "\n",
        "SELECT * FROM public_employees\n",
        "WHERE department = 'IT';\n",
        "```"
      ]
    },
    {
      "cell_type": "markdown",
      "metadata": {},
      "source": [
        "## Updating a View\n",
        "```sql\n",
        "CREATE OR REPLACE VIEW public_employees AS\n",
        "SELECT name, department\n",
        "FROM employees;\n",
        "```"
      ]
    },
    {
      "cell_type": "markdown",
      "metadata": {},
      "source": [
        "## Dropping (Deleting) a View\n",
        "```sql\n",
        "DROP VIEW public_employees;\n",
        "```"
      ]
    },
    {
      "cell_type": "markdown",
      "metadata": {},
      "source": [
        "## Notes\n",
        "- Views don\u2019t store data. If the underlying table changes, the view reflects that automatically.\n",
        "- Not all views are updatable. Simple views usually are (like those selecting from one table without grouping or joins), but complex ones may not allow `INSERT`, `UPDATE`, or `DELETE`.\n",
        "- Views can make your queries cleaner and easier to maintain."
      ]
    },
    {
      "cell_type": "markdown",
      "metadata": {},
      "source": [
        "## Example Use Case\n",
        "Instead of repeating this query 5 times across your app:\n",
        "```sql\n",
        "SELECT customer_id, name, total_orders, status\n",
        "FROM customers\n",
        "WHERE status = 'active' AND total_orders > 5;\n",
        "```\n",
        "Create a view:\n",
        "```sql\n",
        "CREATE VIEW top_customers AS\n",
        "SELECT customer_id, name, total_orders, status\n",
        "FROM customers\n",
        "WHERE status = 'active' AND total_orders > 5;\n",
        "```\n",
        "Then use it simply as:\n",
        "```sql\n",
        "SELECT * FROM top_customers;\n",
        "```"
      ]
    }
  ],
  "metadata": {
    "kernelspec": {
      "display_name": "Python 3",
      "language": "python",
      "name": "python3"
    },
    "language_info": {
      "name": "python",
      "version": "3.x"
    }
  },
  "nbformat": 4,
  "nbformat_minor": 2
}