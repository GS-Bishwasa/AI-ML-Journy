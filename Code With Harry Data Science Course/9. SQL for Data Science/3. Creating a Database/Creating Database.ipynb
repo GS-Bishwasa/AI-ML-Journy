{
 "cells": [
  {
   "cell_type": "markdown",
   "id": "043f3b7d",
   "metadata": {},
   "source": [
    "# Working with MySQL: Creating and Managing Databases"
   ]
  },
  {
   "cell_type": "markdown",
   "id": "e23939ae",
   "metadata": {},
   "source": [
    "## Creating a Database"
   ]
  },
  {
   "cell_type": "markdown",
   "id": "67ebf8c2",
   "metadata": {},
   "source": [
    "To start working with MySQL, the first step is to create a database.\n",
    "\n",
    "**Syntax:**\n",
    "```sql\n",
    "CREATE DATABASE database_name;\n",
    "```\n",
    "\n",
    "**Example:**\n",
    "```sql\n",
    "CREATE DATABASE student_db;\n",
    "```\n",
    "\n",
    "This command creates a new database named `student_db`."
   ]
  },
  {
   "cell_type": "markdown",
   "id": "2ae2b739",
   "metadata": {},
   "source": [
    "### Tips\n",
    "- Database names should be unique.\n",
    "- Avoid using spaces or special characters.\n",
    "- Use lowercase and underscores (`_`) for better readability (e.g., `employee_records`)."
   ]
  },
  {
   "cell_type": "markdown",
   "id": "a4201429",
   "metadata": {},
   "source": [
    "## Viewing All Databases"
   ]
  },
  {
   "cell_type": "markdown",
   "id": "ea0b8270",
   "metadata": {},
   "source": [
    "To see all available databases:\n",
    "\n",
    "```sql\n",
    "SHOW DATABASES;\n",
    "```"
   ]
  },
  {
   "cell_type": "markdown",
   "id": "645ca194",
   "metadata": {},
   "source": [
    "## Switching to a Database"
   ]
  },
  {
   "cell_type": "markdown",
   "id": "611d88d4",
   "metadata": {},
   "source": [
    "Before working with tables, you must select the database:\n",
    "\n",
    "```sql\n",
    "USE student_db;\n",
    "```"
   ]
  },
  {
   "cell_type": "markdown",
   "id": "94a26e86",
   "metadata": {},
   "source": [
    "## Dropping a Database"
   ]
  },
  {
   "cell_type": "markdown",
   "id": "74f37d48",
   "metadata": {},
   "source": [
    "To delete an existing database (this action is irreversible):\n",
    "\n",
    "```sql\n",
    "DROP DATABASE database_name;\n",
    "```\n",
    "\n",
    "**Example:**\n",
    "```sql\n",
    "DROP DATABASE student_db;\n",
    "```\n",
    "\n",
    "**Be very careful!** This will permanently delete all data and tables in the database."
   ]
  }
 ],
 "metadata": {},
 "nbformat": 4,
 "nbformat_minor": 5
}
