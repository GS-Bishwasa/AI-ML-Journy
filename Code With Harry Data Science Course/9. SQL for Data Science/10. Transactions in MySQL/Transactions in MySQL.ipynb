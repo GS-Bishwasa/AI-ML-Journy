{
 "cells": [
  {
   "cell_type": "markdown",
   "metadata": {},
   "source": [
    "# Transactions in MySQL\n",
    "\n",
    "This notebook explores how MySQL handles transactions using the `AUTOCOMMIT`, `COMMIT`, and `ROLLBACK` statements. Understanding these is essential for maintaining data integrity in your databases, especially in data science workflows where large and complex data operations are common."
   ]
  },
  {
   "cell_type": "markdown",
   "metadata": {},
   "source": [
    "## What is a Transaction?\n",
    "\n",
    "A transaction is a sequence of one or more SQL statements that are executed as a single unit. A transaction has four key properties, known as **ACID**:\n",
    "\n",
    "- **Atomicity**: Ensures all operations in a transaction are completed successfully or none are applied.\n",
    "- **Consistency**: Guarantees the database remains in a valid state before and after the transaction.\n",
    "- **Isolation**: Prevents transactions from interfering with each other.\n",
    "- **Durability**: Ensures changes are permanently saved after a transaction is committed."
   ]
  },
  {
   "cell_type": "markdown",
   "metadata": {},
   "source": [
    "## AUTOCOMMIT\n",
    "\n",
    "By default, MySQL runs in **autocommit** mode. This means every SQL statement is treated as a separate transaction and is committed automatically right after execution."
   ]
  },
  {
   "cell_type": "markdown",
   "metadata": {},
   "source": [
    "### Check Autocommit Status\n",
    "\n",
    "You can check the current autocommit status with the following SQL command:"
   ]
  },
  {
   "cell_type": "code",
   "execution_count": null,
   "metadata": {},
   "outputs": [],
   "source": [
    "SELECT @@autocommit;"
   ]
  },
  {
   "cell_type": "markdown",
   "metadata": {},
   "source": [
    "### Disable Autocommit\n",
    "\n",
    "To group multiple statements into a single transaction, you can disable autocommit:"
   ]
  },
  {
   "cell_type": "code",
   "execution_count": null,
   "metadata": {},
   "outputs": [],
   "source": [
    "SET autocommit = 0;"
   ]
  },
  {
   "cell_type": "markdown",
   "metadata": {},
   "source": [
    "### Enable Autocommit\n",
    "\n",
    "To re-enable autocommit mode:"
   ]
  },
  {
   "cell_type": "code",
   "execution_count": null,
   "metadata": {},
   "outputs": [],
   "source": [
    "SET autocommit = 1;"
   ]
  },
  {
   "cell_type": "markdown",
   "metadata": {},
   "source": [
    "## COMMIT\n",
    "\n",
    "The `COMMIT` statement permanently saves all changes made in the current transaction. Once committed, changes are visible to other sessions and stored permanently in the database."
   ]
  },
  {
   "cell_type": "markdown",
   "metadata": {},
   "source": [
    "### Example\n",
    "\n",
    "Here's an example of a transaction that transfers money between two accounts:"
   ]
  },
  {
   "cell_type": "code",
   "execution_count": null,
   "metadata": {},
   "outputs": [],
   "source": [
    "START TRANSACTION;\n",
    "UPDATE accounts SET balance = balance - 100 WHERE id = 1;\n",
    "UPDATE accounts SET balance = balance + 100 WHERE id = 2;\n",
    "COMMIT;"
   ]
  },
  {
   "cell_type": "markdown",
   "metadata": {},
   "source": [
    "## ROLLBACK\n",
    "\n",
    "The `ROLLBACK` statement undoes all changes made in the current transaction. It is useful if an error occurs or a condition is not met."
   ]
  },
  {
   "cell_type": "markdown",
   "metadata": {},
   "source": [
    "### Example\n",
    "\n",
    "Here's an example where a transaction is rolled back due to an error:"
   ]
  },
  {
   "cell_type": "code",
   "execution_count": null,
   "metadata": {},
   "outputs": [],
   "source": [
    "START TRANSACTION;\n",
    "UPDATE accounts SET balance = balance - 100 WHERE id = 1;\n",
    "-- An error or condition check fails here\n",
    "ROLLBACK;"
   ]
  },
  {
   "cell_type": "markdown",
   "metadata": {},
   "source": [
    "## Summary Table\n",
    "\n",
    "| Statement            | Description                              |\n",
    "|----------------------|------------------------------------------|\n",
    "| `AUTOCOMMIT`         | Automatically commits every query        |\n",
    "| `SET autocommit = 0` | Disables autocommit mode                |\n",
    "| `COMMIT`             | Saves all changes in a transaction       |\n",
    "| `ROLLBACK`           | Reverts all changes in a transaction     |"
   ]
  },
  {
   "cell_type": "markdown",
   "metadata": {},
   "source": [
    "## Best Practices\n",
    "\n",
    "- Always use transactions when performing multiple related operations.\n",
    "- Disable autocommit when working with critical data updates.\n",
    "- Rollback if any step in your transaction fails.\n",
    "- Test your transactions thoroughly before running them on production data."
   ]
  }
 ],
 "metadata": {
  "kernelspec": {
   "display_name": "Python 3",
   "language": "python",
   "name": "python3"
  },
  "language_info": {
   "codemirror_mode": {
    "name": "ipython",
    "version": 3
   },
   "file_extension": ".py",
   "mimetype": "text/x-python",
   "name": "python",
   "nbconvert_exporter": "python",
   "pygments_lexer": "ipython3",
   "version": "3.8.5"
  }
 },
 "nbformat": 4,
 "nbformat_minor": 4
}
