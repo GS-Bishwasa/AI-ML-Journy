{
  "cells": [
    {
      "cell_type": "markdown",
      "metadata": {},
      "source": [
        "# Functions in MySQL\n",
        "Functions in MySQL are like built-in tools that help you work with data \u2014 whether you're manipulating text, doing math, or working with dates.\n",
        "\n",
        "Let\u2019s explore some commonly used functions with simple examples."
      ]
    },
    {
      "cell_type": "markdown",
      "metadata": {},
      "source": [
        "## 1. CONCAT() \u2013 Join strings together\n",
        "```sql\n",
        "SELECT CONCAT('Hello', ' ', 'World') AS greeting;\n",
        "-- Output: Hello World\n",
        "\n",
        "SELECT CONCAT(first_name, ' ', last_name) AS full_name FROM users;\n",
        "```"
      ]
    },
    {
      "cell_type": "markdown",
      "metadata": {},
      "source": [
        "## 2. NOW() \u2013 Get the current date and time\n",
        "```sql\n",
        "SELECT NOW();\n",
        "-- Output: 2025-05-03 14:20:45 (example)\n",
        "```"
      ]
    },
    {
      "cell_type": "markdown",
      "metadata": {},
      "source": [
        "## 3. LENGTH() \u2013 Find length of a string (in bytes)\n",
        "```sql\n",
        "SELECT LENGTH('Harry');\n",
        "-- Output: 5\n",
        "```"
      ]
    },
    {
      "cell_type": "markdown",
      "metadata": {},
      "source": [
        "## 4. ROUND() \u2013 Round numbers to a specific number of decimal places\n",
        "```sql\n",
        "SELECT ROUND(12.6789, 2);\n",
        "-- Output: 12.68\n",
        "```"
      ]
    },
    {
      "cell_type": "markdown",
      "metadata": {},
      "source": [
        "## 5. DATEDIFF() \u2013 Difference between two dates (in days)\n",
        "```sql\n",
        "SELECT DATEDIFF('2025-06-01', '2025-05-01');\n",
        "-- Output: 31\n",
        "```"
      ]
    },
    {
      "cell_type": "markdown",
      "metadata": {},
      "source": [
        "## Comprehensive List of Useful MySQL Functions\n",
        "| Function | Description | Example Usage |\n",
        "|----------|-------------|----------------|\n",
        "| CONCAT() | Combine multiple strings | `CONCAT('A', 'B') \u2192 'AB'` |\n",
        "| LENGTH() | Length of a string (in bytes) | `LENGTH('Hi') \u2192 2` |\n",
        "| CHAR_LENGTH() | Number of characters in a string | `CHAR_LENGTH('\u0939\u093f\u0902\u0926\u0940') \u2192 5` |\n",
        "| LOWER() | Convert string to lowercase | `LOWER('MySQL') \u2192 mysql` |\n",
        "| UPPER() | Convert string to uppercase | `UPPER('hello') \u2192 HELLO` |\n",
        "| REPLACE() | Replace part of a string | `REPLACE('abc', 'b', 'x') \u2192 axc` |\n",
        "| TRIM() | Remove leading/trailing spaces | `TRIM('  hello  ') \u2192 hello` |\n",
        "| NOW() | Current date and time | `NOW()` |\n",
        "| CURDATE() | Current date only | `CURDATE()` |\n",
        "| CURTIME() | Current time only | `CURTIME()` |\n",
        "| DATE() | Extract date from datetime | `DATE(NOW())` |\n",
        "| MONTHNAME() | Get month name from date | `MONTHNAME('2025-05-03') \u2192 May` |\n",
        "| YEAR() | Extract year from date | `YEAR(NOW())` |\n",
        "| DAY() | Extract day of month | `DAY('2025-05-03') \u2192 3` |\n",
        "| DATEDIFF() | Days between two dates | `DATEDIFF('2025-06-01', '2025-05-01')` |\n",
        "| ROUND() | Round to decimal places | `ROUND(5.678, 2) \u2192 5.68` |\n",
        "| FLOOR() | Round down to nearest whole number | `FLOOR(5.9) \u2192 5` |\n",
        "| CEIL() | Round up to nearest whole number | `CEIL(5.1) \u2192 6` |\n",
        "| ABS() | Absolute value | `ABS(-10) \u2192 10` |\n",
        "| MOD() | Get remainder | `MOD(10, 3) \u2192 1` |\n",
        "| RAND() | Random decimal between 0 and 1 | `RAND()` |\n",
        "| IFNULL() | Replace NULL with a default value | `IFNULL(NULL, 'N/A') \u2192 N/A` |\n",
        "| COALESCE() | Return first non-NULL value in a list | `COALESCE(NULL, '', 'Hello') \u2192 ''` |\n",
        "| COUNT() | Count rows | `COUNT(*)` |\n",
        "| AVG() | Average of a numeric column | `AVG(score)` |\n",
        "| SUM() | Total sum of values | `SUM(score)` |\n",
        "| MIN() | Smallest value | `MIN(score)` |\n",
        "| MAX() | Largest value | `MAX(score)` |"
      ]
    }
  ],
  "metadata": {
    "kernelspec": {
      "display_name": "Python 3",
      "language": "python",
      "name": "python3"
    },
    "language_info": {
      "name": "python",
      "version": "3.x"
    }
  },
  "nbformat": 4,
  "nbformat_minor": 2
}