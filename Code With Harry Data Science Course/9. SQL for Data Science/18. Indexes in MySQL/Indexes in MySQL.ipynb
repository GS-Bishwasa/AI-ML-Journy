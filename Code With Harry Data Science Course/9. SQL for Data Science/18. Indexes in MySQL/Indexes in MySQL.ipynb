{
 "cells": [
  {
   "cell_type": "markdown",
   "metadata": {},
   "source": [
    "# Understanding Indexes in MySQL\n",
    "\n",
    "This notebook provides an overview of indexes in MySQL, explaining their purpose, usage, and best practices."
   ]
  },
  {
   "cell_type": "markdown",
   "metadata": {},
   "source": [
    "## What is an Index in MySQL?\n",
    "\n",
    "An index in MySQL is a data structure that enhances the speed of data retrieval operations, particularly for queries involving `WHERE`, `JOIN`, `ORDER BY`, or searches on large tables.\n",
    "\n",
    "**Analogy**: Think of an index as the index in a book—it allows MySQL to quickly locate relevant rows without scanning every row in the table."
   ]
  },
  {
   "cell_type": "markdown",
   "metadata": {},
   "source": [
    "## Why Use Indexes?\n",
    "\n",
    "Indexes provide the following benefits:\n",
    "- **Speed up queries**: Improve performance for searches, filters, and sorting operations.\n",
    "- **Frequent lookups**: Enhance efficiency for commonly queried columns.\n",
    "- **Scalability**: Support efficient querying as the database grows."
   ]
  },
  {
   "cell_type": "markdown",
   "metadata": {},
   "source": [
    "## How to Create an Index\n",
    "\n",
    "### 1. Single Column Index\n",
    "\n",
    "To create an index on a single column, such as the `email` column in the `users` table:\n",
    "\n",
    "```sql\n",
    "CREATE INDEX idx_email ON users(email);\n",
    "```\n",
    "\n",
    "**Explanation**: This creates a quick lookup structure for the `email` column, speeding up queries that filter or sort by email."
   ]
  },
  {
   "cell_type": "markdown",
   "metadata": {},
   "source": [
    "### 2. Multi-column (Composite) Index\n",
    "\n",
    "For queries that filter on multiple columns, such as `name` and `city`, you can create a composite index:\n",
    "\n",
    "```sql\n",
    "CREATE INDEX idx_name_city ON users(name, city);\n",
    "```\n",
    "\n",
    "**Note**: The order of columns matters. This index is most effective when queries filter on `name` and `city` in that order."
   ]
  },
  {
   "cell_type": "markdown",
   "metadata": {},
   "source": [
    "## How to Delete (Drop) an Index\n",
    "\n",
    "To remove an index from a table:\n",
    "\n",
    "```sql\n",
    "DROP INDEX idx_email ON users;\n",
    "```\n",
    "\n",
    "**Explanation**: This removes the index named `idx_email` from the `users` table, freeing up space but potentially slowing down queries that relied on it."
   ]
  },
  {
   "cell_type": "markdown",
   "metadata": {},
   "source": [
    "## When to Use Indexes\n",
    "\n",
    "Indexes are beneficial in the following scenarios:\n",
    "- Columns frequently used in `WHERE`, `JOIN`, or `ORDER BY` clauses.\n",
    "- Queries involving unique fields like `email`, `username`, or `ID`.\n",
    "- Filtering large tables for specific values.\n",
    "- Improving performance of lookups and joins."
   ]
  },
  {
   "cell_type": "markdown",
   "metadata": {},
   "source": [
    "## When Not to Use Indexes\n",
    "\n",
    "Avoid indexes in these cases:\n",
    "- Small tables where MySQL can quickly scan all rows.\n",
    "- Columns rarely used in searches or filtering.\n",
    "- Columns with low cardinality (few unique values, e.g., a `gender` field with only 'M' and 'F').\n",
    "- Tables with frequent inserts or updates, as indexes can slow down write operations."
   ]
  },
  {
   "cell_type": "markdown",
   "metadata": {},
   "source": [
    "## Viewing Existing Indexes\n",
    "\n",
    "To list all indexes on a table:\n",
    "\n",
    "```sql\n",
    "SHOW INDEX FROM users;\n",
    "```\n",
    "\n",
    "This command displays all indexes defined on the `users` table, including their names and columns."
   ]
  },
  {
   "cell_type": "markdown",
   "metadata": {},
   "source": [
    "## Summary\n",
    "\n",
    "| **Action**       | **Syntax Example**                     |\n",
    "|------------------|----------------------------------------|\n",
    "| Create index     | `CREATE INDEX idx_name ON table(column);` |\n",
    "| Delete index     | `DROP INDEX idx_name ON table;`        |\n",
    "| List indexes     | `SHOW INDEX FROM table;`               |\n",
    "\n",
    "**Key Takeaway**: Indexes are powerful for improving query performance, but overusing them or indexing inappropriate columns can degrade performance. Analyze your query patterns to decide where indexes are needed."
   ]
  }
 ],
 "metadata": {
  "kernelspec": {
   "display_name": "Python 3",
   "language": "python",
   "name": "python3"
  },
  "language_info": {
   "codemirror_mode": {
    "name": "ipython",
    "version": 3
   },
   "file_extension": ".py",
   "mimetype": "text/x-python",
   "name": "python",
   "nbconvert_exporter": "python",
   "pygments_lexer": "ipython3",
   "version": "3.8.5"
  }
 },
 "nbformat": 4,
 "nbformat_minor": 4
}