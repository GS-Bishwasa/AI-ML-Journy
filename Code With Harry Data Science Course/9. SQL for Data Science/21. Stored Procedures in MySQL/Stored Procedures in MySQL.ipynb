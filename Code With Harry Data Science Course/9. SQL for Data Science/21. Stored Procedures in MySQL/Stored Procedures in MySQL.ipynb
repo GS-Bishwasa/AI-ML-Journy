{
    "cells": [
        {
            "cell_type": "markdown",
            "metadata": {},
            "source": [
                "# Stored Procedures in MySQL\n",
                "A **Stored Procedure** is a saved block of SQL code that you can execute later by calling its name.\n",
                "It allows you to group SQL statements and reuse them—just like a function in programming."
            ]
        },
        {
            "cell_type": "markdown",
            "metadata": {},
            "source": [
                "## Why Use Stored Procedures?\n",
                "- To avoid repeating the same SQL logic in multiple places\n",
                "- To improve performance by reducing network traffic\n",
                "- To encapsulate complex business logic inside the database"
            ]
        },
        {
            "cell_type": "markdown",
            "metadata": {},
            "source": [
                "## Creating a Stored Procedure\n",
                "When you create a stored procedure, you need to temporarily change the SQL statement delimiter from `;` to something else like `//` or `$$`."
            ]
        },
        {
            "cell_type": "markdown",
            "metadata": {},
            "source": [
                "### Why Change the DELIMITER?\n",
                "MySQL ends a command at the first `;`. Since stored procedures contain multiple SQL statements (each ending in `;`), we need to tell MySQL not to end the procedure too early.\n",
                "So we temporarily change the delimiter to something else—then switch it back."
            ]
        },
        {
            "cell_type": "markdown",
            "metadata": {},
            "source": [
                "### Example: Simple Procedure to List All Employees\n",
                "```sql\n",
                "DELIMITER //\n",
                "\n",
                "CREATE PROCEDURE list_employees()\n",
                "BEGIN\n",
                "    SELECT * FROM employees;\n",
                "END //\n",
                "\n",
                "DELIMITER ;\n",
                "```\n",
                "This creates a procedure named `list_employees`."
            ]
        },
        {
            "cell_type": "markdown",
            "metadata": {},
            "source": [
                "## Calling a Stored Procedure\n",
                "You use the `CALL` statement:\n",
                "```sql\n",
                "CALL list_employees();\n",
                "```"
            ]
        },
        {
            "cell_type": "markdown",
            "metadata": {},
            "source": [
                "## Stored Procedure with Parameters\n",
                "You can pass values into procedures using the `IN` keyword."
            ]
        },
        {
            "cell_type": "markdown",
            "metadata": {},
            "source": [
                "### Example: Get details of an employee by ID\n",
                "```sql\n",
                "DELIMITER //\n",
                "\n",
                "CREATE PROCEDURE get_employee_by_id(IN emp_id INT)\n",
                "BEGIN\n",
                "    SELECT * FROM employees WHERE id = emp_id;\n",
                "END //\n",
                "\n",
                "DELIMITER ;\n",
                "```\n",
                "Here, `IN emp_id INT` means:\n",
                "> “Take an integer input called emp_id when this procedure is called.”"
            ]
        },
        {
            "cell_type": "markdown",
            "metadata": {},
            "source": [
                "### Call it like this:\n",
                "```sql\n",
                "CALL get_employee_by_id(3);\n",
                "```"
            ]
        },
        {
            "cell_type": "markdown",
            "metadata": {},
            "source": [
                "## Dropping a Stored Procedure\n",
                "To delete a stored procedure:\n",
                "```sql\n",
                "DROP PROCEDURE IF EXISTS get_employee_by_id;\n",
                "```\n",
                "This ensures it doesn’t throw an error if the procedure doesn’t exist."
            ]
        },
        {
            "cell_type": "markdown",
            "metadata": {},
            "source": [
                "## Summary\n",
                "| Task | SQL Command |\n",
                "|------|--------------|\n",
                "| Create Procedure | `CREATE PROCEDURE` |\n",
                "| Change Delimiter | `DELIMITER //` (or any unique symbol) |\n",
                "| Call a Procedure | `CALL procedure_name();` |\n",
                "| With Input Parameter | `IN param_name data_type` |\n",
                "| Drop a Procedure | `DROP PROCEDURE IF EXISTS procedure_name;` |"
            ]
        },
        {
            "cell_type": "markdown",
            "metadata": {},
            "source": [
                "## Best Practices\n",
                "- Always give clear names to procedures.\n",
                "- Use `IN`, `OUT`, or `INOUT` for flexible parameter handling.\n",
                "- Keep business logic in the database only if it improves clarity or performance."
            ]
        }
    ],
    "metadata": {
        "kernelspec": {
            "display_name": "Python 3",
            "language": "python",
            "name": "python3"
        },
        "language_info": {
            "name": "python",
            "version": "3.x"
        }
    },
    "nbformat": 4,
    "nbformat_minor": 5
}