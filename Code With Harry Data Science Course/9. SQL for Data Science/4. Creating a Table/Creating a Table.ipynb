{
 "cells": [
  {
   "cell_type": "markdown",
   "id": "0d390ea3",
   "metadata": {},
   "source": [
    "# Creating a Table in SQL"
   ]
  },
  {
   "cell_type": "markdown",
   "id": "abef0fef",
   "metadata": {},
   "source": [
    "Once you have selected a database, you can create tables to organize and store data."
   ]
  },
  {
   "cell_type": "markdown",
   "id": "b357ae99",
   "metadata": {},
   "source": [
    "## Syntax"
   ]
  },
  {
   "cell_type": "code",
   "execution_count": null,
   "id": "f541481c",
   "metadata": {},
   "outputs": [],
   "source": [
    "\n",
    "CREATE TABLE table_name (\n",
    "  column1 datatype constraints,\n",
    "  column2 datatype constraints,\n",
    "  ...\n",
    ");\n"
   ]
  },
  {
   "cell_type": "markdown",
   "id": "45cecfe6",
   "metadata": {},
   "source": [
    "## Example"
   ]
  },
  {
   "cell_type": "code",
   "execution_count": null,
   "id": "52d117e4",
   "metadata": {},
   "outputs": [],
   "source": [
    "\n",
    "CREATE TABLE students (\n",
    "  id INT AUTO_INCREMENT PRIMARY KEY,\n",
    "  name VARCHAR(100) NOT NULL DEFAULT 'No Name',\n",
    "  age INT,\n",
    "  email VARCHAR(100) UNIQUE,\n",
    "  admission_date DATE\n",
    ");\n"
   ]
  },
  {
   "cell_type": "markdown",
   "id": "640111f6",
   "metadata": {},
   "source": [
    "## Explanation"
   ]
  },
  {
   "cell_type": "markdown",
   "id": "a1b8727c",
   "metadata": {},
   "source": [
    "\n",
    "- `id INT AUTO_INCREMENT PRIMARY KEY` – A unique identifier for each student that auto-increments.\n",
    "- `name VARCHAR(100) NOT NULL DEFAULT 'No Name'` – Name must be provided, with a default value.\n",
    "- `age INT` – Stores numeric values for age.\n",
    "- `email VARCHAR(100) UNIQUE` – Each email must be different.\n",
    "- `admission_date DATE` – Stores the date of admission.\n"
   ]
  },
  {
   "cell_type": "markdown",
   "id": "6cbf3cb4",
   "metadata": {},
   "source": [
    "## Commonly Used Data Types"
   ]
  },
  {
   "cell_type": "markdown",
   "id": "960a6993",
   "metadata": {},
   "source": [
    "\n",
    "- `INT` – Whole numbers (e.g., age, quantity)  \n",
    "- `VARCHAR(n)` – Variable-length string (e.g., names, emails)  \n",
    "- `TEXT` – Long text strings (e.g., descriptions)  \n",
    "- `DATE` – Stores date values (YYYY-MM-DD)  \n",
    "- `DATETIME` – Stores date and time values  \n",
    "- `BOOLEAN` – Stores TRUE or FALSE  \n"
   ]
  },
  {
   "cell_type": "markdown",
   "id": "76b0005a",
   "metadata": {},
   "source": [
    "## Common Constraints"
   ]
  },
  {
   "cell_type": "markdown",
   "id": "e8af28e6",
   "metadata": {},
   "source": [
    "\n",
    "- `PRIMARY KEY` – Uniquely identifies each record  \n",
    "- `NOT NULL` – Ensures the column cannot be left empty  \n",
    "- `UNIQUE` – Ensures all values in a column are different  \n",
    "- `AUTO_INCREMENT` – Automatically increases numeric values  \n",
    "- `DEFAULT` – Sets a default value for the column  \n",
    "- `FOREIGN KEY` – Enforces relationships between tables  \n"
   ]
  },
  {
   "cell_type": "markdown",
   "id": "0eb6c285",
   "metadata": {},
   "source": [
    "## View All Tables"
   ]
  },
  {
   "cell_type": "code",
   "execution_count": null,
   "id": "d42125c9",
   "metadata": {},
   "outputs": [],
   "source": [
    "SHOW TABLES;"
   ]
  },
  {
   "cell_type": "markdown",
   "id": "d811c81a",
   "metadata": {},
   "source": [
    "## View Table Structure"
   ]
  },
  {
   "cell_type": "code",
   "execution_count": null,
   "id": "96e252ee",
   "metadata": {},
   "outputs": [],
   "source": [
    "DESCRIBE students;"
   ]
  },
  {
   "cell_type": "markdown",
   "id": "612c62a6",
   "metadata": {},
   "source": [
    "## Viewing Table Data"
   ]
  },
  {
   "cell_type": "code",
   "execution_count": null,
   "id": "0ee84e58",
   "metadata": {},
   "outputs": [],
   "source": [
    "SELECT * FROM students;"
   ]
  },
  {
   "cell_type": "markdown",
   "id": "e59aa292",
   "metadata": {},
   "source": [
    "Tables are the backbone of any relational database. A well-structured table leads to efficient data management and fewer issues later on."
   ]
  }
 ],
 "metadata": {},
 "nbformat": 4,
 "nbformat_minor": 5
}
