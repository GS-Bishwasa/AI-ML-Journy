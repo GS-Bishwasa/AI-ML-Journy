{
 "cells": [
  {
   "cell_type": "markdown",
   "id": "61f90cc2-348b-4f7e-9251-56102a04bb69",
   "metadata": {},
   "source": [
    "### Indexing (Same as Python Lists)"
   ]
  },
  {
   "cell_type": "code",
   "execution_count": 2,
   "id": "93678991-cb0e-4235-8ccc-6e790791f159",
   "metadata": {},
   "outputs": [
    {
     "data": {
      "application/javascript": [
       "\n",
       "        if (window._pyforest_update_imports_cell) { window._pyforest_update_imports_cell('import numpy as np'); }\n",
       "    "
      ],
      "text/plain": [
       "<IPython.core.display.Javascript object>"
      ]
     },
     "metadata": {},
     "output_type": "display_data"
    },
    {
     "name": "stdout",
     "output_type": "stream",
     "text": [
      "10\n",
      "40\n"
     ]
    }
   ],
   "source": [
    "arr = np.array([10, 20, 30, 40])\n",
    "print(arr[0])  # 10\n",
    "print(arr[-1]) # 40"
   ]
  },
  {
   "cell_type": "markdown",
   "id": "fb1abb91-2a48-4cc4-8d7a-501d760fec2a",
   "metadata": {},
   "source": [
    "### Slicing (Extracting Parts of an Array)"
   ]
  },
  {
   "cell_type": "code",
   "execution_count": 5,
   "id": "af3c640a-5407-44d0-bd1e-a0d93fe0a981",
   "metadata": {},
   "outputs": [
    {
     "data": {
      "application/javascript": [
       "\n",
       "        if (window._pyforest_update_imports_cell) { window._pyforest_update_imports_cell('import numpy as np'); }\n",
       "    "
      ],
      "text/plain": [
       "<IPython.core.display.Javascript object>"
      ]
     },
     "metadata": {},
     "output_type": "display_data"
    },
    {
     "name": "stdout",
     "output_type": "stream",
     "text": [
      "[20 30 40]\n",
      "[10 20 30]\n",
      "[10 30 50]\n"
     ]
    }
   ],
   "source": [
    "arr = np.array([10, 20, 30, 40, 50])\n",
    "\n",
    "print(arr[1:4])  # [20 30 40] (slice from index 1 to 3)\n",
    "print(arr[:3])   # [10 20 30] (first 3 elements)\n",
    "print(arr[::2])  # [10 30 50] (every 2nd element)"
   ]
  },
  {
   "cell_type": "markdown",
   "id": "2dd5abe2-a9d4-40e2-a356-2f426f239b69",
   "metadata": {},
   "source": [
    "### Slicing returns a view, not a copy! Changes affect the original array.**\n",
    "##### This might seem counterintuitive since Python lists create copies when sliced. But in NumPy, slicing returns a view of the original array. Both the sliced array and the original array share the same data in memory, so changes in the slice affect the original array.\n",
    "\n",
    "#### Why does this happen?\n",
    "##### Memory Efficiency: Avoids unnecessary copies, making operations faster and saving memory.\n",
    "##### Performance: Enables faster access and manipulation of large datasets without duplicating data.\n",
    "\n",
    "\n",
    "\n",
    "##### Use .copy() if you need an independent copy."
   ]
  },
  {
   "cell_type": "code",
   "execution_count": 10,
   "id": "0ebc28e9-93bf-4a90-aa76-cd1cdcea54b6",
   "metadata": {},
   "outputs": [
    {
     "name": "stdout",
     "output_type": "stream",
     "text": [
      "[ 10 999  30  40  50]\n"
     ]
    }
   ],
   "source": [
    "sliced = arr[1:4]\n",
    "sliced[0] = 999\n",
    "print(arr)  # [10 999 30 40 50]"
   ]
  },
  {
   "cell_type": "markdown",
   "id": "b9c074e2-f9c6-4619-a2d6-83788448f6ea",
   "metadata": {},
   "source": [
    "### Fancy Indexing & Boolean Masking\n",
    "##### Fancy Indexing (Select Multiple Elements)"
   ]
  },
  {
   "cell_type": "code",
   "execution_count": 14,
   "id": "da042587-8313-4e01-97d8-71802df48f22",
   "metadata": {},
   "outputs": [
    {
     "data": {
      "application/javascript": [
       "\n",
       "        if (window._pyforest_update_imports_cell) { window._pyforest_update_imports_cell('import numpy as np'); }\n",
       "    "
      ],
      "text/plain": [
       "<IPython.core.display.Javascript object>"
      ]
     },
     "metadata": {},
     "output_type": "display_data"
    },
    {
     "name": "stdout",
     "output_type": "stream",
     "text": [
      "[10 30 50]\n"
     ]
    }
   ],
   "source": [
    "arr = np.array([10, 20, 30, 40, 50])\n",
    "idx = [0, 2, 4]  # Indices to select\n",
    "print(arr[idx])  # [10 30 50]"
   ]
  },
  {
   "cell_type": "markdown",
   "id": "6f27e07e-3194-40eb-8aa4-a1af13781f7e",
   "metadata": {},
   "source": [
    "### Boolean Masking (Filter Data)\n",
    "##### This is a powerful way to filter large datasets efficiently!"
   ]
  },
  {
   "cell_type": "code",
   "execution_count": 17,
   "id": "a9d3cb5d-5259-46a2-8c12-022b36371516",
   "metadata": {},
   "outputs": [
    {
     "data": {
      "application/javascript": [
       "\n",
       "        if (window._pyforest_update_imports_cell) { window._pyforest_update_imports_cell('import numpy as np'); }\n",
       "    "
      ],
      "text/plain": [
       "<IPython.core.display.Javascript object>"
      ]
     },
     "metadata": {},
     "output_type": "display_data"
    },
    {
     "name": "stdout",
     "output_type": "stream",
     "text": [
      "[30 40 50]\n"
     ]
    }
   ],
   "source": [
    "arr = np.array([10, 20, 30, 40, 50])\n",
    "mask = arr > 25  # Condition: values greater than 25\n",
    "print(arr[mask])  # [30 40 50]"
   ]
  },
  {
   "cell_type": "markdown",
   "id": "b61ea55c-a055-41b7-bd62-49dc08886c4c",
   "metadata": {},
   "source": [
    "### Exercises for Practice\n",
    "##### Create a 3×3 array filled with random numbers and print its shape.\n",
    "##### Convert an array of floats [1.1, 2.2, 3.3] into integers.\n",
    "##### Use fancy indexing to extract even numbers from [1, 2, 3, 4, 5, 6].\n",
    "##### Reshape a 1D array of size 9 into a 3×3 matrix.\n",
    "##### Use boolean masking to filter numbers greater than 50 in an array."
   ]
  },
  {
   "cell_type": "code",
   "execution_count": 30,
   "id": "647cf974-923f-405e-8af7-037242375495",
   "metadata": {},
   "outputs": [
    {
     "data": {
      "application/javascript": [
       "\n",
       "        if (window._pyforest_update_imports_cell) { window._pyforest_update_imports_cell('import numpy as np'); }\n",
       "    "
      ],
      "text/plain": [
       "<IPython.core.display.Javascript object>"
      ]
     },
     "metadata": {},
     "output_type": "display_data"
    },
    {
     "data": {
      "text/plain": [
       "(3, 3)"
      ]
     },
     "execution_count": 30,
     "metadata": {},
     "output_type": "execute_result"
    }
   ],
   "source": [
    "arr = np.random.randint(0, 10, size=(3, 3))\n",
    "arr.shape"
   ]
  },
  {
   "cell_type": "code",
   "execution_count": 61,
   "id": "068af69c-6c19-4c95-8fc4-4ccd9624daa8",
   "metadata": {},
   "outputs": [
    {
     "data": {
      "application/javascript": [
       "\n",
       "        if (window._pyforest_update_imports_cell) { window._pyforest_update_imports_cell('import numpy as np'); }\n",
       "    "
      ],
      "text/plain": [
       "<IPython.core.display.Javascript object>"
      ]
     },
     "metadata": {},
     "output_type": "display_data"
    },
    {
     "data": {
      "application/javascript": [
       "\n",
       "        if (window._pyforest_update_imports_cell) { window._pyforest_update_imports_cell('import numpy as np'); }\n",
       "    "
      ],
      "text/plain": [
       "<IPython.core.display.Javascript object>"
      ]
     },
     "metadata": {},
     "output_type": "display_data"
    },
    {
     "data": {
      "text/plain": [
       "array([1, 2, 3])"
      ]
     },
     "execution_count": 61,
     "metadata": {},
     "output_type": "execute_result"
    }
   ],
   "source": [
    "arr = np.array([1.1,2.2,3.3])\n",
    "arr.astype(np.int32)"
   ]
  },
  {
   "cell_type": "code",
   "execution_count": 63,
   "id": "90693f00-6222-4c15-a10e-daae82686163",
   "metadata": {},
   "outputs": [
    {
     "data": {
      "application/javascript": [
       "\n",
       "        if (window._pyforest_update_imports_cell) { window._pyforest_update_imports_cell('import numpy as np'); }\n",
       "    "
      ],
      "text/plain": [
       "<IPython.core.display.Javascript object>"
      ]
     },
     "metadata": {},
     "output_type": "display_data"
    },
    {
     "data": {
      "text/plain": [
       "array([[1, 2, 3],\n",
       "       [4, 5, 6],\n",
       "       [7, 8, 9]])"
      ]
     },
     "execution_count": 63,
     "metadata": {},
     "output_type": "execute_result"
    }
   ],
   "source": [
    "arr = np.array([1,2,3,4,5,6,7,8,9])\n",
    "arr.reshape((3,3))"
   ]
  },
  {
   "cell_type": "code",
   "execution_count": null,
   "id": "5638659d-e7e4-4e7d-a25c-ccbfefa956c0",
   "metadata": {},
   "outputs": [],
   "source": []
  }
 ],
 "metadata": {
  "kernelspec": {
   "display_name": "Python [conda env:base] *",
   "language": "python",
   "name": "conda-base-py"
  },
  "language_info": {
   "codemirror_mode": {
    "name": "ipython",
    "version": 3
   },
   "file_extension": ".py",
   "mimetype": "text/x-python",
   "name": "python",
   "nbconvert_exporter": "python",
   "pygments_lexer": "ipython3",
   "version": "3.12.7"
  }
 },
 "nbformat": 4,
 "nbformat_minor": 5
}
