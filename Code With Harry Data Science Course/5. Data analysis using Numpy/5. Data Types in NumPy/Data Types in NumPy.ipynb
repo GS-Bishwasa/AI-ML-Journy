{
 "cells": [
  {
   "cell_type": "markdown",
   "id": "498b7aa9-1f21-4d92-be83-b2da094476aa",
   "metadata": {},
   "source": [
    "### 1. Introduction to NumPy Data Types\n",
    "##### NumPy arrays are homogeneous, meaning that they can only store elements of the same type. This is different from Python lists, which can hold mixed data types. NumPy supports various data types (also called dtypes), and understanding them is crucial for optimizing memory usage and performance."
   ]
  },
  {
   "cell_type": "markdown",
   "id": "a1cbead9-573f-4e8b-af91-a1154205798b",
   "metadata": {},
   "source": [
    "### Common Data Types in NumPy:\n",
    " ##### int32, int64: Integer types with different bit sizes.\n",
    " ##### float32, float64: Floating-point types with different precision.\n",
    " ##### bool: Boolean data type.\n",
    " ##### complex64, complex128: Complex number types.\n",
    " ##### object: For storing objects (e.g., Python objects, strings).\n",
    "#### You can check the dtype of a NumPy array using the .dtype attribute."
   ]
  },
  {
   "cell_type": "code",
   "execution_count": 6,
   "id": "4eb62793-051a-4d4e-b7b5-4d926d593717",
   "metadata": {},
   "outputs": [
    {
     "name": "stdout",
     "output_type": "stream",
     "text": [
      "int32\n"
     ]
    }
   ],
   "source": [
    "import numpy as np\n",
    "\n",
    "arr = np.array([1, 2, 3, 4, 5])\n",
    "print(arr.dtype)  # Output: int64 (or int32 depending on the system)"
   ]
  },
  {
   "cell_type": "markdown",
   "id": "02f3c8a8-470c-4be1-8552-68f8e2e6b941",
   "metadata": {},
   "source": [
    "### 2. Changing Data Types\n",
    "##### You can cast (convert) the data type of an array using the .astype() method. This is useful when you need to change the type for a specific operation or when you want to reduce memory usage."
   ]
  },
  {
   "cell_type": "code",
   "execution_count": 9,
   "id": "5b30c536-3acf-4c1b-b616-8b1df1ba35a1",
   "metadata": {},
   "outputs": [
    {
     "name": "stdout",
     "output_type": "stream",
     "text": [
      "float64\n",
      "[1 2 3]\n",
      "int32\n"
     ]
    }
   ],
   "source": [
    "#Example: Changing Data Types\n",
    "arr = np.array([1.5, 2.7, 3.9])\n",
    "print(arr.dtype)  # Output: float64\n",
    "\n",
    "arr_int = arr.astype(np.int32)  # Converting float to int\n",
    "print(arr_int)    # Output: [1 2 3]\n",
    "print(arr_int.dtype)  # Output: int32"
   ]
  },
  {
   "cell_type": "code",
   "execution_count": 11,
   "id": "d29a6fd8-1a0a-49f7-aa0f-d7a7888a14e0",
   "metadata": {},
   "outputs": [
    {
     "name": "stdout",
     "output_type": "stream",
     "text": [
      "[1000000 2000000 3000000]\n",
      "int32\n"
     ]
    }
   ],
   "source": [
    "#Example: Changing Data Types\n",
    "arr_large = np.array([1000000, 2000000, 3000000], dtype=np.int64)\n",
    "arr_small = arr_large.astype(np.int32)  # Downcasting to a smaller dtype\n",
    "print(arr_small)  # Output: [1000000 2000000 3000000]\n",
    "print(arr_small.dtype)  # Output: int32"
   ]
  },
  {
   "cell_type": "markdown",
   "id": "f3239285-5a31-4432-b0e5-e9e82eab3702",
   "metadata": {},
   "source": [
    "## 3. Why Data Types Matter in NumPy\n",
    "### The choice of data type affects:\n",
    "\n",
    "##### Memory Usage: Smaller data types use less memory.\n",
    "##### Performance: Operations on smaller data types are faster due to less data being processed.\n",
    "##### Precision: Choosing the appropriate data type ensures that you don't lose precision (e.g., using float32 instead of float64 if you don't need that extra precision)."
   ]
  },
  {
   "cell_type": "code",
   "execution_count": 14,
   "id": "301cd6bc-ff80-496b-8944-ba698cf26317",
   "metadata": {},
   "outputs": [
    {
     "name": "stdout",
     "output_type": "stream",
     "text": [
      "24\n",
      "12\n"
     ]
    }
   ],
   "source": [
    "#Example: Memory Usage\n",
    "arr_int64 = np.array([1, 2, 3], dtype=np.int64)\n",
    "arr_int32 = np.array([1, 2, 3], dtype=np.int32)\n",
    "\n",
    "print(arr_int64.nbytes)  # Output: 24 bytes (3 elements * 8 bytes each)\n",
    "print(arr_int32.nbytes)  # Output: 12 bytes (3 elements * 4 bytes each)"
   ]
  },
  {
   "cell_type": "markdown",
   "id": "b1ee066e-5041-4495-9888-082c35177d5b",
   "metadata": {},
   "source": [
    "### 4. String Data Type in NumPy\n",
    "##### Although NumPy arrays typically store numerical data, you can also store strings by using the dtype='str' or dtype='U' (Unicode string) format. However, working with strings in NumPy is less efficient than using lists or Python's built-in string types."
   ]
  },
  {
   "cell_type": "code",
   "execution_count": 18,
   "id": "db6c9748-ac5a-4017-8799-1fe1b7eb1a90",
   "metadata": {},
   "outputs": [
    {
     "name": "stdout",
     "output_type": "stream",
     "text": [
      "['apple' 'banana' 'cherry']\n"
     ]
    }
   ],
   "source": [
    "#Example: String Array\n",
    "arr = np.array(['apple', 'banana', 'cherry'], dtype='U10')  # Unicode string array\n",
    "print(arr)"
   ]
  },
  {
   "cell_type": "markdown",
   "id": "9cdbd6c8-defa-44bf-91f8-e1acb4bb98f9",
   "metadata": {},
   "source": [
    "### 5. Complex Numbers\n",
    "##### NumPy also supports complex numbers, which consist of a real and imaginary part. You can store complex numbers using complex64 or complex128 data types."
   ]
  },
  {
   "cell_type": "code",
   "execution_count": 21,
   "id": "287c6d32-6966-4381-9deb-e82ddc83d71b",
   "metadata": {},
   "outputs": [
    {
     "name": "stdout",
     "output_type": "stream",
     "text": [
      "[1.+2.j 3.+4.j 5.+6.j]\n"
     ]
    }
   ],
   "source": [
    "#Example: Complex Numbers\n",
    "arr = np.array([1 + 2j, 3 + 4j, 5 + 6j], dtype='complex128')\n",
    "print(arr)"
   ]
  },
  {
   "cell_type": "markdown",
   "id": "8484c62a-442b-4870-a77d-ca3a8c50b0d8",
   "metadata": {},
   "source": [
    "### 6. Object Data Type\n",
    "##### If you need to store mixed or complex data types (e.g., Python objects), you can use dtype='object'. However, this type sacrifices performance, so it should only be used when absolutely necessary."
   ]
  },
  {
   "cell_type": "code",
   "execution_count": 24,
   "id": "deaed3c1-590a-4d2e-ad3d-a66fb441f56e",
   "metadata": {},
   "outputs": [
    {
     "name": "stdout",
     "output_type": "stream",
     "text": [
      "[{'a': 1} list([1, 2, 3]) 'hello']\n"
     ]
    }
   ],
   "source": [
    "#Example: Object Data Type\n",
    "arr = np.array([{'a': 1}, [1, 2, 3], 'hello'], dtype=object)\n",
    "print(arr)"
   ]
  },
  {
   "cell_type": "markdown",
   "id": "29799398-658a-432c-9987-e637551769c9",
   "metadata": {},
   "source": [
    "## 7. Choosing the Right Data Type\n",
    "### Choosing the correct data type is essential for:\n",
    "\n",
    "##### Optimizing memory: Using the smallest data type that fits your data.\n",
    "##### Improving performance: Smaller types generally lead to faster operations.\n",
    "##### Ensuring precision: Avoid truncating or losing important decimal places or values."
   ]
  },
  {
   "cell_type": "markdown",
   "id": "02ea0080-0def-4330-ac0a-038fe91847f8",
   "metadata": {},
   "source": [
    "### Summary:\n",
    "##### NumPy arrays are homogeneous, meaning all elements must be of the same type.\n",
    "##### Use .astype() to change data types and optimize memory and performance.\n",
    "##### The choice of data type affects memory usage, performance, and precision.\n",
    "##### Be mindful of complex numbers and object data types, which can increase memory usage and reduce performance."
   ]
  }
 ],
 "metadata": {
  "kernelspec": {
   "display_name": "Python [conda env:base] *",
   "language": "python",
   "name": "conda-base-py"
  },
  "language_info": {
   "codemirror_mode": {
    "name": "ipython",
    "version": 3
   },
   "file_extension": ".py",
   "mimetype": "text/x-python",
   "name": "python",
   "nbconvert_exporter": "python",
   "pygments_lexer": "ipython3",
   "version": "3.12.7"
  }
 },
 "nbformat": 4,
 "nbformat_minor": 5
}
