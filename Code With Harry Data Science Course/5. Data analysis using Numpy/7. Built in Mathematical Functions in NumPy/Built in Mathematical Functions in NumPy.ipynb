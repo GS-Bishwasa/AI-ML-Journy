{
 "cells": [
  {
   "cell_type": "markdown",
   "id": "5545453e-e422-4b71-8029-6622933a6c02",
   "metadata": {},
   "source": [
    "### Built in Mathematical Functions in NumPy\n",
    "##### Here are some common NumPy methods that are frequently used for statistical and mathematical operations:"
   ]
  },
  {
   "cell_type": "markdown",
   "id": "30a1c55d-b367-4bd9-970d-457bed02b843",
   "metadata": {},
   "source": [
    "### np.mean() – Compute the mean (average) of an array."
   ]
  },
  {
   "cell_type": "code",
   "execution_count": null,
   "id": "225cd2f4-3bad-48ab-8ed4-7fce41e1df84",
   "metadata": {},
   "outputs": [],
   "source": [
    "np.mean(arr)"
   ]
  },
  {
   "cell_type": "markdown",
   "id": "206a844b-37c2-4fa5-8053-3ddd9ba9fb6a",
   "metadata": {},
   "source": [
    "### np.std() – Compute the standard deviation of an array."
   ]
  },
  {
   "cell_type": "code",
   "execution_count": null,
   "id": "ee1ca477-772c-4c1f-81f3-df2fae8f5c47",
   "metadata": {},
   "outputs": [],
   "source": [
    "np.std(arr)"
   ]
  },
  {
   "cell_type": "markdown",
   "id": "8a4ab518-5bc6-488a-a787-84c4bc033607",
   "metadata": {},
   "source": [
    "### np.var() – Compute the variance of an array."
   ]
  },
  {
   "cell_type": "code",
   "execution_count": null,
   "id": "8f2774c6-7804-4e26-994b-f5a508990b15",
   "metadata": {},
   "outputs": [],
   "source": [
    "np.var(arr)"
   ]
  },
  {
   "cell_type": "markdown",
   "id": "55303c38-cad6-458b-a9d1-267cccdbe096",
   "metadata": {},
   "source": [
    "### np.min() – Compute the minimum value of an array."
   ]
  },
  {
   "cell_type": "code",
   "execution_count": null,
   "id": "66d519ce-dec8-49a0-8cc3-d272752d95bc",
   "metadata": {},
   "outputs": [],
   "source": [
    "np.min(arr)"
   ]
  },
  {
   "cell_type": "markdown",
   "id": "e62b0b12-7c1a-42f0-a036-907a4fc83f13",
   "metadata": {},
   "source": [
    "### np.max() – Compute the maximum value of an array."
   ]
  },
  {
   "cell_type": "code",
   "execution_count": null,
   "id": "7f941954-238e-4ab0-864f-5cf7bc1f4b80",
   "metadata": {},
   "outputs": [],
   "source": [
    "np.max(arr)"
   ]
  },
  {
   "cell_type": "markdown",
   "id": "7521406b-4706-400a-92ed-f88ce902a857",
   "metadata": {},
   "source": [
    "### np.sum() – Compute the sum of all elements in an array."
   ]
  },
  {
   "cell_type": "code",
   "execution_count": null,
   "id": "f3243fd2-d7d3-4cb4-835d-2e19422be202",
   "metadata": {},
   "outputs": [],
   "source": [
    "np.sum(arr)"
   ]
  },
  {
   "cell_type": "markdown",
   "id": "ca6f0ee5-45cb-497e-9176-8695f97d1d59",
   "metadata": {},
   "source": [
    "### np.prod() – Compute the product of all elements in an array."
   ]
  },
  {
   "cell_type": "code",
   "execution_count": null,
   "id": "5ea7ce34-acc1-4e64-b248-86d07a5888e3",
   "metadata": {},
   "outputs": [],
   "source": [
    "np.prod(arr)"
   ]
  },
  {
   "cell_type": "markdown",
   "id": "5491a4c9-d5ac-4c6c-8942-9743597f3ab0",
   "metadata": {},
   "source": [
    "### np.median() – Compute the median of an array."
   ]
  },
  {
   "cell_type": "code",
   "execution_count": null,
   "id": "1160ed32-bd47-422e-ae62-42a88bb44d16",
   "metadata": {},
   "outputs": [],
   "source": [
    "np.median(arr)"
   ]
  },
  {
   "cell_type": "markdown",
   "id": "8253764c-e577-4910-9f0c-e5e7f7a699fd",
   "metadata": {},
   "source": [
    "### np.percentile() – Compute the percentile of an array."
   ]
  },
  {
   "cell_type": "code",
   "execution_count": null,
   "id": "ae45ff9a-80af-4dc0-bfc1-0e68fd70332f",
   "metadata": {},
   "outputs": [],
   "source": [
    "np.percentile(arr, 50)  # For the 50th percentile (median)"
   ]
  },
  {
   "cell_type": "markdown",
   "id": "2a01142b-bbef-4274-8d2d-123afb83243f",
   "metadata": {},
   "source": [
    "### np.argmin() – Return the index of the minimum value in an array."
   ]
  },
  {
   "cell_type": "code",
   "execution_count": null,
   "id": "726324bd-d5a6-4699-9a28-41ce1e0f8b72",
   "metadata": {},
   "outputs": [],
   "source": [
    "np.argmin(arr)"
   ]
  },
  {
   "cell_type": "markdown",
   "id": "293fdb5c-b239-4f2e-8144-d76b20b8c7f0",
   "metadata": {},
   "source": [
    "### np.argmax() – Return the index of the maximum value in an array."
   ]
  },
  {
   "cell_type": "code",
   "execution_count": null,
   "id": "3d2f7532-6e23-4b22-8274-117503154c50",
   "metadata": {},
   "outputs": [],
   "source": [
    "np.argmax(arr)"
   ]
  },
  {
   "cell_type": "markdown",
   "id": "532b67e7-3ac2-419d-8184-7cdcdc9902cd",
   "metadata": {},
   "source": [
    "### np.corrcoef() – Compute the correlation coefficient matrix of two arrays."
   ]
  },
  {
   "cell_type": "code",
   "execution_count": null,
   "id": "204373a6-6bb2-4dac-a1ba-febc211aac52",
   "metadata": {},
   "outputs": [],
   "source": [
    "np.corrcoef(arr1, arr2)"
   ]
  },
  {
   "cell_type": "markdown",
   "id": "719217f1-ace7-42e1-afe2-119b78eb7ad2",
   "metadata": {},
   "source": [
    "### np.unique() – Find the unique elements of an array."
   ]
  },
  {
   "cell_type": "code",
   "execution_count": null,
   "id": "f0579cda-6b18-4c1f-b3ca-e60ee336e280",
   "metadata": {},
   "outputs": [],
   "source": [
    "np.unique(arr)"
   ]
  },
  {
   "cell_type": "markdown",
   "id": "30bd61ec-6c80-4f5b-90c0-432304e93bb4",
   "metadata": {},
   "source": [
    "### np.diff() – Compute the n-th differences of an array."
   ]
  },
  {
   "cell_type": "code",
   "execution_count": null,
   "id": "cc56e968-9100-48ee-9c3b-eb5f68e69e73",
   "metadata": {},
   "outputs": [],
   "source": [
    "np.diff(arr)"
   ]
  },
  {
   "cell_type": "markdown",
   "id": "923ad8e9-d396-4e4a-a5d6-a60b268564c4",
   "metadata": {},
   "source": [
    "### np.cumsum() – Compute the cumulative sum of an array."
   ]
  },
  {
   "cell_type": "code",
   "execution_count": null,
   "id": "b1f02cd2-2978-4d27-95b4-e04c82cdc042",
   "metadata": {},
   "outputs": [],
   "source": [
    "np.cumsum(arr)"
   ]
  },
  {
   "cell_type": "markdown",
   "id": "b8093e04-91eb-417c-8832-a2cecf66127e",
   "metadata": {},
   "source": [
    "### np.linspace() – Create an array with evenly spaced numbers over a specified interval."
   ]
  },
  {
   "cell_type": "code",
   "execution_count": null,
   "id": "92182f51-babd-4597-b9cb-46fdb15e7f22",
   "metadata": {},
   "outputs": [],
   "source": [
    "np.linspace(0, 10, 5)  # 5 numbers from 0 to 10"
   ]
  },
  {
   "cell_type": "markdown",
   "id": "42216480-66d6-49ad-bdb3-b6d1cee18ed9",
   "metadata": {},
   "source": [
    "### np.log() – Compute the natural logarithm of an array."
   ]
  },
  {
   "cell_type": "code",
   "execution_count": null,
   "id": "62a1489f-320d-4d3f-b60f-1b133492aad3",
   "metadata": {},
   "outputs": [],
   "source": [
    "np.log(arr)"
   ]
  },
  {
   "cell_type": "markdown",
   "id": "3e4fb09a-d899-40ed-b92a-2cb3e87895a9",
   "metadata": {},
   "source": [
    "### np.exp() – Compute the exponential of an array."
   ]
  },
  {
   "cell_type": "code",
   "execution_count": null,
   "id": "f01c71dd-b8d7-4ce9-ab2c-0de2491d95d9",
   "metadata": {},
   "outputs": [],
   "source": [
    "np.exp(arr)"
   ]
  }
 ],
 "metadata": {
  "kernelspec": {
   "display_name": "Python [conda env:base] *",
   "language": "python",
   "name": "conda-base-py"
  },
  "language_info": {
   "codemirror_mode": {
    "name": "ipython",
    "version": 3
   },
   "file_extension": ".py",
   "mimetype": "text/x-python",
   "name": "python",
   "nbconvert_exporter": "python",
   "pygments_lexer": "ipython3",
   "version": "3.12.7"
  }
 },
 "nbformat": 4,
 "nbformat_minor": 5
}
