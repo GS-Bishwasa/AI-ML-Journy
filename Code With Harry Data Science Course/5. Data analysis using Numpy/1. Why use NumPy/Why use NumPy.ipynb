{
 "cells": [
  {
   "cell_type": "markdown",
   "id": "a767ebc5-f2d0-4970-9930-bef37eda7fbe",
   "metadata": {},
   "source": [
    "### NumPy vs. Python Lists – Performance Test\n",
    "##### Let's compare Python lists with NumPy arrays using a simple example."
   ]
  },
  {
   "cell_type": "code",
   "execution_count": 4,
   "id": "9ffbc221-29fe-4db5-8570-afb57be9cb54",
   "metadata": {},
   "outputs": [
    {
     "name": "stdout",
     "output_type": "stream",
     "text": [
      "Python list addition time: 0.09579324722290039\n",
      "NumPy array addition time: 0.012800931930541992\n"
     ]
    }
   ],
   "source": [
    "import numpy as np\n",
    "import time\n",
    "\n",
    "# Python list\n",
    "size = 1_000_000\n",
    "list1 = list(range(size))\n",
    "list2 = list(range(size))\n",
    "\n",
    "start = time.time()\n",
    "result = [x + y for x, y in zip(list1, list2)]\n",
    "end = time.time()\n",
    "print(\"Python list addition time:\", end - start)\n",
    "\n",
    "# NumPy array\n",
    "arr1 = np.array(list1)\n",
    "arr2 = np.array(list2)\n",
    "\n",
    "start = time.time()\n",
    "result = arr1 + arr2  # Vectorized operation\n",
    "end = time.time()\n",
    "print(\"NumPy array addition time:\", end - start)\n",
    "\n",
    "#Key Takeaway: NumPy is significantly faster because it performs operations in C, avoiding Python loops."
   ]
  },
  {
   "cell_type": "code",
   "execution_count": 1,
   "id": "4d8315e6",
   "metadata": {},
   "outputs": [
    {
     "name": "stdout",
     "output_type": "stream",
     "text": [
      "0.002020120620727539\n",
      "0.0\n"
     ]
    }
   ],
   "source": [
    "# Harry Bhai Task\n",
    "import numpy as np\n",
    "import time\n",
    "\n",
    "size  = 10_000\n",
    "\n",
    "# Python list\n",
    "l1 = list(range(size))\n",
    "l2 = list(range(size))\n",
    "\n",
    "start = time.time()\n",
    "list_squares = [x ** 2 for x in l1]\n",
    "end = time.time()\n",
    "\n",
    "print(end - start)\n",
    "\n",
    "# NumPy array\n",
    "arr1 = np.array(list(range(size)))\n",
    "arr2 = np.array(list(range(size)))\n",
    "\n",
    "start = time.time()\n",
    "numpy_squares = arr1 ** 2\n",
    "end = time.time()\n",
    "\n",
    "print(end - start)\n"
   ]
  },
  {
   "cell_type": "markdown",
   "id": "db2ed0e2-db1a-4eb2-a4f3-e72482783e0f",
   "metadata": {},
   "source": [
    "### Creating NumPy Arrays\n",
    "##### NumPy stores data in a contiguous memory block, making access faster than lists.🔹 shape shows the dimensions of an array."
   ]
  },
  {
   "cell_type": "code",
   "execution_count": 7,
   "id": "218d75a8-6074-4275-a123-25c53e8fb04a",
   "metadata": {},
   "outputs": [
    {
     "name": "stdout",
     "output_type": "stream",
     "text": [
      "[1 2 3 4 5]\n",
      "[[1 2 3]\n",
      " [4 5 6]]\n",
      "Type: <class 'numpy.ndarray'>\n",
      "Shape: (2, 3)\n"
     ]
    }
   ],
   "source": [
    "import numpy as np\n",
    "\n",
    "# Creating a 1D NumPy array\n",
    "arr1 = np.array([1, 2, 3, 4, 5])\n",
    "print(arr1)\n",
    "\n",
    "# Creating a 2D NumPy array\n",
    "arr2 = np.array([[1, 2, 3], [4, 5, 6]])\n",
    "print(arr2)\n",
    "\n",
    "# Checking type and shape\n",
    "print(\"Type:\", type(arr1))\n",
    "print(\"Shape:\", arr2.shape)"
   ]
  },
  {
   "cell_type": "markdown",
   "id": "3c2f8cbc-1344-4c8b-ac27-e2e3b95bffd2",
   "metadata": {},
   "source": [
    "### Memory Efficiency – NumPy vs. Lists\n",
    "Let's check memory consumption."
   ]
  },
  {
   "cell_type": "code",
   "execution_count": 11,
   "id": "86aea836-0a15-49d1-ac37-e3b73a1eda61",
   "metadata": {},
   "outputs": [
    {
     "name": "stdout",
     "output_type": "stream",
     "text": [
      "Python list size: 8056000 bytes\n",
      "NumPy array size: 4000 bytes\n"
     ]
    }
   ],
   "source": [
    "import sys\n",
    "\n",
    "list_data = list(range(1000))\n",
    "numpy_data = np.array(list_data)\n",
    "\n",
    "print(\"Python list size:\", sys.getsizeof(list_data) * len(list_data), \"bytes\")\n",
    "print(\"NumPy array size:\", numpy_data.nbytes, \"bytes\")"
   ]
  },
  {
   "cell_type": "markdown",
   "id": "042ad0ee-c353-4ae4-8cd5-79e17fe86399",
   "metadata": {},
   "source": [
    "### Vectorization – No More Loops!\n",
    "##### NumPy avoids loops by applying operations to entire arrays at once using SIMD (Single Instruction, Multiple Data) and other low-level optimizations. SIMD is a CPU-level optimization provided by modern processors."
   ]
  },
  {
   "cell_type": "code",
   "execution_count": 24,
   "id": "253e60c3-a32d-4405-9ab4-4f32c45c118f",
   "metadata": {},
   "outputs": [],
   "source": [
    "# Python list (loop-based)\n",
    "list_squares = [x ** 2 for x in list1]\n",
    "\n",
    "# NumPy (vectorized)\n",
    "numpy_squares = arr1 ** 2"
   ]
  }
 ],
 "metadata": {
  "kernelspec": {
   "display_name": "base",
   "language": "python",
   "name": "python3"
  },
  "language_info": {
   "codemirror_mode": {
    "name": "ipython",
    "version": 3
   },
   "file_extension": ".py",
   "mimetype": "text/x-python",
   "name": "python",
   "nbconvert_exporter": "python",
   "pygments_lexer": "ipython3",
   "version": "3.12.7"
  }
 },
 "nbformat": 4,
 "nbformat_minor": 5
}
