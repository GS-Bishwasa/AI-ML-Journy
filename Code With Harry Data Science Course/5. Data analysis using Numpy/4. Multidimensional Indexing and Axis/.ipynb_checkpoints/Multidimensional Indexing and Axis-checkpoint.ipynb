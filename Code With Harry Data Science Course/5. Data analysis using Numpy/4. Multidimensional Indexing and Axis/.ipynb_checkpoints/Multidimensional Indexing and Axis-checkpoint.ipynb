{
 "cells": [
  {
   "cell_type": "markdown",
   "id": "92f43a42-96b9-4afe-a665-09b57209074c",
   "metadata": {},
   "source": [
    "### Multidimensional Indexing and Axis\n",
    "##### NumPy allows you to efficiently work with multidimensional arrays, where indexing and axis manipulation play a crucial role. Understanding how indexing works across multiple dimensions is essential for data science and machine learning tasks."
   ]
  },
  {
   "cell_type": "markdown",
   "id": "48f979e5-68ae-4ab7-a755-38da21517260",
   "metadata": {},
   "source": [
    "### 1. Understanding Axes in NumPy\n",
    "#### Each dimension in a NumPy array is called an axis. Axes are numbered starting from 0.\n",
    "\n",
    "### For example:\n",
    "\n",
    "##### 1D array → 1 axis (axis 0)\n",
    "##### 2D array → 2 axes (axis 0 = rows, axis 1 = columns)\n",
    "##### 3D array → 3 axes (axis 0 = depth, axis 1 = rows, axis 2 = columns)"
   ]
  },
  {
   "cell_type": "code",
   "execution_count": 5,
   "id": "35de22df-1fc2-4e7e-80c0-e726592dc282",
   "metadata": {},
   "outputs": [
    {
     "name": "stdout",
     "output_type": "stream",
     "text": [
      "[[1 2 3]\n",
      " [4 5 6]\n",
      " [7 8 9]]\n"
     ]
    }
   ],
   "source": [
    "import numpy as np\n",
    "\n",
    "arr = np.array([[1, 2, 3], \n",
    "                [4, 5, 6], \n",
    "                [7, 8, 9]])\n",
    "\n",
    "print(arr)\n",
    "\n",
    "# Axis 0 (rows) → Operations move down the columns.\n",
    "# Axis 1 (columns) → Operations move across the rows."
   ]
  },
  {
   "cell_type": "markdown",
   "id": "36c29ec2-85fe-4880-8256-90015efd1640",
   "metadata": {},
   "source": [
    "#### Summing along axes:"
   ]
  },
  {
   "cell_type": "code",
   "execution_count": 8,
   "id": "a29e0236-3dfa-4fc1-8073-8a383b3dd212",
   "metadata": {},
   "outputs": [
    {
     "name": "stdout",
     "output_type": "stream",
     "text": [
      "[12 15 18]\n",
      "[ 6 15 24]\n"
     ]
    }
   ],
   "source": [
    "print(np.sum(arr, axis=0))  # Sum along rows (down each column)\n",
    "print(np.sum(arr, axis=1))  # Sum along columns (across each row)"
   ]
  },
  {
   "cell_type": "markdown",
   "id": "b6ec9458-01fd-4b0c-ba2b-0a8e279916d2",
   "metadata": {},
   "source": [
    "### 2. Indexing in Multidimensional Arrays\n",
    "##### You can access elements using row and column indices."
   ]
  },
  {
   "cell_type": "code",
   "execution_count": 16,
   "id": "613209b4-d948-4acf-b888-6debf052549d",
   "metadata": {},
   "outputs": [
    {
     "name": "stdout",
     "output_type": "stream",
     "text": [
      "6\n",
      "[[2 3]\n",
      " [5 6]]\n"
     ]
    }
   ],
   "source": [
    "# Accessing an element\n",
    "print(arr[1, 2])  # Row index 1, Column index 2 → Output: 6\n",
    "\n",
    "# You can also use slicing to extract parts of an array:\n",
    "print(arr[0:2, 1:3])  # Extracts first 2 rows and last 2 columns"
   ]
  },
  {
   "cell_type": "markdown",
   "id": "ce6a82ec-0dbf-46fa-a880-d21ec651617b",
   "metadata": {},
   "source": [
    "### 3. Indexing in 3D Arrays\n",
    "##### For 3D arrays, the first index refers to the \"depth\" (sheets of data)."
   ]
  },
  {
   "cell_type": "code",
   "execution_count": 19,
   "id": "0c5cf127-729d-4ae5-801b-9f9997421e45",
   "metadata": {},
   "outputs": [
    {
     "name": "stdout",
     "output_type": "stream",
     "text": [
      "(2, 2, 3)\n"
     ]
    }
   ],
   "source": [
    "arr3D = np.array([[[1, 2, 3], [4, 5, 6]],\n",
    "                  [[7, 8, 9], [10, 11, 12]]])\n",
    "\n",
    "# Output of arr3D.shape is → (depth, rows, columns)\n",
    "print(arr3D.shape)  # Output: (2, 2, 3) "
   ]
  },
  {
   "cell_type": "markdown",
   "id": "e8379ede-a2d1-4722-bc32-4e7c02b1c9ee",
   "metadata": {},
   "source": [
    "### Accessing elements in 3D:"
   ]
  },
  {
   "cell_type": "code",
   "execution_count": 22,
   "id": "30aaad27-d4a0-4d55-8924-211080568df3",
   "metadata": {},
   "outputs": [
    {
     "name": "stdout",
     "output_type": "stream",
     "text": [
      "6\n",
      "[[1 2 3]\n",
      " [7 8 9]]\n"
     ]
    }
   ],
   "source": [
    "# First sheet, second row, third column\n",
    "print(arr3D[0, 1, 2])  # Output: 6\n",
    "\n",
    "print(arr3D[:, 0, :])   # Get the first row from both sheets"
   ]
  },
  {
   "cell_type": "markdown",
   "id": "3cc977a5-f59e-42fe-a21a-ac6cf2eb330d",
   "metadata": {},
   "source": [
    "### 4. Practical Example: Selecting Data Along Axes"
   ]
  },
  {
   "cell_type": "code",
   "execution_count": 25,
   "id": "2b01cb39-8b9b-4dbd-9dfc-3ddbb1fc6e65",
   "metadata": {},
   "outputs": [
    {
     "name": "stdout",
     "output_type": "stream",
     "text": [
      "[1 4 7]\n",
      "[[1 2 3]\n",
      " [7 8 9]]\n"
     ]
    }
   ],
   "source": [
    "# Get all rows of the first column\n",
    "first_col = arr[:, 0]\n",
    "print(first_col)  # Output: [1 4 7]\n",
    "\n",
    "\n",
    "# Get the first row from each \"sheet\" in a 3D array\n",
    "first_rows = arr3D[:, 0, :]\n",
    "print(first_rows)"
   ]
  },
  {
   "cell_type": "markdown",
   "id": "0b552489-5ced-4040-b50c-218ce55eb1cb",
   "metadata": {},
   "source": [
    "### 5. Changing Data Along an Axis"
   ]
  },
  {
   "cell_type": "code",
   "execution_count": 28,
   "id": "b2a6ecb0-0001-401b-ab83-a33eef613996",
   "metadata": {},
   "outputs": [
    {
     "name": "stdout",
     "output_type": "stream",
     "text": [
      "[[1 0 3]\n",
      " [4 0 6]\n",
      " [7 0 9]]\n"
     ]
    }
   ],
   "source": [
    "# Replace all elements in column 1 with 0\n",
    "arr[:, 1] = 0\n",
    "print(arr)"
   ]
  },
  {
   "cell_type": "markdown",
   "id": "d79cb289-8b92-44e1-b4e3-68f15903223e",
   "metadata": {},
   "source": [
    "### 6. Summary\n",
    "##### Axis 0 = rows (vertical movement), Axis 1 = columns (horizontal movement)\n",
    "##### Indexing works as arr[row, column] for 2D arrays and arr[depth, row, column] for 3D arrays\n",
    "##### Slicing allows extracting subarrays\n",
    "##### Operations along axes help efficiently manipulate data without loops"
   ]
  }
 ],
 "metadata": {
  "kernelspec": {
   "display_name": "Python [conda env:base] *",
   "language": "python",
   "name": "conda-base-py"
  },
  "language_info": {
   "codemirror_mode": {
    "name": "ipython",
    "version": 3
   },
   "file_extension": ".py",
   "mimetype": "text/x-python",
   "name": "python",
   "nbconvert_exporter": "python",
   "pygments_lexer": "ipython3",
   "version": "3.12.7"
  }
 },
 "nbformat": 4,
 "nbformat_minor": 5
}
