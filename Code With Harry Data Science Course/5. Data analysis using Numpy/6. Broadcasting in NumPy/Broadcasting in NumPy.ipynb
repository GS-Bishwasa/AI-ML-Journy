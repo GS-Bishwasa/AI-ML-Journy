{
 "cells": [
  {
   "cell_type": "markdown",
   "id": "cc7c39c1-1394-4300-8d68-a423831fb3a8",
   "metadata": {},
   "source": [
    "### Broadcasting in NumPy\n",
    "##### Now, we'll explore how to make your code faster with vectorization and broadcasting in NumPy. These techniques are key to boosting performance in numerical operations by avoiding slow loops and memory inefficiency."
   ]
  },
  {
   "cell_type": "markdown",
   "id": "a74619ea-2949-41b9-88ac-ec3f9ad95e28",
   "metadata": {},
   "source": [
    "## 1. Why Loops Are Slow\n",
    "### In Python, loops are typically slow because:\n",
    "\n",
    "##### Python’s interpreter: Every iteration of the loop requires Python to interpret the loop logic, which is inherently slower than lower-level, compiled code.\n",
    "##### High overhead: Each loop iteration in Python involves additional overhead for function calls, memory access, and index management.\n",
    "\n",
    "\n",
    "##### While Python loops are convenient, they don’t take advantage of the optimized memory and computation that libraries like NumPy provide."
   ]
  },
  {
   "cell_type": "code",
   "execution_count": 75,
   "id": "15fef8dd-0121-4c7f-9d56-6fe9a5d7cf7d",
   "metadata": {},
   "outputs": [
    {
     "name": "stdout",
     "output_type": "stream",
     "text": [
      "[1, 4, 9, 16, 25]\n"
     ]
    }
   ],
   "source": [
    "#Example: Looping Over Arrays in Python\n",
    "import numpy as np\n",
    "\n",
    "arr = np.array([1, 2, 3, 4, 5])\n",
    "result = []\n",
    "\n",
    "# Using a loop to square each element (slow)\n",
    "for num in arr:\n",
    "    result.append(num ** 2)\n",
    "\n",
    "print(result)  # Output: [1, 4, 9, 16, 25]"
   ]
  },
  {
   "cell_type": "markdown",
   "id": "ed3e9609-bd79-4be6-8e9c-78379daa9455",
   "metadata": {},
   "source": [
    "### 2. Vectorization: Fixing the Loop Problem\n",
    "##### Vectorization allows you to perform operations on entire arrays at once, instead of iterating over elements one by one. This is made possible by NumPy’s optimized C-based backend that executes operations in compiled code, which is much faster than Python loops.\n",
    "\n",
    "##### Vectorized operations are also more readable and compact, making your code easier to maintain."
   ]
  },
  {
   "cell_type": "code",
   "execution_count": 78,
   "id": "83af93db-b1b2-474d-b98c-896de56979ac",
   "metadata": {},
   "outputs": [
    {
     "name": "stdout",
     "output_type": "stream",
     "text": [
      "[ 1  4  9 16 25]\n"
     ]
    }
   ],
   "source": [
    "#Example: Vectorized Operation\n",
    "arr = np.array([1, 2, 3, 4, 5])\n",
    "result = arr ** 2  # Vectorized operation\n",
    "print(result)  # Output: [1 4 9 16 25]"
   ]
  },
  {
   "cell_type": "markdown",
   "id": "16712da7-4149-4b90-bc75-7664cfcb4aba",
   "metadata": {},
   "source": [
    "### Why is it Faster?\n",
    "##### Low-level implementation: NumPy’s vectorized operations are implemented in C (compiled language), which is much faster than Python loops.\n",
    "##### Batch processing: NumPy processes multiple elements in parallel using SIMD (Single Instruction, Multiple Data), allowing multiple operations to be done simultaneously."
   ]
  },
  {
   "cell_type": "markdown",
   "id": "77288fb7-706e-4917-a0b0-3c3c84f1e444",
   "metadata": {},
   "source": [
    "### 3. Broadcasting: Scaling Arrays Without Extra Memory\n",
    "##### Broadcasting is a powerful feature of NumPy that allows you to perform operations on arrays of different shapes without creating copies. It “stretches” smaller arrays across larger arrays in a memory-efficient way, avoiding the overhead of creating multiple copies of data."
   ]
  },
  {
   "cell_type": "code",
   "execution_count": 82,
   "id": "b9610fd6-f326-4eb9-9a18-f95f4a7a8a0f",
   "metadata": {},
   "outputs": [
    {
     "name": "stdout",
     "output_type": "stream",
     "text": [
      "[11 12 13 14 15]\n"
     ]
    }
   ],
   "source": [
    "#Example: Broadcasting with Scalar\n",
    "#Broadcasting is often used when you want to perform an operation on an array and a scalar value (e.g., add a number to all elements of an array).\n",
    "arr = np.array([1, 2, 3, 4, 5])\n",
    "result = arr + 10  # Broadcasting: 10 is added to all elements\n",
    "print(result)  # Output: [11 12 13 14 15]"
   ]
  },
  {
   "cell_type": "markdown",
   "id": "1679c769-a7d3-484a-b144-451b30b77277",
   "metadata": {},
   "source": [
    "### 4. Broadcasting with Arrays of Different Shapes\n",
    "##### Broadcasting becomes more powerful when you apply operations on arrays of different shapes. NumPy automatically adjusts the shapes of arrays to make them compatible for element-wise operations, without actually copying the data."
   ]
  },
  {
   "cell_type": "code",
   "execution_count": 85,
   "id": "c8d17b69-8af0-46af-9873-76b052e43572",
   "metadata": {},
   "outputs": [
    {
     "name": "stdout",
     "output_type": "stream",
     "text": [
      "[11 22 33]\n"
     ]
    }
   ],
   "source": [
    "#Example: Broadcasting with Two Arrays\n",
    "arr1 = np.array([1, 2, 3])\n",
    "arr2 = np.array([10, 20, 30])\n",
    "\n",
    "result = arr1 + arr2  # Element-wise addition\n",
    "print(result)  # Output: [11 22 33]"
   ]
  },
  {
   "cell_type": "code",
   "execution_count": 87,
   "id": "04f77a54-5ec1-402e-831b-b321f92b0c2a",
   "metadata": {},
   "outputs": [
    {
     "name": "stdout",
     "output_type": "stream",
     "text": [
      "[[2 4 6]\n",
      " [5 7 9]]\n"
     ]
    }
   ],
   "source": [
    "#Example: Broadcasting a 2D Array and a 1D Array\n",
    "arr1 = np.array([[1, 2, 3], [4, 5, 6]])\n",
    "arr2 = np.array([1, 2, 3])\n",
    "\n",
    "result = arr1 + arr2  # Broadcasting arr2 across arr1\n",
    "print(result)\n",
    "# Output:\n",
    "# [[2 4 6]\n",
    "#  [5 7 9]]"
   ]
  },
  {
   "cell_type": "markdown",
   "id": "1e14e883-3858-477e-b759-f51aad509ba8",
   "metadata": {},
   "source": [
    "### How Broadcasting Works\n",
    "##### Dimensions must be compatible: The size of the trailing dimensions of the arrays must be either the same or one of them must be 1.\n",
    "##### Stretching arrays: If the shapes are compatible, NumPy stretches the smaller array to match the larger one, element-wise, without copying data."
   ]
  },
  {
   "cell_type": "markdown",
   "id": "58e710f7-62a4-4374-b18d-8a466b59c56f",
   "metadata": {},
   "source": [
    "### 5. Hands-on: Applying Broadcasting to Real-World Scenarios\n",
    "##### Let’s apply broadcasting to a real-world scenario: scaling data in machine learning."
   ]
  },
  {
   "cell_type": "code",
   "execution_count": 91,
   "id": "c98ac0aa-61b9-441f-816d-f87c8adeb022",
   "metadata": {},
   "outputs": [
    {
     "name": "stdout",
     "output_type": "stream",
     "text": [
      "[[-1.41421356 -1.41421356 -1.41421356]\n",
      " [-0.70710678 -0.70710678 -0.70710678]\n",
      " [ 0.          0.          0.        ]\n",
      " [ 0.70710678  0.70710678  0.70710678]\n",
      " [ 1.41421356  1.41421356  1.41421356]]\n"
     ]
    }
   ],
   "source": [
    "#Example: Normalizing Data Using Broadcasting\n",
    "#Imagine you have a dataset where each row represents a sample and each column represents a feature. You can normalize the data by subtracting the mean of each column and dividing by the standard deviation.\n",
    "\n",
    "# Simulating a dataset (5 samples, 3 features)\n",
    "data = np.array([[10, 20, 30],\n",
    "                 [15, 25, 35],\n",
    "                 [20, 30, 40],\n",
    "                 [25, 35, 45],\n",
    "                 [30, 40, 50]])\n",
    "\n",
    "# Calculating mean and standard deviation for each feature (column)\n",
    "mean = data.mean(axis=0)\n",
    "std = data.std(axis=0)\n",
    "\n",
    "# Normalizing the data using broadcasting\n",
    "normalized_data = (data - mean) / std\n",
    "\n",
    "print(normalized_data)"
   ]
  },
  {
   "cell_type": "markdown",
   "id": "d9ab01a9-25a1-49ce-b206-008f903b8eef",
   "metadata": {},
   "source": [
    "### Summary:\n",
    "##### Loops are slow because Python's interpreter adds overhead, making iteration less efficient.\n",
    "##### Vectorization allows you to apply operations to entire arrays at once, greatly improving performance by utilizing NumPy’s optimized C backend.\n",
    "##### Broadcasting enables operations between arrays of different shapes by automatically stretching the smaller array to match the shape of the larger array, without creating additional copies.\n",
    "##### Real-world use: Broadcasting can be used in data science tasks, such as normalizing datasets, without sacrificing memory or performance."
   ]
  }
 ],
 "metadata": {
  "kernelspec": {
   "display_name": "Python [conda env:base] *",
   "language": "python",
   "name": "conda-base-py"
  },
  "language_info": {
   "codemirror_mode": {
    "name": "ipython",
    "version": 3
   },
   "file_extension": ".py",
   "mimetype": "text/x-python",
   "name": "python",
   "nbconvert_exporter": "python",
   "pygments_lexer": "ipython3",
   "version": "3.12.7"
  }
 },
 "nbformat": 4,
 "nbformat_minor": 5
}
