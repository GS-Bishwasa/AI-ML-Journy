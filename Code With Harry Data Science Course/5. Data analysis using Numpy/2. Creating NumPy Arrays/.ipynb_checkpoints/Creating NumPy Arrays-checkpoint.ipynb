{
 "cells": [
  {
   "cell_type": "markdown",
   "id": "935ac259-7c84-4b29-83ea-59186b8101e1",
   "metadata": {},
   "source": [
    "### 1. Creating NumPy Arrays\n",
    "##### From Python Lists:\n",
    "\n",
    "##### 🔹 Unlike lists, all elements must have the same data type."
   ]
  },
  {
   "cell_type": "code",
   "execution_count": 2,
   "id": "d9ee904c-5f65-42fe-9456-59f1cb8e0439",
   "metadata": {},
   "outputs": [
    {
     "name": "stdout",
     "output_type": "stream",
     "text": [
      "[1 2 3 4 5]\n",
      "[[1 2 3]\n",
      " [4 5 6]]\n"
     ]
    }
   ],
   "source": [
    "import numpy as np\n",
    "\n",
    "arr1 = np.array([1, 2, 3, 4, 5])  # 1D array\n",
    "arr2 = np.array([[1, 2, 3], [4, 5, 6]])  # 2D array\n",
    "\n",
    "print(arr1)  # [1 2 3 4 5]\n",
    "print(arr2)  \n",
    "# [[1 2 3]\n",
    "#  [4 5 6]]"
   ]
  },
  {
   "cell_type": "markdown",
   "id": "d84ceaa9-0cec-466a-8e04-31121c4dadf7",
   "metadata": {},
   "source": [
    "### Creating Arrays from Scratch:\n",
    "##### Key Takeaway: NumPy offers powerful shortcuts to create arrays without loops!"
   ]
  },
  {
   "cell_type": "code",
   "execution_count": 6,
   "id": "9ad8c021-6ee6-4ba9-be22-8891bfcf47c3",
   "metadata": {},
   "outputs": [
    {
     "data": {
      "text/plain": [
       "array([0.  , 0.25, 0.5 , 0.75, 1.  ])"
      ]
     },
     "execution_count": 6,
     "metadata": {},
     "output_type": "execute_result"
    }
   ],
   "source": [
    "np.zeros((3, 3))    # 3x3 array of zeros\n",
    "np.ones((2, 4))     # 2x4 array of ones\n",
    "np.full((2, 2), 7)  # 2x2 array filled with 7\n",
    "np.eye(4)           # 4x4 identity matrix\n",
    "np.arange(1, 10, 2) # [1, 3, 5, 7, 9] (like range)\n",
    "np.linspace(0, 1, 5) # [0. 0.25 0.5 0.75 1.] (evenly spaced)"
   ]
  },
  {
   "cell_type": "markdown",
   "id": "ae550ee1-f0cd-4d08-b485-3f6027cda785",
   "metadata": {},
   "source": [
    "### 2. Checking Array Properties\n",
    "##### 🔹 NumPy arrays are strongly typed, meaning all elements share the same data type."
   ]
  },
  {
   "cell_type": "code",
   "execution_count": 9,
   "id": "e63277f0-29e9-44e4-9d17-929317a0404a",
   "metadata": {},
   "outputs": [
    {
     "name": "stdout",
     "output_type": "stream",
     "text": [
      "Shape: (2, 3)\n",
      "Size: 6\n",
      "Dimensions: 2\n",
      "Data type: int32\n"
     ]
    }
   ],
   "source": [
    "arr = np.array([[10, 20, 30], [40, 50, 60]])\n",
    "\n",
    "print(\"Shape:\", arr.shape)   # (2, 3) → 2 rows, 3 columns\n",
    "print(\"Size:\", arr.size)     # 6 → total elements\n",
    "print(\"Dimensions:\", arr.ndim) # 2 → 2D array\n",
    "print(\"Data type:\", arr.dtype) # int64 (or int32 on Windows)"
   ]
  },
  {
   "cell_type": "markdown",
   "id": "ecb871a0-dbea-4089-8c8e-e5564ecca947",
   "metadata": {},
   "source": [
    "### 3. Changing Data Types\n",
    "##### Efficient memory usage by choosing the right data type."
   ]
  },
  {
   "cell_type": "code",
   "execution_count": 12,
   "id": "e4aef5a6-1e2a-45ad-8b38-f74043165c38",
   "metadata": {},
   "outputs": [
    {
     "name": "stdout",
     "output_type": "stream",
     "text": [
      "float32\n",
      "[1 2 3]\n"
     ]
    }
   ],
   "source": [
    "arr = np.array([1, 2, 3], dtype=np.float32)  # Explicit type\n",
    "print(arr.dtype)  # float32\n",
    "\n",
    "arr_int = arr.astype(np.int32)  # Convert float to int\n",
    "print(arr_int)  # [1 2 3]"
   ]
  },
  {
   "cell_type": "markdown",
   "id": "63ab5dc5-8e6c-4c97-a91f-c5dea7ba3b4b",
   "metadata": {},
   "source": [
    "### 4. Reshaping and Flattening Arrays"
   ]
  },
  {
   "cell_type": "code",
   "execution_count": 15,
   "id": "7b849c5d-7a90-4e1c-8e74-c438d6f9bc3b",
   "metadata": {},
   "outputs": [
    {
     "name": "stdout",
     "output_type": "stream",
     "text": [
      "(2, 3)\n",
      "[[1 2]\n",
      " [3 4]\n",
      " [5 6]]\n",
      "[1 2 3 4 5 6]\n"
     ]
    }
   ],
   "source": [
    "arr = np.array([[1, 2, 3], [4, 5, 6]])\n",
    "print(arr.shape)  # (2, 3)\n",
    "\n",
    "reshaped = arr.reshape((3, 2))  # Change shape\n",
    "print(reshaped)\n",
    "# [[1 2]\n",
    "#  [3 4]\n",
    "#  [5 6]]\n",
    "\n",
    "flattened = arr.flatten()  # Convert 2D → 1D\n",
    "print(flattened)  # [1 2 3 4 5 6]"
   ]
  }
 ],
 "metadata": {
  "kernelspec": {
   "display_name": "Python [conda env:base] *",
   "language": "python",
   "name": "conda-base-py"
  },
  "language_info": {
   "codemirror_mode": {
    "name": "ipython",
    "version": 3
   },
   "file_extension": ".py",
   "mimetype": "text/x-python",
   "name": "python",
   "nbconvert_exporter": "python",
   "pygments_lexer": "ipython3",
   "version": "3.12.7"
  }
 },
 "nbformat": 4,
 "nbformat_minor": 5
}
