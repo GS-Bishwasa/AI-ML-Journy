{
 "cells": [
  {
   "cell_type": "markdown",
   "id": "dca6b75c-3c02-464d-a764-13f353773856",
   "metadata": {},
   "source": [
    "### What is Pandas?\n",
    "### Pandas is a powerful, open-source Python library used for data manipulation, cleaning, and analysis. It provides two main data structures:\n",
    "\n",
    "##### Series: A one-dimensional labeled array\n",
    "##### DataFrame: A two-dimensional labeled table (like an Excel sheet or SQL table)\n",
    "##### Pandas makes working with structured data fast, expressive, and flexible.\n",
    "\n",
    "###### If you're working with tables, spreadsheets, or CSVs in Python—Pandas is your best friend."
   ]
  },
  {
   "cell_type": "markdown",
   "id": "3a2ee282-e957-4342-94b9-85fdfce556bc",
   "metadata": {},
   "source": [
    "### Why Use Pandas?\n",
    "\n",
    "| Task               | Without Pandas       | With Pandas           |\n",
    "|--------------------|----------------------|------------------------|\n",
    "| Load a CSV         | `open()` + loops     | `pd.read_csv()`        |\n",
    "| Filter rows        | Custom loop logic    | `df[df[\"col\"] > 5]`    |\n",
    "| Group & summarize  | Manual aggregation   | `df.groupby()`         |\n",
    "| Merge two datasets | Nested loops         | `pd.merge()`           |"
   ]
  },
  {
   "cell_type": "markdown",
   "id": "7e63dbac-7678-480f-ac0c-f8f56df70312",
   "metadata": {},
   "source": [
    "### Installing Pandas\n",
    "\n",
    "**Install via pip:**\n",
    "```bash\n",
    "pip install pandas\n",
    "```\n",
    "\n",
    "**Or using conda (recommended if you're using Anaconda):**\n",
    "```bash\n",
    "conda install pandas"
   ]
  },
  {
   "cell_type": "markdown",
   "id": "37c64d61-7a33-45fe-b203-c45ab0230f00",
   "metadata": {},
   "source": [
    "### Importing Pandas\n",
    "\n",
    "```python\n",
    "import pandas as pd"
   ]
  },
  {
   "cell_type": "markdown",
   "id": "c105b3d5-c2ca-4bef-a826-acb8f670a3a7",
   "metadata": {},
   "source": [
    "### Pandas vs Excel vs SQL vs NumPy\n",
    "\n",
    "| Tool   | Strengths                              | Weaknesses                          |\n",
    "|--------|-----------------------------------------|--------------------------------------|\n",
    "| Excel  | Easy UI, great for small data           | Slow, manual, not scalable           |\n",
    "| SQL    | Efficient querying of big data          | Not ideal for transformation logic   |\n",
    "| NumPy  | Fast, low-level array operations        | No labels, harder for tabular data   |\n",
    "| Pandas | Label-aware, fast, flexible             | Slightly steep learning curve        |\n",
    "\n",
    "**Pandas bridges the gap between NumPy performance and Excel-like usability.**  \n",
    "_Pandas is built on top of NumPy._"
   ]
  },
  {
   "cell_type": "markdown",
   "id": "197f624e-2e21-4051-8399-1405838ed47d",
   "metadata": {},
   "source": [
    "### Summary\n",
    "##### Use Pandas when working with structured data.\n",
    "##### It's the Swiss Army knife of data science."
   ]
  },
  {
   "cell_type": "code",
   "execution_count": null,
   "id": "23a7e9fe-ed17-46a3-a600-82914321c47f",
   "metadata": {},
   "outputs": [],
   "source": []
  }
 ],
 "metadata": {
  "kernelspec": {
   "display_name": "Python [conda env:base] *",
   "language": "python",
   "name": "conda-base-py"
  },
  "language_info": {
   "codemirror_mode": {
    "name": "ipython",
    "version": 3
   },
   "file_extension": ".py",
   "mimetype": "text/x-python",
   "name": "python",
   "nbconvert_exporter": "python",
   "pygments_lexer": "ipython3",
   "version": "3.12.7"
  }
 },
 "nbformat": 4,
 "nbformat_minor": 5
}
