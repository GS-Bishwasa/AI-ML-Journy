{
 "cells": [
  {
   "cell_type": "markdown",
   "id": "f664585f",
   "metadata": {},
   "source": [
    "# Using Beautiful Soup for Data Collection"
   ]
  },
  {
   "cell_type": "markdown",
   "id": "c1e9fab5",
   "metadata": {},
   "source": [
    "## 1. What is BeautifulSoup?\n",
    "\n",
    "- BeautifulSoup is a Python library used to parse HTML and XML documents.\n",
    "- It creates a parse tree from page content, making it easy to extract data.\n",
    "- It is often used with `requests` to scrape websites."
   ]
  },
  {
   "cell_type": "markdown",
   "id": "70771467",
   "metadata": {},
   "source": [
    "## 2. Installing BeautifulSoup\n",
    "\n",
    "Install both `beautifulsoup4` and a parser like `lxml`:"
   ]
  },
  {
   "cell_type": "code",
   "execution_count": null,
   "id": "6c495011",
   "metadata": {},
   "outputs": [],
   "source": [
    "!pip install beautifulsoup4 lxml"
   ]
  },
  {
   "cell_type": "markdown",
   "id": "24c5d6fd",
   "metadata": {},
   "source": [
    "## 3. Creating a BeautifulSoup Object\n",
    "\n",
    "**Example:**"
   ]
  },
  {
   "cell_type": "code",
   "execution_count": null,
   "id": "13e536b0",
   "metadata": {},
   "outputs": [],
   "source": [
    "from bs4 import BeautifulSoup\n",
    "import requests\n",
    "\n",
    "url = \"https://example.com\"\n",
    "response = requests.get(url)\n",
    "\n",
    "soup = BeautifulSoup(response.text, \"lxml\")"
   ]
  },
  {
   "cell_type": "markdown",
   "id": "7b309341",
   "metadata": {},
   "source": [
    "- `response.text`: HTML content.\n",
    "- `\"lxml\"`: A fast and powerful parser (you can also use `\"html.parser\"`)."
   ]
  },
  {
   "cell_type": "markdown",
   "id": "27bcac4b",
   "metadata": {},
   "source": [
    "## 4. Understanding the HTML Structure\n",
    "\n",
    "BeautifulSoup treats the page like a tree.\n",
    "You can search and navigate through tags, classes, ids, and attributes.\n",
    "\n",
    "**Example HTML:**\n",
    "```html\n",
    "<html>\n",
    "  <body>\n",
    "    <h1>Title</h1>\n",
    "    <p class=\"description\">This is a paragraph.</p>\n",
    "    <a href=\"/page\">Read more</a>\n",
    "  </body>\n",
    "</html>\n",
    "```"
   ]
  },
  {
   "cell_type": "markdown",
   "id": "00dd288d",
   "metadata": {},
   "source": [
    "## 5. Common Methods in BeautifulSoup"
   ]
  },
  {
   "cell_type": "markdown",
   "id": "00aa1987",
   "metadata": {},
   "source": [
    "### 5.1 Accessing Elements"
   ]
  },
  {
   "cell_type": "code",
   "execution_count": null,
   "id": "ee7d500e",
   "metadata": {},
   "outputs": [],
   "source": [
    "# Access the first occurrence of a tag\n",
    "soup.h1\n",
    "\n",
    "# Get the text inside a tag\n",
    "soup.h1.text"
   ]
  },
  {
   "cell_type": "markdown",
   "id": "3687cd14",
   "metadata": {},
   "source": [
    "### 5.2 `find()` Method"
   ]
  },
  {
   "cell_type": "code",
   "execution_count": null,
   "id": "6ff2219a",
   "metadata": {},
   "outputs": [],
   "source": [
    "# Finds the first matching element\n",
    "soup.find(\"p\")\n",
    "\n",
    "# Find a tag with specific attributes\n",
    "soup.find(\"p\", class_=\"description\")"
   ]
  },
  {
   "cell_type": "markdown",
   "id": "a501f0b3",
   "metadata": {},
   "source": [
    "### 5.3 `find_all()` Method"
   ]
  },
  {
   "cell_type": "code",
   "execution_count": null,
   "id": "bc5ad860",
   "metadata": {},
   "outputs": [],
   "source": [
    "# Finds all matching elements\n",
    "soup.find_all(\"a\")"
   ]
  },
  {
   "cell_type": "markdown",
   "id": "a5df13d0",
   "metadata": {},
   "source": [
    "### 5.4 Using `select()` and `select_one()`"
   ]
  },
  {
   "cell_type": "code",
   "execution_count": null,
   "id": "ccd0c405",
   "metadata": {},
   "outputs": [],
   "source": [
    "# Select elements using CSS selectors\n",
    "soup.select_one(\"p.description\")\n",
    "\n",
    "soup.select(\"a\")"
   ]
  },
  {
   "cell_type": "markdown",
   "id": "d51c71fc",
   "metadata": {},
   "source": [
    "## 6. Extracting Attributes\n",
    "\n",
    "Get the value of an attribute, such as `href` from an `<a>` tag:"
   ]
  },
  {
   "cell_type": "code",
   "execution_count": null,
   "id": "49005967",
   "metadata": {},
   "outputs": [],
   "source": [
    "link = soup.find(\"a\")\n",
    "print(link[\"href\"])\n",
    "\n",
    "# Or using .get():\n",
    "print(link.get(\"href\"))"
   ]
  },
  {
   "cell_type": "markdown",
   "id": "a26a3101",
   "metadata": {},
   "source": [
    "## 7. Traversing the Tree"
   ]
  },
  {
   "cell_type": "code",
   "execution_count": null,
   "id": "a27791ec",
   "metadata": {},
   "outputs": [],
   "source": [
    "# Access parent elements\n",
    "soup.p.parent\n",
    "\n",
    "# Access children elements\n",
    "list(soup.body.children)\n",
    "\n",
    "# Find the next sibling\n",
    "soup.h1.find_next_sibling()"
   ]
  },
  {
   "cell_type": "markdown",
   "id": "81c402ef",
   "metadata": {},
   "source": [
    "## 8. Handling Missing Elements Safely"
   ]
  },
  {
   "cell_type": "code",
   "execution_count": null,
   "id": "ed3c67b3",
   "metadata": {},
   "outputs": [],
   "source": [
    "title_tag = soup.find(\"h1\")\n",
    "if title_tag:\n",
    "    print(title_tag.text)\n",
    "else:\n",
    "    print(\"Title not found\")"
   ]
  },
  {
   "cell_type": "markdown",
   "id": "7304a3e0",
   "metadata": {},
   "source": [
    "## 9. Summary\n",
    "\n",
    "- BeautifulSoup helps parse and navigate HTML easily.\n",
    "- Use `.find()`, `.find_all()`, `.select()`, and `.select_one()` to locate data.\n",
    "- Always inspect the website's structure before writing scraping logic.\n",
    "- Combine BeautifulSoup with `requests` for full scraping workflows."
   ]
  }
 ],
 "metadata": {},
 "nbformat": 4,
 "nbformat_minor": 5
}