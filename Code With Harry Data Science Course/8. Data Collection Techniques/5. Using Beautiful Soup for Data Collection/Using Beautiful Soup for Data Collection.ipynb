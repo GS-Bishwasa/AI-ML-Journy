{
 "cells": [
  {
   "cell_type": "markdown",
   "id": "f664585f",
   "metadata": {},
   "source": [
    "# Using Beautiful Soup for Data Collection"
   ]
  },
  {
   "cell_type": "markdown",
   "id": "c1e9fab5",
   "metadata": {},
   "source": [
    "## 1. What is BeautifulSoup?\n",
    "\n",
    "- BeautifulSoup is a Python library used to parse HTML and XML documents.\n",
    "- It creates a parse tree from page content, making it easy to extract data.\n",
    "- It is often used with `requests` to scrape websites."
   ]
  },
  {
   "cell_type": "markdown",
   "id": "70771467",
   "metadata": {},
   "source": [
    "## 2. Installing BeautifulSoup\n",
    "\n",
    "Install both `beautifulsoup4` and a parser like `lxml`:"
   ]
  },
  {
   "cell_type": "code",
   "execution_count": null,
   "id": "6c495011",
   "metadata": {},
   "outputs": [],
   "source": [
    "!pip install beautifulsoup4 lxml"
   ]
  },
  {
   "cell_type": "markdown",
   "id": "24c5d6fd",
   "metadata": {},
   "source": [
    "## 3. Creating a BeautifulSoup Object\n",
    "\n",
    "**Example:**"
   ]
  },
  {
   "cell_type": "code",
   "execution_count": null,
   "id": "13e536b0",
   "metadata": {},
   "outputs": [],
   "source": [
    "from bs4 import BeautifulSoup\n",
    "import requests\n",
    "\n",
    "url = \"https://example.com\"\n",
    "response = requests.get(url)\n",
    "\n",
    "soup = BeautifulSoup(response.text, \"lxml\")"
   ]
  },
  {
   "cell_type": "markdown",
   "id": "7b309341",
   "metadata": {},
   "source": [
    "- `response.text`: HTML content.\n",
    "- `\"lxml\"`: A fast and powerful parser (you can also use `\"html.parser\"`)."
   ]
  },
  {
   "cell_type": "markdown",
   "id": "27bcac4b",
   "metadata": {},
   "source": [
    "## 4. Understanding the HTML Structure\n",
    "\n",
    "BeautifulSoup treats the page like a tree.\n",
    "You can search and navigate through tags, classes, ids, and attributes.\n",
    "\n",
    "**Example HTML:**\n",
    "```html\n",
    "<html>\n",
    "  <body>\n",
    "    <h1>Title</h1>\n",
    "    <p class=\"description\">This is a paragraph.</p>\n",
    "    <a href=\"/page\">Read more</a>\n",
    "  </body>\n",
    "</html>\n",
    "```"
   ]
  },
  {
   "cell_type": "markdown",
   "id": "00dd288d",
   "metadata": {},
   "source": [
    "## 5. Common Methods in BeautifulSoup"
   ]
  },
  {
   "cell_type": "markdown",
   "id": "00aa1987",
   "metadata": {},
   "source": [
    "### 5.1 Accessing Elements"
   ]
  },
  {
   "cell_type": "code",
   "execution_count": null,
   "id": "ee7d500e",
   "metadata": {},
   "outputs": [],
   "source": [
    "# Access the first occurrence of a tag\n",
    "soup.h1\n",
    "\n",
    "# Get the text inside a tag\n",
    "soup.h1.text"
   ]
  },
  {
   "cell_type": "markdown",
   "id": "3687cd14",
   "metadata": {},
   "source": [
    "### 5.2 `find()` Method"
   ]
  },
  {
   "cell_type": "code",
   "execution_count": null,
   "id": "6ff2219a",
   "metadata": {},
   "outputs": [],
   "source": [
    "# Finds the first matching element\n",
    "soup.find(\"p\")\n",
    "\n",
    "# Find a tag with specific attributes\n",
    "soup.find(\"p\", class_=\"description\")"
   ]
  },
  {
   "cell_type": "markdown",
   "id": "a501f0b3",
   "metadata": {},
   "source": [
    "### 5.3 `find_all()` Method"
   ]
  },
  {
   "cell_type": "code",
   "execution_count": null,
   "id": "bc5ad860",
   "metadata": {},
   "outputs": [],
   "source": [
    "# Finds all matching elements\n",
    "soup.find_all(\"a\")"
   ]
  },
  {
   "cell_type": "markdown",
   "id": "a5df13d0",
   "metadata": {},
   "source": [
    "### 5.4 Using `select()` and `select_one()`"
   ]
  },
  {
   "cell_type": "code",
   "execution_count": null,
   "id": "ccd0c405",
   "metadata": {},
   "outputs": [],
   "source": [
    "# Select elements using CSS selectors\n",
    "soup.select_one(\"p.description\")\n",
    "\n",
    "soup.select(\"a\")"
   ]
  },
  {
   "cell_type": "markdown",
   "id": "d51c71fc",
   "metadata": {},
   "source": [
    "## 6. Extracting Attributes\n",
    "\n",
    "Get the value of an attribute, such as `href` from an `<a>` tag:"
   ]
  },
  {
   "cell_type": "code",
   "execution_count": null,
   "id": "49005967",
   "metadata": {},
   "outputs": [],
   "source": [
    "link = soup.find(\"a\")\n",
    "print(link[\"href\"])\n",
    "\n",
    "# Or using .get():\n",
    "print(link.get(\"href\"))"
   ]
  },
  {
   "cell_type": "markdown",
   "id": "a26a3101",
   "metadata": {},
   "source": [
    "## 7. Traversing the Tree"
   ]
  },
  {
   "cell_type": "code",
   "execution_count": null,
   "id": "a27791ec",
   "metadata": {},
   "outputs": [],
   "source": [
    "# Access parent elements\n",
    "soup.p.parent\n",
    "\n",
    "# Access children elements\n",
    "list(soup.body.children)\n",
    "\n",
    "# Find the next sibling\n",
    "soup.h1.find_next_sibling()"
   ]
  },
  {
   "cell_type": "markdown",
   "id": "81c402ef",
   "metadata": {},
   "source": [
    "## 8. Handling Missing Elements Safely"
   ]
  },
  {
   "cell_type": "code",
   "execution_count": null,
   "id": "ed3c67b3",
   "metadata": {},
   "outputs": [],
   "source": [
    "title_tag = soup.find(\"h1\")\n",
    "if title_tag:\n",
    "    print(title_tag.text)\n",
    "else:\n",
    "    print(\"Title not found\")"
   ]
  },
  {
   "cell_type": "markdown",
   "id": "7304a3e0",
   "metadata": {},
   "source": [
    "## 9. Summary\n",
    "\n",
    "- BeautifulSoup helps parse and navigate HTML easily.\n",
    "- Use `.find()`, `.find_all()`, `.select()`, and `.select_one()` to locate data.\n",
    "- Always inspect the website's structure before writing scraping logic.\n",
    "- Combine BeautifulSoup with `requests` for full scraping workflows."
   ]
  },
  {
   "cell_type": "code",
   "execution_count": 55,
   "id": "da5e27c9-0cc2-4b0c-b37a-c5f10f13485b",
   "metadata": {},
   "outputs": [
    {
     "name": "stdout",
     "output_type": "stream",
     "text": [
      "Title: A Light in the Attic\n",
      "Price: £51.77\n",
      "\n",
      "Title: Tipping the Velvet\n",
      "Price: £53.74\n",
      "\n",
      "Title: Soumission\n",
      "Price: £50.10\n",
      "\n",
      "Title: Sharp Objects\n",
      "Price: £47.82\n",
      "\n",
      "Title: Sapiens: A Brief History of Humankind\n",
      "Price: £54.23\n",
      "\n",
      "Title: The Requiem Red\n",
      "Price: £22.65\n",
      "\n",
      "Title: The Dirty Little Secrets of Getting Your Dream Job\n",
      "Price: £33.34\n",
      "\n",
      "Title: The Coming Woman: A Novel Based on the Life of the Infamous Feminist, Victoria Woodhull\n",
      "Price: £17.93\n",
      "\n",
      "Title: The Boys in the Boat: Nine Americans and Their Epic Quest for Gold at the 1936 Berlin Olympics\n",
      "Price: £22.60\n",
      "\n",
      "Title: The Black Maria\n",
      "Price: £52.15\n",
      "\n",
      "Title: Starving Hearts (Triangular Trade Trilogy, #1)\n",
      "Price: £13.99\n",
      "\n",
      "Title: Shakespeare's Sonnets\n",
      "Price: £20.66\n",
      "\n",
      "Title: Set Me Free\n",
      "Price: £17.46\n",
      "\n",
      "Title: Scott Pilgrim's Precious Little Life (Scott Pilgrim #1)\n",
      "Price: £52.29\n",
      "\n",
      "Title: Rip it Up and Start Again\n",
      "Price: £35.02\n",
      "\n",
      "Title: Our Band Could Be Your Life: Scenes from the American Indie Underground, 1981-1991\n",
      "Price: £57.25\n",
      "\n",
      "Title: Olio\n",
      "Price: £23.88\n",
      "\n",
      "Title: Mesaerion: The Best Science Fiction Stories 1800-1849\n",
      "Price: £37.59\n",
      "\n",
      "Title: Libertarianism for Beginners\n",
      "Price: £51.33\n",
      "\n",
      "Title: It's Only the Himalayas\n",
      "Price: £45.17\n",
      "\n"
     ]
    }
   ],
   "source": [
    "from bs4 import BeautifulSoup\n",
    "import requests\n",
    "\n",
    "url = \"https://books.toscrape.com/\"\n",
    "response = requests.get(url)\n",
    "\n",
    "soup = BeautifulSoup(response.text, \"html.parser\")     \n",
    "\n",
    "articles = soup.find_all(\"article\", class_=\"product_pod\")\n",
    "\n",
    "for article in articles:\n",
    "    title = article.find(\"h3\").find(\"a\").get(\"title\", \"No title found\")\n",
    "    price = article.select_one(\"p.price_color\").text.strip().split(\"£\")[1]\n",
    "    print(f\"Title: {title}\\nPrice: £{price}\\n\")\n"
   ]
  },
  {
   "cell_type": "code",
   "execution_count": null,
   "id": "95a30ae2-9082-416e-9cdc-c25f7f3347ac",
   "metadata": {},
   "outputs": [],
   "source": []
  }
 ],
 "metadata": {
  "kernelspec": {
   "display_name": "Python [conda env:base] *",
   "language": "python",
   "name": "conda-base-py"
  },
  "language_info": {
   "codemirror_mode": {
    "name": "ipython",
    "version": 3
   },
   "file_extension": ".py",
   "mimetype": "text/x-python",
   "name": "python",
   "nbconvert_exporter": "python",
   "pygments_lexer": "ipython3",
   "version": "3.12.7"
  }
 },
 "nbformat": 4,
 "nbformat_minor": 5
}
