


import pandas as pd


df = pd.read_csv("data.csv")


df


type(df['Actor'])


df[['Actor', 'IMDb']]


df.loc[1]


df.iloc[1]


df.loc[7, 'IMDb']


df.iloc[7, 5]


df.loc[0:2, ["Actor", "IMDb", "Film"]]


df.iloc[0:2, 0:2]


df.at[0, "Actor"]


df.iat[0, 0]


df[df['IMDb']>6]


df[(df['IMDb']>6) | (df['Year']>2018)]


df.query("Year > 2018 and IMDb >6")


df


df2 = df[['Actor', 'IMDb']].copy()


df2


df2.loc[0, 'Actor'] = "Harry"


df2


df



