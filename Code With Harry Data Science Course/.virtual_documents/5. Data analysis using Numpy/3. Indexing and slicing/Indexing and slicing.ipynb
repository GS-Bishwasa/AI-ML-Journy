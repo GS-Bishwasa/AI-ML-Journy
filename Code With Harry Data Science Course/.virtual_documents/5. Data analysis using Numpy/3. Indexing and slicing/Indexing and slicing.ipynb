


arr = np.array([10, 20, 30, 40])
print(arr[0])  # 10
print(arr[-1]) # 40





arr = np.array([10, 20, 30, 40, 50])

print(arr[1:4])  # [20 30 40] (slice from index 1 to 3)
print(arr[:3])   # [10 20 30] (first 3 elements)
print(arr[::2])  # [10 30 50] (every 2nd element)





sliced = arr[1:4]
sliced[0] = 999
print(arr)  # [10 999 30 40 50]





arr = np.array([10, 20, 30, 40, 50])
idx = [0, 2, 4]  # Indices to select
print(arr[idx])  # [10 30 50]





arr = np.array([10, 20, 30, 40, 50])
mask = arr > 25  # Condition: values greater than 25
print(arr[mask])  # [30 40 50]





arr = np.random.randint(0, 10, size=(3, 3))
arr.shape


arr = np.array([1.1,2.2,3.3])
arr.astype(np.int32)


arr = np.array([1,2,3,4,5,6])
indx = [1,3,5]
arr[indx]


arr = np.array([1,2,3,4,5,6,7,8,9])
arr.reshape((3,3))


arr = np.random.randint(0, 51)



