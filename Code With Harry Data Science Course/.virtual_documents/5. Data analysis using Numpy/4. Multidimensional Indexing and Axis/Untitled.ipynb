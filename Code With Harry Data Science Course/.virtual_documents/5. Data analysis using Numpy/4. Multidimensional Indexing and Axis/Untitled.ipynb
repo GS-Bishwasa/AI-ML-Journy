





import numpy as np

arr = np.array([[1, 2, 3], 
                [4, 5, 6], 
                [7, 8, 9]])

print(arr)

# Axis 0 (rows) → Operations move down the columns.
# Axis 1 (columns) → Operations move across the rows.





print(np.sum(arr, axis=0))  # Sum along rows (down each column)
print(np.sum(arr, axis=1))  # Sum along columns (across each row)





# Accessing an element
print(arr[1, 2])  # Row index 1, Column index 2 → Output: 6

# You can also use slicing to extract parts of an array:
print(arr[0:2, 1:3])  # Extracts first 2 rows and last 2 columns





arr3D = np.array([[[1, 2, 3], [4, 5, 6]],
                  [[7, 8, 9], [10, 11, 12]]])

# Output of arr3D.shape is → (depth, rows, columns)
print(arr3D.shape)  # Output: (2, 2, 3) 





# First sheet, second row, third column
print(arr3D[0, 1, 2])  # Output: 6

print(arr3D[:, 0, :])   # Get the first row from both sheets





# Get all rows of the first column
first_col = arr[:, 0]
print(first_col)  # Output: [1 4 7]


# Get the first row from each "sheet" in a 3D array
first_rows = arr3D[:, 0, :]
print(first_rows)





# Replace all elements in column 1 with 0
arr[:, 1] = 0
print(arr)



