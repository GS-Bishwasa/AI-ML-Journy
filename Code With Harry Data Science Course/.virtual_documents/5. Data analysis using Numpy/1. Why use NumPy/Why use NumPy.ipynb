


import numpy as np
import time

# Python list
size = 1_000_000
list1 = list(range(size))
list2 = list(range(size))

start = time.time()
result = [x + y for x, y in zip(list1, list2)]
end = time.time()
print("Python list addition time:", end - start)

# NumPy array
arr1 = np.array(list1)
arr2 = np.array(list2)

start = time.time()
result = arr1 + arr2  # Vectorized operation
end = time.time()
print("NumPy array addition time:", end - start)

#Key Takeaway: NumPy is significantly faster because it performs operations in C, avoiding Python loops.


# Harry Bhai Task
import numpy as np
import time

size  = 10_000

# Python list
l1 = list(range(size))
l2 = list(range(size))

start = time.time()
list_squares = [x ** 2 for x in l1]
end = time.time()

print(end - start)

# NumPy array
arr1 = np.array(list(range(size)))
arr2 = np.array(list(range(size)))

start = time.time()
numpy_squares = arr1 ** 2
end = time.time()

print(end - start)






import numpy as np

# Creating a 1D NumPy array
arr1 = np.array([1, 2, 3, 4, 5])
print(arr1)

# Creating a 2D NumPy array
arr2 = np.array([[1, 2, 3], [4, 5, 6]])
print(arr2)

# Checking type and shape
print("Type:", type(arr1))
print("Shape:", arr2.shape)





import sys

list_data = list(range(1000))
numpy_data = np.array(list_data)

print("Python list size:", sys.getsizeof(list_data) * len(list_data), "bytes")
print("NumPy array size:", numpy_data.nbytes, "bytes")





# Python list (loop-based)
list_squares = [x ** 2 for x in list1]

# NumPy (vectorized)
numpy_squares = arr1 ** 2
