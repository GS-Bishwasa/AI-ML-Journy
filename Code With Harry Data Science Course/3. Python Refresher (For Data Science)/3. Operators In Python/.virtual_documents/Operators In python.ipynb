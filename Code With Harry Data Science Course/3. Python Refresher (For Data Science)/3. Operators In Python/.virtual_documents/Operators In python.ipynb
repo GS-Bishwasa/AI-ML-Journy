


a = 11
b = 5


a + b


a-b


a *b


a/b


a//b


2**2


2**5


a**b


a%b


a = 45


b = 4


a<b


a>b


a>=b


c = 3


a == c # is a equal to c?


a != c


a = 5
b = 5


a == b


a>=b


a<=b


b1 = True
b2 = False


not(b1)


not(b2)


b1 or b2


b1 and b2


a = 45


a -=4


a


11//2


a = 11


a //=2


a



