a = 5


b = 35


ch = 'a'


a+b


str = "Harry"


print("Hello World")


# This is a comment
print(type(a))


print(type(str))


type(ch)


a = "66466"
b = "68785"


a+b


int(a)+int(b)



