{
 "cells": [
  {
   "cell_type": "code",
   "execution_count": 1,
   "id": "73a89d96-f0bb-4866-a254-c652eeb38324",
   "metadata": {},
   "outputs": [],
   "source": [
    "a = 5"
   ]
  },
  {
   "cell_type": "code",
   "execution_count": 3,
   "id": "0b45f977-f3f4-47b0-bc5c-9e54d4da63a3",
   "metadata": {},
   "outputs": [],
   "source": [
    "b = 35"
   ]
  },
  {
   "cell_type": "code",
   "execution_count": 17,
   "id": "e70ac110-f912-40ac-82a5-d2aec9ee09f2",
   "metadata": {},
   "outputs": [],
   "source": [
    "ch = 'a'"
   ]
  },
  {
   "cell_type": "code",
   "execution_count": 5,
   "id": "235ce241-89ce-4898-84ad-81d7159d587b",
   "metadata": {},
   "outputs": [
    {
     "data": {
      "text/plain": [
       "40"
      ]
     },
     "execution_count": 5,
     "metadata": {},
     "output_type": "execute_result"
    }
   ],
   "source": [
    "a+b"
   ]
  },
  {
   "cell_type": "code",
   "execution_count": 7,
   "id": "6e176f7e-2f55-4d12-8e01-28b5ac455618",
   "metadata": {},
   "outputs": [],
   "source": [
    "str = \"Harry\""
   ]
  },
  {
   "cell_type": "code",
   "execution_count": 9,
   "id": "b8a801ed-bd25-4227-a633-2b4e573047f9",
   "metadata": {},
   "outputs": [
    {
     "name": "stdout",
     "output_type": "stream",
     "text": [
      "Hello World\n"
     ]
    }
   ],
   "source": [
    "print(\"Hello World\")"
   ]
  },
  {
   "cell_type": "code",
   "execution_count": 11,
   "id": "a2897d35-c9da-490b-968c-21e33435b485",
   "metadata": {},
   "outputs": [
    {
     "name": "stdout",
     "output_type": "stream",
     "text": [
      "<class 'int'>\n"
     ]
    }
   ],
   "source": [
    "# This is a comment\n",
    "print(type(a))"
   ]
  },
  {
   "cell_type": "code",
   "execution_count": 15,
   "id": "5cb97350-3e9a-4ac8-aaf5-9b68ae93f98f",
   "metadata": {},
   "outputs": [
    {
     "name": "stdout",
     "output_type": "stream",
     "text": [
      "<class 'str'>\n"
     ]
    }
   ],
   "source": [
    "print(type(str))"
   ]
  },
  {
   "cell_type": "code",
   "execution_count": 21,
   "id": "0b85f981-f1d7-4eee-84a9-ed48c625183e",
   "metadata": {},
   "outputs": [
    {
     "data": {
      "text/plain": [
       "str"
      ]
     },
     "execution_count": 21,
     "metadata": {},
     "output_type": "execute_result"
    }
   ],
   "source": [
    "type(ch)"
   ]
  },
  {
   "cell_type": "code",
   "execution_count": 23,
   "id": "5ec34d14-b1cf-44ab-906c-7bc55b574567",
   "metadata": {},
   "outputs": [],
   "source": [
    "a = \"66466\"\n",
    "b = \"68785\""
   ]
  },
  {
   "cell_type": "code",
   "execution_count": 25,
   "id": "c636f638-b421-4146-9712-a692d4e5f938",
   "metadata": {},
   "outputs": [
    {
     "data": {
      "text/plain": [
       "'6646668785'"
      ]
     },
     "execution_count": 25,
     "metadata": {},
     "output_type": "execute_result"
    }
   ],
   "source": [
    "a+b"
   ]
  },
  {
   "cell_type": "code",
   "execution_count": 29,
   "id": "c0c0c759-f4f0-42e4-9af1-f5f9da874992",
   "metadata": {},
   "outputs": [
    {
     "data": {
      "text/plain": [
       "135251"
      ]
     },
     "execution_count": 29,
     "metadata": {},
     "output_type": "execute_result"
    }
   ],
   "source": [
    "# Typecasting In Python\n",
    "int(a)+int(b)"
   ]
  },
  {
   "cell_type": "code",
   "execution_count": null,
   "id": "89e696b8-bca7-4252-b7f7-8c7d87513cec",
   "metadata": {},
   "outputs": [],
   "source": []
  }
 ],
 "metadata": {
  "kernelspec": {
   "display_name": "Python [conda env:base] *",
   "language": "python",
   "name": "conda-base-py"
  },
  "language_info": {
   "codemirror_mode": {
    "name": "ipython",
    "version": 3
   },
   "file_extension": ".py",
   "mimetype": "text/x-python",
   "name": "python",
   "nbconvert_exporter": "python",
   "pygments_lexer": "ipython3",
   "version": "3.12.7"
  }
 },
 "nbformat": 4,
 "nbformat_minor": 5
}
