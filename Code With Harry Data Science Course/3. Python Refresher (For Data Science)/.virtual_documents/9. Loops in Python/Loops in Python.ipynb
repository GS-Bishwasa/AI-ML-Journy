


l = [3, 5, 6, 67]


for item in l:
    print(item)
    


for i in range(5, 11):
    print(i)


i = 0
while i<12:
    print(i)
    i = i + 1


for item in l:
    pass # Dont do anything

print("Hello")


l = ["apples", "bananas", "tomatoes"]
for item in l:
    if(item == "bananas"):
        break # Stop this loop right here
    print(item)


l = ["apples", "bananas", "tomatoes"]
for item in l:
    if(item == "bananas"):
        continue # Skip this particular iteration of the loop
    print(item)



