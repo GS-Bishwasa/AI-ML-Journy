


code = 2000


match code:
    case 200:
        print("Response Ok")
        print("Good job!")
    case 400:
        print("Bad Response")
    case 404:
        print("Not found")
    case _:
        print("Nothing matched")
print("End of Program")




