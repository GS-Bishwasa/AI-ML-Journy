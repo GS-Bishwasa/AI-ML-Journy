


s = "Harry"


s.upper()


s



name = "John"
age = 55
print("My name is {} and I am {} years old.".format(name, age))


print(f"My name is {name} and I am {age} years old.")


print(f"{'Python':<10}")


print(f"{'Python':<10}")  # Left-align
print(f"{'Python':>10}")  # Right-align
print(f"{'Python':^10}")  # Center-align



