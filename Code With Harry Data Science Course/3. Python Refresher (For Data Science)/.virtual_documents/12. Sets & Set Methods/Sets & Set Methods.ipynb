


a = {}


type(a)


b = set()


type(b)


s = {4, 3, 6, 2, 66, 4}


s


# Creating a set from a list
unique_numbers = set([1, 2, 2, 3, 4, 4, 5])
print(unique_numbers)  # {1, 2, 3, 4, 5}


s = {4, 3, 6, 2, 66, 4}


s.add(34)


s


s.update([4, 64, 233])


s


set1 = {1, 2, 3, 4}
set2 = {3, 4, 5, 6}


set1.union(set2)


set1


set2


set1.intersection(set2)


sub = {1, 3}


sub.issubset(set1)


set1.issuperset(sub)


s = {1,2,3,4,5,6,7}


s.remove(7)


s


s.remove(7)


s.discard(7)
