


l = [3, 5, 23, 3]


l[0] = 4


l


l


l.append(9)


l


l2 = [5, 7]


l.extend(l2)


l


l.insert(1, 200) # Insert 200 at index 1


l


number = l.pop(4)


number


l


l.index(4)


l.index(23)


l.append(4)


l


l.count(4)


l.sort() # changes and sorts the original list in ascending order


l


sorted(l)


newl = [2, 6, 1, 21, 6]


sorted(newl) # Returns a new list which is sorted version of the original list


newl


y = [1, 2, True, False, [4, 7]]


y


y[4]


y[4][1]


list1 = [4, 32, 12]


list2 = [3, 1, 8]


list1 + list2


list1


list2


if 33 in list2:
    print("Yes")


3 in list2


s = "jack-jill-shubham-kirti-javed-salman-akshay"


s.split("-")



