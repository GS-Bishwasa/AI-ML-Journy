


f = open("text.txt", "r")


f.read()


s = "This is a nice way to learn Data Science"


f.close()


f = open("harry.txt", "w")


f.write(s)


f.close()


with open("text.txt", "r") as file:
    content = file.read()
    print(content)  # No need to manually close the file


import os

if os.path.exists("text.txt"):
    print("File exists!")
else:
    print("File not found!")
