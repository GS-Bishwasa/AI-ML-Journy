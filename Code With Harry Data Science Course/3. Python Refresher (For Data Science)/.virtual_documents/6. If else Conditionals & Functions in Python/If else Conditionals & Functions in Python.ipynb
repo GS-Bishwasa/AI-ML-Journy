


a = 400


if(a>53):
    print("Greater")
else:
    print("Smaller")
    


a = 33
if a>50:
    print("greater than 50")
elif(a>40):
    print("greater than 40")
elif(a>30):
    print("Greater than 30")
else:
    print("Done!")
    
    





def avg(a, b=10):
    return (a+b)/2


avg(4, 6)


avg(4)


def greet():
    print("Hello good morning")


greet()


None



