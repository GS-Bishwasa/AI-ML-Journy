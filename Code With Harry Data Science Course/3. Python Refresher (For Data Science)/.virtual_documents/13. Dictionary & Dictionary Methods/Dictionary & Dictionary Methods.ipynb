


d = {}


type(d)


# Dictionary with key-value pairs
student = {
    "name": "Alice",
    "age": 25,
    "grade": "A"
}



student["name4"]


r = student.get("name4")


r


print(r)


# Dictionary with key-value pairs
student = {
    "name": "Alice",
    "age": 25,
    "grade": "A"
}


print(student["age"])


student["age"] = 67


print(student)


student.keys()


student.values()


student.items()


student.update({"name": "Harry"})


student


student.update({"name": "Ruchika", "language": "Python"})


student



