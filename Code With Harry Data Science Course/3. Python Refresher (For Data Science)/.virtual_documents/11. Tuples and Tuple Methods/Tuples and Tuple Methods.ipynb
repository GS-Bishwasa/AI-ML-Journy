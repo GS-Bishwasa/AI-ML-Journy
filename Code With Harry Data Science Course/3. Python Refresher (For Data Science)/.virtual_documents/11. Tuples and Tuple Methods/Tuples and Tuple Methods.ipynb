


e = ()


e


type(e)


l = []


type(l)


t = (5, 64, 23, 23)


t


len(t)


t[1]


t[0]


print(t[6])


t[1] = 34


# Packing
person = ("Alice", 25, "Engineer")

# Unpacking
name, age, profession = person


name


age


profession



