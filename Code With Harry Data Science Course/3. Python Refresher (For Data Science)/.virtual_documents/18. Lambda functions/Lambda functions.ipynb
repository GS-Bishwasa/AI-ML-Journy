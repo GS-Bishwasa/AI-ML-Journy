


cube = lambda x:x*x*x


cube(3)


s = lambda a, b: a+b


s(4, 6)



