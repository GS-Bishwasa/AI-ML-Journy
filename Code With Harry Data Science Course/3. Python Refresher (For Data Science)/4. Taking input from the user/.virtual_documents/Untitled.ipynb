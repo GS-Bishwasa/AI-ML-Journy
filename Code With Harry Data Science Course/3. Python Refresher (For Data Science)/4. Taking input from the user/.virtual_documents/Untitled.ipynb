name = input("Enter your name: ")


print("Hello", name)


age = int(input("Enter your age: "))
price = float(input("Enter the price: "))



