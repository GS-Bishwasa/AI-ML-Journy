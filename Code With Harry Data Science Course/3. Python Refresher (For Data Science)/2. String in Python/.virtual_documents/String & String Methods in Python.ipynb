name = "Harry"


name


name.upper()


name.endswith("ry")


name.endswith("jerry")


name.lower()


name.count("a")


name.count("r")


s = "CodeWithHarry"
print(len(s))  # Output: 13



s[0:5]


s[1:-1]


s[1:12]


s[-12:-1]


s[1:12]



