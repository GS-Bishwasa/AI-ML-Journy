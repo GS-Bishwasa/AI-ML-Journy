{
 "cells": [
  {
   "cell_type": "markdown",
   "id": "2f4f1331-4f27-4290-9eca-7093f1ea71d5",
   "metadata": {},
   "source": [
    "## Basics Of Python\n",
    "\n",
    "#### Various Datatypes\n",
    "#### Variables\n",
    "#### Variable Assignment\n",
    "#### Print Formatting"
   ]
  },
  {
   "cell_type": "code",
   "execution_count": 3,
   "id": "c54dc5e2-2ca9-44c2-88ca-5472869080b1",
   "metadata": {},
   "outputs": [
    {
     "data": {
      "text/plain": [
       "2"
      ]
     },
     "execution_count": 3,
     "metadata": {},
     "output_type": "execute_result"
    }
   ],
   "source": [
    "1+1"
   ]
  },
  {
   "cell_type": "code",
   "execution_count": 5,
   "id": "9e28949b-59dc-42d0-9f10-2b073b862c23",
   "metadata": {},
   "outputs": [
    {
     "data": {
      "text/plain": [
       "20"
      ]
     },
     "execution_count": 5,
     "metadata": {},
     "output_type": "execute_result"
    }
   ],
   "source": [
    "4*5"
   ]
  },
  {
   "cell_type": "code",
   "execution_count": 7,
   "id": "f4b38c17-6e2e-413d-9fde-d176bc8e48b2",
   "metadata": {},
   "outputs": [
    {
     "data": {
      "text/plain": [
       "5.0"
      ]
     },
     "execution_count": 7,
     "metadata": {},
     "output_type": "execute_result"
    }
   ],
   "source": [
    "10/2"
   ]
  },
  {
   "cell_type": "code",
   "execution_count": 15,
   "id": "1395d9f8-240d-458b-963e-a41d915900cf",
   "metadata": {},
   "outputs": [
    {
     "data": {
      "text/plain": [
       "100"
      ]
     },
     "execution_count": 15,
     "metadata": {},
     "output_type": "execute_result"
    }
   ],
   "source": [
    "10**2"
   ]
  },
  {
   "cell_type": "markdown",
   "id": "7c39dae8-2a21-4267-8f81-cc237e24d1de",
   "metadata": {},
   "source": [
    "#### Check Datatype"
   ]
  },
  {
   "cell_type": "code",
   "execution_count": 18,
   "id": "5a9360b7-2f82-4924-8dc0-b7fb10a8332c",
   "metadata": {},
   "outputs": [
    {
     "data": {
      "text/plain": [
       "int"
      ]
     },
     "execution_count": 18,
     "metadata": {},
     "output_type": "execute_result"
    }
   ],
   "source": [
    "type(1)"
   ]
  },
  {
   "cell_type": "code",
   "execution_count": 22,
   "id": "ac455c24-1c87-4202-aa14-8aa8c521f533",
   "metadata": {},
   "outputs": [
    {
     "data": {
      "text/plain": [
       "str"
      ]
     },
     "execution_count": 22,
     "metadata": {},
     "output_type": "execute_result"
    }
   ],
   "source": [
    "a = \"Str\"\n",
    "type(a)"
   ]
  },
  {
   "cell_type": "markdown",
   "id": "eef0dc9a-9222-4d9b-9d89-a626c5bd59a2",
   "metadata": {},
   "source": [
    "#### Stings"
   ]
  },
  {
   "cell_type": "code",
   "execution_count": 25,
   "id": "ace0beec-837f-48bf-af9a-79269b7a054f",
   "metadata": {},
   "outputs": [
    {
     "data": {
      "text/plain": [
       "'Hello World'"
      ]
     },
     "execution_count": 25,
     "metadata": {},
     "output_type": "execute_result"
    }
   ],
   "source": [
    "\"Hello World\""
   ]
  },
  {
   "cell_type": "markdown",
   "id": "2ad4d302-4668-42ab-b5ca-5fc8e4a5e35e",
   "metadata": {},
   "source": [
    "#### Variable Assignment"
   ]
  },
  {
   "cell_type": "code",
   "execution_count": 28,
   "id": "ba8e60e1-36b7-454c-8a8f-98c9c5422c00",
   "metadata": {},
   "outputs": [
    {
     "data": {
      "text/plain": [
       "int"
      ]
     },
     "execution_count": 28,
     "metadata": {},
     "output_type": "execute_result"
    }
   ],
   "source": [
    "b = 10\n",
    "type(b)"
   ]
  },
  {
   "cell_type": "code",
   "execution_count": 1,
   "id": "3d9e15e8-ff6d-41b7-bd24-9228d68f0e2b",
   "metadata": {},
   "outputs": [
    {
     "data": {
      "text/plain": [
       "str"
      ]
     },
     "execution_count": 1,
     "metadata": {},
     "output_type": "execute_result"
    }
   ],
   "source": [
    "c=\"str\"\n",
    "type(c)"
   ]
  },
  {
   "cell_type": "code",
   "execution_count": 3,
   "id": "af813dd8-57fc-428b-b023-30217e0805ed",
   "metadata": {},
   "outputs": [
    {
     "data": {
      "text/plain": [
       "float"
      ]
     },
     "execution_count": 3,
     "metadata": {},
     "output_type": "execute_result"
    }
   ],
   "source": [
    "d=13.5\n",
    "type(d)"
   ]
  },
  {
   "cell_type": "code",
   "execution_count": 17,
   "id": "865c1638-3aff-469c-826c-198199f6f040",
   "metadata": {},
   "outputs": [],
   "source": [
    "## Mathematical Operators\n",
    "a=10\n",
    "b=20"
   ]
  },
  {
   "cell_type": "code",
   "execution_count": 21,
   "id": "5b4ca9a4-f1be-4b52-9eb1-34d661a1f80e",
   "metadata": {},
   "outputs": [
    {
     "name": "stdout",
     "output_type": "stream",
     "text": [
      "-10\n",
      "200\n",
      "0.5\n",
      "-9.5\n"
     ]
    }
   ],
   "source": [
    "print(a-b)\n",
    "print(a*b)\n",
    "print(a/b)\n",
    "print((a-b)+(a/b)) ## BODMAS"
   ]
  },
  {
   "cell_type": "code",
   "execution_count": 19,
   "id": "1ddfa7f3-8f6a-43ba-adeb-6a98fcc9197b",
   "metadata": {},
   "outputs": [
    {
     "name": "stdout",
     "output_type": "stream",
     "text": [
      "Hello Worls\n"
     ]
    }
   ],
   "source": [
    "## Various ways to print\n",
    "\n",
    "print(\"Hello Worls\")"
   ]
  },
  {
   "cell_type": "code",
   "execution_count": 29,
   "id": "15626db7-1820-42c1-831a-45bd9448cd74",
   "metadata": {},
   "outputs": [],
   "source": [
    "first_name=\"GS\"\n",
    "last_name=\"Bishwasa\""
   ]
  },
  {
   "cell_type": "code",
   "execution_count": 31,
   "id": "6e0de981-2164-49aa-9e05-ad58b20a5b28",
   "metadata": {},
   "outputs": [
    {
     "name": "stdout",
     "output_type": "stream",
     "text": [
      "My First name is GS and last name is Bishwasa\n"
     ]
    }
   ],
   "source": [
    "print(\"My First name is {} and last name is {}\".format(first_name,last_name))"
   ]
  },
  {
   "cell_type": "code",
   "execution_count": 33,
   "id": "66649367-c792-4f69-8aa2-66c413d420cf",
   "metadata": {},
   "outputs": [
    {
     "name": "stdout",
     "output_type": "stream",
     "text": [
      "My First name is GS and last name is Bishwasa\n"
     ]
    }
   ],
   "source": [
    "print(\"My First name is {first} and last name is {last}\".format(first=first_name,last=last_name))"
   ]
  },
  {
   "cell_type": "code",
   "execution_count": 35,
   "id": "a9602072-c58e-41d6-802a-f8f1c78a0ede",
   "metadata": {},
   "outputs": [
    {
     "data": {
      "text/plain": [
       "5"
      ]
     },
     "execution_count": 35,
     "metadata": {},
     "output_type": "execute_result"
    }
   ],
   "source": [
    "len(\"Hello\")"
   ]
  },
  {
   "cell_type": "code",
   "execution_count": 37,
   "id": "073b83fa-7451-438b-b596-866cbc7d0efa",
   "metadata": {},
   "outputs": [
    {
     "data": {
      "text/plain": [
       "list"
      ]
     },
     "execution_count": 37,
     "metadata": {},
     "output_type": "execute_result"
    }
   ],
   "source": [
    "type(['1',2,3,4,5])"
   ]
  },
  {
   "cell_type": "code",
   "execution_count": null,
   "id": "4cc98587-5124-4195-a445-b19ab1914744",
   "metadata": {},
   "outputs": [],
   "source": []
  }
 ],
 "metadata": {
  "kernelspec": {
   "display_name": "Python [conda env:base] *",
   "language": "python",
   "name": "conda-base-py"
  },
  "language_info": {
   "codemirror_mode": {
    "name": "ipython",
    "version": 3
   },
   "file_extension": ".py",
   "mimetype": "text/x-python",
   "name": "python",
   "nbconvert_exporter": "python",
   "pygments_lexer": "ipython3",
   "version": "3.12.7"
  }
 },
 "nbformat": 4,
 "nbformat_minor": 5
}
