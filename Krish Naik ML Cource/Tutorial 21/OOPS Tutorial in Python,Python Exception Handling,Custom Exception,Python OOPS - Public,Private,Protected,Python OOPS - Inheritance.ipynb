{
 "cells": [
  {
   "cell_type": "markdown",
   "id": "6f7749ee-760a-4f43-8019-2e8d53c925e8",
   "metadata": {},
   "source": [
    "## OOPS Tutorial in Python"
   ]
  },
  {
   "cell_type": "code",
   "execution_count": 36,
   "id": "fe841bfb-f6bc-4d34-b444-726f37d95b95",
   "metadata": {},
   "outputs": [],
   "source": [
    "class car:\n",
    "      \n",
    "    def self_driving(self):\n",
    "        return \"This is a {} car\".format(self.enginetype)"
   ]
  },
  {
   "cell_type": "code",
   "execution_count": 38,
   "id": "aea65fc7-5d6c-4c65-ae9d-66bfcd3a4cc6",
   "metadata": {},
   "outputs": [],
   "source": [
    "car1 = car(4,5,\"Petrol\")"
   ]
  },
  {
   "cell_type": "code",
   "execution_count": 44,
   "id": "f98f8f59-141b-4c5e-8cb8-c3515bf4ac26",
   "metadata": {},
   "outputs": [
    {
     "data": {
      "text/plain": [
       "'This is a Petrol car'"
      ]
     },
     "execution_count": 44,
     "metadata": {},
     "output_type": "execute_result"
    }
   ],
   "source": [
    "car1.self_driving()"
   ]
  },
  {
   "cell_type": "code",
   "execution_count": 32,
   "id": "ef98827a-37c4-4fc7-99a4-670316d97f65",
   "metadata": {},
   "outputs": [],
   "source": [
    "car2 = car(3,4,\"diseal\")"
   ]
  },
  {
   "cell_type": "code",
   "execution_count": 30,
   "id": "a7160940-2862-4ff5-9c9c-a07cfbebdd3b",
   "metadata": {},
   "outputs": [
    {
     "data": {
      "text/plain": [
       "<__main__.car at 0x141d76233e0>"
      ]
     },
     "execution_count": 30,
     "metadata": {},
     "output_type": "execute_result"
    }
   ],
   "source": [
    "car1"
   ]
  },
  {
   "cell_type": "code",
   "execution_count": 8,
   "id": "b6fe2286-510d-4001-b873-ee36a91ee684",
   "metadata": {},
   "outputs": [],
   "source": [
    "car1.windows=5\n",
    "car1.doors=4"
   ]
  },
  {
   "cell_type": "code",
   "execution_count": 10,
   "id": "be5a7797-30f7-43c8-b0bc-1c79ab1869cc",
   "metadata": {},
   "outputs": [
    {
     "data": {
      "text/plain": [
       "5"
      ]
     },
     "execution_count": 10,
     "metadata": {},
     "output_type": "execute_result"
    }
   ],
   "source": [
    "car1.windows"
   ]
  },
  {
   "cell_type": "code",
   "execution_count": 12,
   "id": "92251f28-319c-4962-981b-f192161e0dcb",
   "metadata": {},
   "outputs": [],
   "source": [
    "car2=car()"
   ]
  },
  {
   "cell_type": "code",
   "execution_count": 14,
   "id": "2324fe05-702d-4015-b60b-ddd07b920a01",
   "metadata": {},
   "outputs": [],
   "source": [
    "car2.windows=3"
   ]
  },
  {
   "cell_type": "code",
   "execution_count": 16,
   "id": "a49bba0a-b546-4ffc-9a5d-c27e1f6e3f43",
   "metadata": {},
   "outputs": [
    {
     "data": {
      "text/plain": [
       "3"
      ]
     },
     "execution_count": 16,
     "metadata": {},
     "output_type": "execute_result"
    }
   ],
   "source": [
    "car2.windows"
   ]
  },
  {
   "cell_type": "code",
   "execution_count": 18,
   "id": "5c2e767c-3d18-41dd-9ae2-0655db6177a2",
   "metadata": {},
   "outputs": [],
   "source": [
    "car2.enginetype=\"Petrol\""
   ]
  },
  {
   "cell_type": "code",
   "execution_count": 20,
   "id": "de0ca29f-d3ff-48df-905e-cea1b53c800f",
   "metadata": {},
   "outputs": [
    {
     "data": {
      "text/plain": [
       "'Petrol'"
      ]
     },
     "execution_count": 20,
     "metadata": {},
     "output_type": "execute_result"
    }
   ],
   "source": [
    "car2.enginetype"
   ]
  },
  {
   "cell_type": "markdown",
   "id": "e7b27f35-d0f8-421c-b972-f861603e1b91",
   "metadata": {},
   "source": [
    "## Python Exception Handling\n",
    "##### just like try catch in other lagauges"
   ]
  },
  {
   "cell_type": "code",
   "execution_count": 55,
   "id": "f079765b-b26f-49b1-af21-e85317c65810",
   "metadata": {},
   "outputs": [
    {
     "name": "stdout",
     "output_type": "stream",
     "text": [
      "Try to make datatype similar\n"
     ]
    }
   ],
   "source": [
    "## try except\n",
    "try:\n",
    "    a=1\n",
    "    b='str'\n",
    "    c=a+b\n",
    "except NameError:\n",
    "    print(\"The User have not defined the variable\")\n",
    "except TypeError:\n",
    "    print(\"Try to make datatype similar\")    \n",
    "except Exception as ex:\n",
    "    print(ex)"
   ]
  },
  {
   "cell_type": "code",
   "execution_count": 64,
   "id": "d2392b6d-0ba4-4317-ad74-907d8db5f9ef",
   "metadata": {},
   "outputs": [
    {
     "name": "stdin",
     "output_type": "stream",
     "text": [
      "Enter a number 1 1\n",
      "Enter a number 2 3\n"
     ]
    },
    {
     "name": "stdout",
     "output_type": "stream",
     "text": [
      "0.3333333333333333\n",
      "3\n"
     ]
    }
   ],
   "source": [
    "## try else\n",
    "try:\n",
    "    a=int(input(\"Enter a number 1\"))\n",
    "    b=int(input(\"Enter a number 2\"))\n",
    "    c=a/b\n",
    "    d=a*b\n",
    "except NameError:\n",
    "    print(\"The User have not defined the variable\")\n",
    "except Exception as ex:\n",
    "    print(ex)\n",
    "else:\n",
    "     print(c)\n",
    "     print(d)"
   ]
  },
  {
   "cell_type": "code",
   "execution_count": 66,
   "id": "3cb65a3f-cb8e-4c18-b050-e22fc22985a8",
   "metadata": {},
   "outputs": [
    {
     "name": "stdin",
     "output_type": "stream",
     "text": [
      "Enter a number 1 15\n",
      "Enter a number 2 5\n"
     ]
    },
    {
     "name": "stdout",
     "output_type": "stream",
     "text": [
      "20\n",
      "The execution is done\n"
     ]
    }
   ],
   "source": [
    "## try else finally\n",
    "try:\n",
    "    a=int(input(\"Enter a number 1\"))\n",
    "    b=int(input(\"Enter a number 2\"))\n",
    "    c=a+b\n",
    "except NameError:\n",
    "    print(\"The User have not defined the variable\")\n",
    "except Exception as ex:\n",
    "    print(ex)\n",
    "else:\n",
    "     print(c)\n",
    "finally:\n",
    "    print(\"The execution is done\")"
   ]
  },
  {
   "cell_type": "markdown",
   "id": "f6ef0015-2e88-4242-93ec-7095b20208ce",
   "metadata": {},
   "source": [
    "## Custom Exception"
   ]
  },
  {
   "cell_type": "code",
   "execution_count": 73,
   "id": "894a91ce-5aec-47d8-9819-aafefa262bdb",
   "metadata": {},
   "outputs": [],
   "source": [
    "class Error(Exception):\n",
    "     pass\n",
    "\n",
    "class dobException(Error):\n",
    "    pass"
   ]
  },
  {
   "cell_type": "code",
   "execution_count": 85,
   "id": "7cbc8e03-d539-48a2-98f3-563bfeafc835",
   "metadata": {},
   "outputs": [
    {
     "name": "stdin",
     "output_type": "stream",
     "text": [
      "Enter the year of Birth 2004\n"
     ]
    },
    {
     "name": "stdout",
     "output_type": "stream",
     "text": [
      "Age is valid\n"
     ]
    }
   ],
   "source": [
    "year=int(input(\"Enter the year of Birth\"))\n",
    "age = 2024 - year\n",
    "try:\n",
    "    if age<=30 & age>=20:\n",
    "        print(\"Age is valid\")\n",
    "    else:\n",
    "        raise dobException\n",
    "except dobException:\n",
    "    print(\"Year age is not valid\")"
   ]
  },
  {
   "cell_type": "markdown",
   "id": "38db92e7-9f03-4047-8e07-7b66e09a580b",
   "metadata": {},
   "source": [
    "## Python OOPS - Public,Private,Protected"
   ]
  },
  {
   "cell_type": "code",
   "execution_count": 105,
   "id": "cd90bd94-e7ac-4e4e-99ad-139511df329a",
   "metadata": {},
   "outputs": [],
   "source": [
    "### All the class variables are public\n",
    "class Car():\n",
    "     def __init__(self,window,door,enginetype):\n",
    "        self.windows = window\n",
    "        self.doors=door\n",
    "        self.enginetype=enginetype"
   ]
  },
  {
   "cell_type": "code",
   "execution_count": 107,
   "id": "63a4beba-4e4b-4463-8bdb-343097f8c106",
   "metadata": {},
   "outputs": [],
   "source": [
    "audi=Car(4,5,\"Diseal\")"
   ]
  },
  {
   "cell_type": "code",
   "execution_count": 113,
   "id": "5ed4c806-90e0-49da-9633-791a11daa787",
   "metadata": {},
   "outputs": [],
   "source": [
    "### All the class variables are protected\n",
    "class Car():\n",
    "     def __init__(self,window,door,enginetype):\n",
    "        self._windows = window\n",
    "        self._doors=door\n",
    "        self._enginetype=enginetype"
   ]
  },
  {
   "cell_type": "code",
   "execution_count": 123,
   "id": "cb8c340b-0f6c-4457-ac5c-8de27fd03a5b",
   "metadata": {},
   "outputs": [],
   "source": [
    "class truck(Car):\n",
    "     def __init__(self,windows,doors,enginetype,horsepower):\n",
    "         super().__init__(windows,doors,enginetype)\n",
    "         self.horsepower=horsepower"
   ]
  },
  {
   "cell_type": "code",
   "execution_count": 125,
   "id": "7dd330ae-6206-441d-902c-72f5ac2de1c5",
   "metadata": {},
   "outputs": [],
   "source": [
    "Truck=truck(4,4,\"diseal\",4000)"
   ]
  },
  {
   "cell_type": "code",
   "execution_count": null,
   "id": "88393854-67be-4a84-8544-b3e2abec2692",
   "metadata": {},
   "outputs": [],
   "source": [
    "### All the class variables are private\n",
    "class Car():\n",
    "     def __init__(self,window,door,enginetype):\n",
    "        self.__windows = window\n",
    "        self.__doors=door\n",
    "        self.__enginetype=enginetype"
   ]
  },
  {
   "cell_type": "markdown",
   "id": "89ce21a2-31e5-4bef-983a-3b7ef87740a2",
   "metadata": {},
   "source": [
    "## Python OOPS - Inheritance"
   ]
  },
  {
   "cell_type": "code",
   "execution_count": 176,
   "id": "4ee1699b-cb19-4aa7-8bfd-caa93ccbd3ae",
   "metadata": {},
   "outputs": [],
   "source": [
    "### All the class variables are public\n",
    "class Car():\n",
    "     def __init__(self,window,door,enginetype):\n",
    "        self.windows = window\n",
    "        self.doors=door\n",
    "        self.enginetype=enginetype\n",
    "     def drive(self):\n",
    "       print(\"The Person Drive The Car\")"
   ]
  },
  {
   "cell_type": "code",
   "execution_count": 182,
   "id": "ec181cc9-2567-4d27-a879-f1bd3590661b",
   "metadata": {},
   "outputs": [],
   "source": [
    "car=Car(4,5,\"Diseal\")"
   ]
  },
  {
   "cell_type": "code",
   "execution_count": 184,
   "id": "7bcb2460-af33-473e-a6ff-86839268582c",
   "metadata": {},
   "outputs": [
    {
     "name": "stdout",
     "output_type": "stream",
     "text": [
      "The Person Drive The Car\n"
     ]
    }
   ],
   "source": [
    "car.drive()"
   ]
  },
  {
   "cell_type": "code",
   "execution_count": 190,
   "id": "6ecafebf-bcc6-4cff-8e61-6b878a47bd0d",
   "metadata": {},
   "outputs": [],
   "source": [
    "class audi(Car):\n",
    "    def __init__(self,windows,doors,enginetype,ai):\n",
    "        super().__init__(windows,doors,enginetype)\n",
    "        self.ai=ai"
   ]
  },
  {
   "cell_type": "code",
   "execution_count": 192,
   "id": "4de727ed-5b37-485c-b724-f77fc3974e95",
   "metadata": {},
   "outputs": [],
   "source": [
    "audi1=audi(5,5,\"Diseal\",True)"
   ]
  },
  {
   "cell_type": "code",
   "execution_count": 196,
   "id": "0644df32-49f3-43a6-9718-c961447b51fc",
   "metadata": {},
   "outputs": [
    {
     "data": {
      "text/plain": [
       "5"
      ]
     },
     "execution_count": 196,
     "metadata": {},
     "output_type": "execute_result"
    }
   ],
   "source": [
    "audi1.windows"
   ]
  },
  {
   "cell_type": "code",
   "execution_count": 198,
   "id": "13f1651d-5f87-42e2-98b4-7316aa493673",
   "metadata": {},
   "outputs": [
    {
     "name": "stdout",
     "output_type": "stream",
     "text": [
      "The Person Drive The Car\n"
     ]
    }
   ],
   "source": [
    "audi1.drive()"
   ]
  }
 ],
 "metadata": {
  "kernelspec": {
   "display_name": "Python [conda env:base] *",
   "language": "python",
   "name": "conda-base-py"
  },
  "language_info": {
   "codemirror_mode": {
    "name": "ipython",
    "version": 3
   },
   "file_extension": ".py",
   "mimetype": "text/x-python",
   "name": "python",
   "nbconvert_exporter": "python",
   "pygments_lexer": "ipython3",
   "version": "3.12.7"
  }
 },
 "nbformat": 4,
 "nbformat_minor": 5
}
